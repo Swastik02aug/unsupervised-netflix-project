{
  "nbformat": 4,
  "nbformat_minor": 0,
  "metadata": {
    "colab": {
      "private_outputs": true,
      "provenance": [],
      "collapsed_sections": [
        "FJNUwmbgGyua",
        "w6K7xa23Elo4",
        "mDgbUHAGgjLW",
        "H0kj-8xxnORC",
        "lQ7QKXXCp7Bj",
        "448CDAPjqfQr",
        "t6dVpIINYklI",
        "ijmpgYnKYklI",
        "-JiQyfWJYklI",
        "85gYPyotYoAp",
        "RoGjAbkUYoAp",
        "r2jJGEOYphqO",
        "X_VqEhTip1ck",
        "n3dbpmDWp1ck",
        "ylSl6qgtp1ck",
        "ZWILFDl5p1ck",
        "M7G43BXep1ck",
        "E6MkPsBcp1cl",
        "g-ATYxFrGrvw",
        "Yfr_Vlr8HBkt",
        "8yEUt7NnHlrM",
        "tEA2Xm5dHt1r",
        "I79__PHVH19G",
        "Ou-I18pAyIpj",
        "fF3858GYyt-u",
        "4_0_7-oCpUZd",
        "hwyV_J3ipUZe",
        "3yB-zSqbpUZe",
        "dEUvejAfpUZe",
        "Fd15vwWVpUZf",
        "bn_IUdTipZyH",
        "49K5P_iCpZyH",
        "Nff-vKELpZyI",
        "kLW572S8pZyI",
        "dWbDXHzopZyI",
        "yLjJCtPM0KBk",
        "xiyOF9F70UgQ",
        "7wuGOrhz0itI",
        "Iwf50b-R2tYG",
        "GMQiZwjn3iu7",
        "WVIkgGqN3qsr",
        "XkPnILGE3zoT",
        "mT9DMSJo4nBL",
        "9ExmJH0g5HBk",
        "cJNqERVU536h",
        "T0VqWOYE6DLQ",
        "qBMux9mC6MCf",
        "rMDnDkt2B6du",
        "yiiVWRdJDDil",
        "1UUpS68QDMuG",
        "kexQrXU-DjzY",
        "T5CmagL3EC8N",
        "VfCC591jGiD4",
        "OB4l2ZhMeS1U",
        "ArJBuiUVfxKd",
        "dJ2tPlVmpsJ0",
        "JWYfwnehpsJ1",
        "Fze-IPXLpx6K",
        "cBFFvTBNJzUa",
        "EyNgTHvd2WFk",
        "-Kee-DAl2viO",
        "gCX9965dhzqZ",
        "gIfDvo9L0UH2"
      ],
      "include_colab_link": true
    },
    "kernelspec": {
      "name": "python3",
      "display_name": "Python 3"
    },
    "language_info": {
      "name": "python"
    }
  },
  "cells": [
    {
      "cell_type": "markdown",
      "metadata": {
        "id": "view-in-github",
        "colab_type": "text"
      },
      "source": [
        "<a href=\"https://colab.research.google.com/github/Swastik02aug/unsupervised-netflix-project/blob/main/ML_Submission.ipynb\" target=\"_parent\"><img src=\"https://colab.research.google.com/assets/colab-badge.svg\" alt=\"Open In Colab\"/></a>"
      ]
    },
    {
      "cell_type": "markdown",
      "source": [
        "# **Project Name**    - Netflix Movies and TV Shows: Clustering\n",
        "\n"
      ],
      "metadata": {
        "id": "vncDsAP0Gaoa"
      }
    },
    {
      "cell_type": "markdown",
      "source": [
        "\n",
        "##### **Project Type**    - Unsupervised\n",
        "##### **Contribution**    - Individual\n",
        "##### **Name -Swastik Chaurasia**\n"
      ],
      "metadata": {
        "id": "beRrZCGUAJYm"
      }
    },
    {
      "cell_type": "markdown",
      "source": [
        "# **Project Summary -**"
      ],
      "metadata": {
        "id": "FJNUwmbgGyua"
      }
    },
    {
      "cell_type": "markdown",
      "source": [
        "This dataset consists of tv shows and movies available on Netflix as of 2019. The dataset is collected from Flixable which is a third-party Netflix search engine. In 2018, they released an interesting report which shows that the number of TV shows on Netflix has nearly tripled since 2010. The streaming service's number of movies has decreased by more than 2,000 titles since 2010, while its number of TV shows has nearly tripled. It will be interesting to explore what all other insights can be obtained from the same dataset.\n",
        "\n",
        "Approaches:-\n",
        "\n",
        "Step 1 - Viewing and cleaning data being the initials, we started with importing necessary libraries, mounting drive and storing data in variables for deriving meaningful insights. Next step being data analysis and visualization, where we analyzed our data distribution as univariate, bivariate and multivariate plots. Multicollinearity check was performed.\n",
        "\n",
        "Step 2 - We performed 3 hypothesis testing one comparing means for two variavles using T-test , second was asssociation of target age and country using chi_square test, last was asssociation of target age and duration using chi_square test.\n",
        "\n",
        "Step 3 - Presence of null values would have created possible errors in the further steps, so we replaced few values with null, few with the word \"unknown\" few were dropped.\n",
        "\n",
        "Step 4 - As a part of feature engineering we have done textual data processing which includes:expand contraction, lower casing, removing punctuations and stopwords, normalization,and vectoriztion. We performed data scaling using standardscalar, and dimensionality reduction using PCA.\n",
        "\n",
        "Step 5 - Last step was to perform clustering using different algorithms, we tried K-Means, ElbowCurve, DBSCAN, Dendogram, Agglomerative Clustering. Recommendation system function was also developed."
      ],
      "metadata": {
        "id": "F6v_1wHtG2nS"
      }
    },
    {
      "cell_type": "markdown",
      "source": [
        "# **GitHub Link -**"
      ],
      "metadata": {
        "id": "w6K7xa23Elo4"
      }
    },
    {
      "cell_type": "markdown",
      "source": [
        "Provide your GitHub Link here.\n",
        "https://github.com/Swastik02aug/unsupervised-netflix-project/blob/main/ML_Submission.ipynb"
      ],
      "metadata": {
        "id": "h1o69JH3Eqqn"
      }
    },
    {
      "cell_type": "markdown",
      "source": [
        "# **Problem Statement**\n"
      ],
      "metadata": {
        "id": "yQaldy8SH6Dl"
      }
    },
    {
      "cell_type": "markdown",
      "source": [
        "This dataset consists of tv shows and movies available on Netflix as of 2019. The dataset is collected from Flixable which is a third-party Netflix search.\n",
        "In 2018, they released an interesting report which shows that the number of TV shows on Netflix has nearly tripled since 2010. The streaming service’s number of movies has decreased by more than 2,000 titles since 2010, while its number of TV shows has nearly tripled. It will be interesting to explore what all other insights can be obtained from the same dataset.\n",
        "Integrating this dataset with other external datasets such as IMDB ratings, rotten tomatoes can also provide many interesting findings.\n",
        "\n",
        "In this project, we are required to do Exploratory Data Analysis\n",
        "\n",
        "Understanding what type content is available in different countries\n",
        "\n",
        "Is Netflix has increasingly focusing on TV rather than movies in recent years.\n",
        "\n",
        "Clustering similar content by matching text-based features.\n",
        "\n",
        "Attribute Information Show_id : Unique ID for every Movie / Tv Show\n",
        "\n",
        "Type : Identifier - A Movie or TV Show\n",
        "\n",
        "Title : Title of the Movie / Tv Show\n",
        "\n",
        "Director : Director of the Movie\n",
        "\n",
        "Cast : Actors involved in the movie / show\n",
        "\n",
        "Country : Country where the movie / show was produced\n",
        "\n",
        "Date_added : Date it was added on Netflix\n",
        "\n",
        "Release_year : Actual Releaseyear of the movie / show\n",
        "\n",
        "Rating : TV Rating of the movie / show\n",
        "\n",
        "Duration : Total Duration - in minutes or number of seasons\n",
        "\n",
        "Listed_in : Genere\n",
        "\n",
        "Description: The Summary description"
      ],
      "metadata": {
        "id": "DpeJGUA3kjGy"
      }
    },
    {
      "cell_type": "markdown",
      "source": [
        "# **General Guidelines** : -  "
      ],
      "metadata": {
        "id": "mDgbUHAGgjLW"
      }
    },
    {
      "cell_type": "markdown",
      "source": [
        "1.   Well-structured, formatted, and commented code is required. \n",
        "2.   Exception Handling, Production Grade Code & Deployment Ready Code will be a plus. Those students will be awarded some additional credits. \n",
        "     \n",
        "     The additional credits will have advantages over other students during Star Student selection.\n",
        "       \n",
        "             [ Note: - Deployment Ready Code is defined as, the whole .ipynb notebook should be executable in one go\n",
        "                       without a single error logged. ]\n",
        "\n",
        "3.   Each and every logic should have proper comments.\n",
        "4. You may add as many number of charts you want. Make Sure for each and every chart the following format should be answered.\n",
        "        \n",
        "\n",
        "```\n",
        "# Chart visualization code\n",
        "```\n",
        "            \n",
        "\n",
        "*   Why did you pick the specific chart?\n",
        "*   What is/are the insight(s) found from the chart?\n",
        "* Will the gained insights help creating a positive business impact? \n",
        "Are there any insights that lead to negative growth? Justify with specific reason.\n",
        "\n",
        "5. You have to create at least 15 logical & meaningful charts having important insights.\n",
        "\n",
        "\n",
        "[ Hints : - Do the Vizualization in  a structured way while following \"UBM\" Rule. \n",
        "\n",
        "U - Univariate Analysis,\n",
        "\n",
        "B - Bivariate Analysis (Numerical - Categorical, Numerical - Numerical, Categorical - Categorical)\n",
        "\n",
        "M - Multivariate Analysis\n",
        " ]\n",
        "\n",
        "\n",
        "\n",
        "\n",
        "\n",
        "6. You may add more ml algorithms for model creation. Make sure for each and every algorithm, the following format should be answered.\n",
        "\n",
        "\n",
        "*   Explain the ML Model used and it's performance using Evaluation metric Score Chart.\n",
        "\n",
        "\n",
        "*   Cross- Validation & Hyperparameter Tuning\n",
        "\n",
        "*   Have you seen any improvement? Note down the improvement with updates Evaluation metric Score Chart.\n",
        "\n",
        "*   Explain each evaluation metric's indication towards business and the business impact pf the ML model used.\n",
        "\n",
        "\n",
        "\n",
        "\n",
        "\n",
        "\n",
        "\n",
        "\n",
        "\n",
        "\n",
        "\n",
        "\n",
        "\n",
        "\n",
        "\n",
        "\n",
        "\n",
        "\n"
      ],
      "metadata": {
        "id": "ZrxVaUj-hHfC"
      }
    },
    {
      "cell_type": "markdown",
      "source": [
        "# ***Let's Begin !***"
      ],
      "metadata": {
        "id": "O_i_v8NEhb9l"
      }
    },
    {
      "cell_type": "markdown",
      "source": [
        "## ***1. Know Your Data***"
      ],
      "metadata": {
        "id": "HhfV-JJviCcP"
      }
    },
    {
      "cell_type": "markdown",
      "source": [
        "### Import Libraries"
      ],
      "metadata": {
        "id": "Y3lxredqlCYt"
      }
    },
    {
      "cell_type": "code",
      "source": [
        "# Import Libraries\n",
        "!pip install xplotter --upgrade\n",
        "!pip install pycountry-convert\n",
        "!pip install geopy\n",
        "!pip install folium\n",
        "!pip install geopandas\n",
        "###################\n",
        "import pandas as pd\n",
        "import numpy as np\n",
        "\n",
        "import missingno as msno\n",
        "\n",
        "import seaborn as sns\n",
        "import matplotlib.pyplot as plt\n",
        "import plotly.express as px\n",
        "import plotly.graph_objects as go\n",
        "from plotly.subplots import make_subplots\n",
        "import matplotlib.cm as cm\n",
        "\n",
        "\n",
        "\n",
        "%matplotlib inline\n",
        "\n",
        "# Importing Date & Time util modules\n",
        "from dateutil.parser import parse\n",
        "\n",
        "import collections as c\n",
        "\n",
        "\n",
        "import re\n",
        "import nltk\n",
        "nltk.download('stopwords')\n",
        "from nltk.corpus import stopwords\n",
        "from wordcloud import WordCloud, STOPWORDS\n",
        "\n",
        "#for nlp\n",
        "from sklearn import preprocessing\n",
        "from sklearn.feature_extraction.text import CountVectorizer, TfidfVectorizer\n",
        "from sklearn.feature_extraction.text import TfidfTransformer\n",
        "from sklearn.model_selection import train_test_split, KFold\n",
        "from nltk.corpus import stopwords\n",
        "from nltk.stem.snowball import SnowballStemmer\n",
        "import string\n",
        "string.punctuation\n",
        "nltk.download('omw-1.4')\n",
        "from nltk.tokenize import TweetTokenizer\n",
        "from bs4 import BeautifulSoup\n",
        "from nltk import word_tokenize, sent_tokenize\n",
        "from nltk.stem import LancasterStemmer, WordNetLemmatizer\n",
        "\n",
        "from sklearn.preprocessing import LabelEncoder\n",
        "from sklearn.preprocessing import StandardScaler\n",
        "from sklearn import metrics\n",
        "from sklearn.decomposition import PCA\n",
        "\n",
        "from sklearn.metrics import silhouette_score\n",
        "from sklearn.cluster import KMeans\n",
        "from sklearn.metrics import silhouette_samples\n",
        "import scipy.cluster.hierarchy as sch\n",
        "\n",
        "\n",
        "import warnings\n",
        "warnings.filterwarnings('ignore')\n",
        "%matplotlib inline\n",
        "\n",
        "# Importing Date & Time util modules\n",
        "from dateutil.parser import parse\n",
        "\n",
        "import collections as c\n",
        "\n",
        "\n",
        "# Xplotter\n",
        "from xplotter.insights import *\n",
        "from xplotter.formatter import format_spines\n"
      ],
      "metadata": {
        "id": "M8Vqi-pPk-HR"
      },
      "execution_count": null,
      "outputs": []
    },
    {
      "cell_type": "markdown",
      "source": [
        "### Dataset Loading"
      ],
      "metadata": {
        "id": "3RnN4peoiCZX"
      }
    },
    {
      "cell_type": "code",
      "source": [
        "# Load Dataset\n",
        "from google.colab import drive\n",
        "drive.mount('/content/drive/')\n",
        "\n"
      ],
      "metadata": {
        "id": "4CkvbW_SlZ_R"
      },
      "execution_count": null,
      "outputs": []
    },
    {
      "cell_type": "code",
      "source": [
        "df=pd.read_csv('/content/drive/MyDrive/unsupervised netflix project/NETFLIX MOVIES AND TV SHOWS CLUSTERING.csv')"
      ],
      "metadata": {
        "id": "30k1MZSHpKGn"
      },
      "execution_count": null,
      "outputs": []
    },
    {
      "cell_type": "markdown",
      "source": [
        "### Dataset First View"
      ],
      "metadata": {
        "id": "x71ZqKXriCWQ"
      }
    },
    {
      "cell_type": "code",
      "source": [
        "# Dataset First Look\n",
        "df.head(10)"
      ],
      "metadata": {
        "id": "LWNFOSvLl09H"
      },
      "execution_count": null,
      "outputs": []
    },
    {
      "cell_type": "markdown",
      "source": [
        "### Dataset Rows & Columns count"
      ],
      "metadata": {
        "id": "7hBIi_osiCS2"
      }
    },
    {
      "cell_type": "code",
      "source": [
        "# Dataset Rows & Columns count\n",
        "df.shape"
      ],
      "metadata": {
        "id": "Kllu7SJgmLij"
      },
      "execution_count": null,
      "outputs": []
    },
    {
      "cell_type": "markdown",
      "source": [
        "### Dataset Information"
      ],
      "metadata": {
        "id": "JlHwYmJAmNHm"
      }
    },
    {
      "cell_type": "code",
      "source": [
        "# Dataset Info\n",
        "df.info()"
      ],
      "metadata": {
        "id": "e9hRXRi6meOf"
      },
      "execution_count": null,
      "outputs": []
    },
    {
      "cell_type": "markdown",
      "source": [
        "#### Duplicate Values"
      ],
      "metadata": {
        "id": "35m5QtbWiB9F"
      }
    },
    {
      "cell_type": "code",
      "source": [
        "# Dataset Duplicate Value Count\n",
        "df.duplicated().sum()"
      ],
      "metadata": {
        "id": "1sLdpKYkmox0"
      },
      "execution_count": null,
      "outputs": []
    },
    {
      "cell_type": "markdown",
      "source": [
        "#### Missing Values/Null Values"
      ],
      "metadata": {
        "id": "PoPl-ycgm1ru"
      }
    },
    {
      "cell_type": "code",
      "source": [
        "#function for null values and missing values information\n",
        "def null_info(df1):\n",
        "  mv=df.isnull().sum()\n",
        "  mv_percentage=mv*100/len(df)\n",
        "  unique_value=df.nunique()\n",
        "  ni_table=pd.concat([mv,mv_percentage,unique_value],axis=1)\n",
        "  ni_table=ni_table.rename(columns={0:'no. of null values',1:'percentage of null value',2:'no. of unique values'})\n",
        "  ni_table['data type']=df.dtypes\n",
        "  ni_table=ni_table.sort_values('percentage of null value',ascending=False).round(1)\n",
        "  print('data frame has '+ str(df1.shape[1])+\" columns and \"+ str(df.shape[0]),'rows')\n",
        "  return ni_table"
      ],
      "metadata": {
        "id": "NfY9U77XrLqz"
      },
      "execution_count": null,
      "outputs": []
    },
    {
      "cell_type": "code",
      "source": [
        "null_info(df)"
      ],
      "metadata": {
        "id": "1ZNgv85ptx3b"
      },
      "execution_count": null,
      "outputs": []
    },
    {
      "cell_type": "code",
      "source": [
        "# Visualizing the missing values"
      ],
      "metadata": {
        "id": "3q5wnI3om9sJ"
      },
      "execution_count": null,
      "outputs": []
    },
    {
      "cell_type": "code",
      "source": [
        "import missingno as msno        #this library is used to visualised the the number of missing values\n",
        "msno.bar(df)"
      ],
      "metadata": {
        "id": "XziQ1EZIvNGE"
      },
      "execution_count": null,
      "outputs": []
    },
    {
      "cell_type": "markdown",
      "source": [
        "### What did you know about your dataset?"
      ],
      "metadata": {
        "id": "H0kj-8xxnORC"
      }
    },
    {
      "cell_type": "markdown",
      "source": [
        "-From the above we find that director,cast,contry,date_added and rating contain the null/missing values in it .And director contain highest no. of misssing values in it.\n",
        "\n",
        "-There is no duplicated values present in the given data set.\n",
        "\n",
        "-All the data have data types of 'objects' except 'release yeear' which is integers type."
      ],
      "metadata": {
        "id": "gfoNAAC-nUe_"
      }
    },
    {
      "cell_type": "markdown",
      "source": [
        "## ***2. Understanding Your Variables***"
      ],
      "metadata": {
        "id": "nA9Y7ga8ng1Z"
      }
    },
    {
      "cell_type": "code",
      "source": [
        "# Dataset Columns\n",
        "df.columns"
      ],
      "metadata": {
        "id": "j7xfkqrt5Ag5"
      },
      "execution_count": null,
      "outputs": []
    },
    {
      "cell_type": "code",
      "source": [
        "# Dataset Describe\n",
        "df.describe()"
      ],
      "metadata": {
        "id": "DnOaZdaE5Q5t"
      },
      "execution_count": null,
      "outputs": []
    },
    {
      "cell_type": "markdown",
      "source": [
        "### Variables Description "
      ],
      "metadata": {
        "id": "PBTbrJXOngz2"
      }
    },
    {
      "cell_type": "markdown",
      "source": [
        "Frome the above we find that\n",
        " (Show_id-\tUnique id for every movie/TV show,\n",
        " \n",
        " Release_year-\tActual release year of the show,\n",
        "\n",
        "Type\tIdentifier - Movie/tv show,\n",
        "\n",
        "Rating-\tTV rating of the show,\n",
        "\n",
        "Title-\tTitle of the show/movie\t,\t\n",
        "\n",
        "Duration\t-Total duration in minutes or number of seasons,\n",
        "\n",
        "Director-\tDirector of the show,\t\t\n",
        "\n",
        "Listed_in-\tGenre,\n",
        "\n",
        "Cast-\tActors involved\t,\n",
        "\n",
        "Description\t-Summary description,\n",
        "\n",
        "Country\t-Country of production,\t\t\n",
        "\n",
        "Date_added-\tDate it was added on netflix.)\n",
        "\n",
        "\n",
        "      "
      ],
      "metadata": {
        "id": "aJV4KIxSnxay"
      }
    },
    {
      "cell_type": "markdown",
      "source": [
        "### Check Unique Values for each variable."
      ],
      "metadata": {
        "id": "u3PMJOP6ngxN"
      }
    },
    {
      "cell_type": "code",
      "source": [
        "# Check Unique Values for each variable.\n",
        "null_info(df)"
      ],
      "metadata": {
        "id": "zms12Yq5n-jE"
      },
      "execution_count": null,
      "outputs": []
    },
    {
      "cell_type": "markdown",
      "source": [
        "## 3. ***Data Wrangling***"
      ],
      "metadata": {
        "id": "dauF4eBmngu3"
      }
    },
    {
      "cell_type": "markdown",
      "source": [
        "### Data Wrangling Code"
      ],
      "metadata": {
        "id": "bKJF3rekwFvQ"
      }
    },
    {
      "cell_type": "code",
      "source": [
        "# Write your code to make your dataset analysis ready.\n",
        "#creting new feature which store  date,month,and year separetly.\n",
        "#first we have to convert the 'date_added' in datetime format.\n",
        "df['date_added']=pd.to_datetime(df['date_added'])\n",
        "#day\n",
        "df['day']=df['date_added'].dt.day\n",
        "#month\n",
        "df['month']=df['date_added'].dt.month\n",
        "#year\n",
        "df['year']=df['date_added'].dt.year\n",
        "\n",
        "\n",
        "#  Creating two extra columns \n",
        "tv_shows=df[df['type']=='TV Show']\n",
        "movies=df[df['type']=='Movie']\n",
        "\n",
        "# duration manipulation for movie\n",
        "movies.duration = movies.duration.str.replace(' min','').astype(int)\n",
        "\n",
        "# duration manipulation for tv shows\n",
        "tv_shows.rename(columns={'duration':'seasons'}, inplace=True)\n",
        "tv_shows.replace({'seasons':{'1 Season':'1 Seasons'}}, inplace=True)\n",
        "tv_shows.seasons = tv_shows.seasons.str.replace(' Seasons','').astype(int)\n",
        "\n",
        "# Splitting datasets for movies and tv show\n",
        "df_movies = df[df['type']=='Movie'].copy()\n",
        "df_shows = df[df['type']=='TV Show'].copy()\n",
        "#fixing data type\n",
        "# Changing the values in the rating column\n",
        "rating_map = {'TV-MA':'Adults',\n",
        "              'R':'Adults',\n",
        "              'PG-13':'Teens',\n",
        "              'TV-14':'Young Adults',\n",
        "              'TV-PG':'Older Kids',\n",
        "              'NR':'Adults',\n",
        "              'TV-G':'Kids',\n",
        "              'TV-Y':'Kids',\n",
        "              'TV-Y7':'Older Kids',\n",
        "              'PG':'Older Kids',\n",
        "              'G':'Kids',\n",
        "              'NC-17':'Adults',\n",
        "              'TV-Y7-FV':'Older Kids',\n",
        "              'UR':'Adults'}\n",
        "\n",
        "df['rating'].replace(rating_map, inplace = True)\n",
        "df['rating'].unique()\n",
        "\n",
        "df['type'] = pd.Categorical(df['type'])\n",
        "\n",
        "# changing dtype to string\n",
        "df['type']= df['type'].astype('string')\n",
        "df['title']= df['title'].astype('string')\n",
        "df['director']=df['director'].astype('string')\n",
        "df['cast']=df['cast'].astype('string')\n",
        "df['country']= df['country'].astype('string')\n",
        "df['rating']= df['rating'].astype('string')\n",
        "df['listed_in']= df['listed_in'].astype('string')\n",
        "df['description']= df['description'].astype('string')\n"
      ],
      "metadata": {
        "id": "wk-9a2fpoLcV"
      },
      "execution_count": null,
      "outputs": []
    },
    {
      "cell_type": "code",
      "source": [
        "df.head(10)"
      ],
      "metadata": {
        "id": "wSOk7MnqyKQF"
      },
      "execution_count": null,
      "outputs": []
    },
    {
      "cell_type": "markdown",
      "source": [
        "### What all manipulations have you done and insights you found?"
      ],
      "metadata": {
        "id": "MSa1f5Uengrz"
      }
    },
    {
      "cell_type": "markdown",
      "source": [
        "-First we have to convert the date_added data type to datetime format.\n",
        "\n",
        "-Split the date_added to day,month,year and create a separate columns.\n",
        "\n",
        "-Here we separate the data into two categories on the basis of type. \n",
        "\n",
        "-In duration for movie min are get removed and used only integers.\n",
        "\n",
        "-Similrly for tv shows seasons are removed and only integers vales are used.\n",
        "\n",
        "-On the basis of rating, divide it into four categories kids,older kids,teens and adults.\n",
        "\n",
        "-Converted all the data types in  string except date which is in datetime format.\n",
        "\n"
      ],
      "metadata": {
        "id": "LbyXE7I1olp8"
      }
    },
    {
      "cell_type": "markdown",
      "source": [
        "## ***4. Data Vizualization, Storytelling & Experimenting with charts : Understand the relationships between variables***"
      ],
      "metadata": {
        "id": "GF8Ens_Soomf"
      }
    },
    {
      "cell_type": "markdown",
      "source": [
        "### **Univariate analysis:**"
      ],
      "metadata": {
        "id": "y4qskcI_ulgo"
      }
    },
    {
      "cell_type": "markdown",
      "source": [
        "#### Chart - 1"
      ],
      "metadata": {
        "id": "0wOQAZs5pc--"
      }
    },
    {
      "cell_type": "code",
      "source": [
        "# Chart - 1 visualization code\n",
        "# Balance of Netflix products\n",
        "plot_donut_chart(df=df, col='type', colors=['blue','green'], title='Does Netflix had more \\nMovies or TV Shows in 2019?')"
      ],
      "metadata": {
        "id": "7v_ESjsspbW7"
      },
      "execution_count": null,
      "outputs": []
    },
    {
      "cell_type": "markdown",
      "source": [
        "##### 1. Why did you pick the specific chart?"
      ],
      "metadata": {
        "id": "K5QZ13OEpz2H"
      }
    },
    {
      "cell_type": "markdown",
      "source": [
        "Donut charts are the modified version of Pie Charts with the area of center cut out. A donut is more concerned about the use of area of arcs to represent the information in the most effective manner instead of Pie chart which is more focused on comparing the proportion area between the slices."
      ],
      "metadata": {
        "id": "XESiWehPqBRc"
      }
    },
    {
      "cell_type": "markdown",
      "source": [
        "##### 2. What is/are the insight(s) found from the chart?"
      ],
      "metadata": {
        "id": "lQ7QKXXCp7Bj"
      }
    },
    {
      "cell_type": "markdown",
      "source": [
        "There are ~70% movies and ~30% are tv shows."
      ],
      "metadata": {
        "id": "C_j1G7yiqdRP"
      }
    },
    {
      "cell_type": "markdown",
      "source": [
        "##### 3. Will the gained insights help creating a positive business impact? \n",
        "Are there any insights that lead to negative growth? Justify with specific reason."
      ],
      "metadata": {
        "id": "448CDAPjqfQr"
      }
    },
    {
      "cell_type": "markdown",
      "source": [
        "There are more no. of movies with respect to tv shows ,if we see in term of business aspect we have to work on tv shows to make it more atttractive so that demand of tv shows are increses which leads to incresse the no. of tv shows."
      ],
      "metadata": {
        "id": "3cspy4FjqxJW"
      }
    },
    {
      "cell_type": "markdown",
      "source": [
        "#### Chart - 2"
      ],
      "metadata": {
        "id": "KSlN3yHqYklG"
      }
    },
    {
      "cell_type": "code",
      "source": [
        "# Chart - 2 visualization code\n",
        "# Graph for top 10 actors\n",
        "actors = df[df.cast != 'No Cast'].set_index('title').cast.str.split(', ', expand=True).stack().reset_index(level=1, drop=True)\n",
        "sns.countplot(y = actors, order=actors.value_counts().index[:10], palette='Paired')\n",
        "plt.show()"
      ],
      "metadata": {
        "id": "R4YgtaqtYklH"
      },
      "execution_count": null,
      "outputs": []
    },
    {
      "cell_type": "markdown",
      "source": [
        "##### 1. Why did you pick the specific chart?"
      ],
      "metadata": {
        "id": "t6dVpIINYklI"
      }
    },
    {
      "cell_type": "markdown",
      "source": [
        "Bar charts are explainable because of their linear data representation. we have used bar charts to represent dependent variable distribution, Vertical bar charts are useful to compare different categorical or discrete variables as long as they are too many categories to compare."
      ],
      "metadata": {
        "id": "5aaW0BYyYklI"
      }
    },
    {
      "cell_type": "markdown",
      "source": [
        "##### 2. What is/are the insight(s) found from the chart?"
      ],
      "metadata": {
        "id": "ijmpgYnKYklI"
      }
    },
    {
      "cell_type": "markdown",
      "source": [
        "The above graph shows top 10 actors who have worked in lots of movies and TV shows."
      ],
      "metadata": {
        "id": "PSx9atu2YklI"
      }
    },
    {
      "cell_type": "markdown",
      "source": [
        "##### 3. Will the gained insights help creating a positive business impact? \n",
        "Are there any insights that lead to negative growth? Justify with specific reason."
      ],
      "metadata": {
        "id": "-JiQyfWJYklI"
      }
    },
    {
      "cell_type": "markdown",
      "source": [
        "Yes it will help to cast a better actor  who have better experience,fan base and popularity."
      ],
      "metadata": {
        "id": "BcBbebzrYklV"
      }
    },
    {
      "cell_type": "markdown",
      "source": [
        "#### Chart - 3"
      ],
      "metadata": {
        "id": "EM7whBJCYoAo"
      }
    },
    {
      "cell_type": "code",
      "source": [
        "# Chart - 3 visualization code\n",
        "# Graph for top 10 directors\n",
        "directors = df[df.director != 'No Director'].set_index('title').director.str.split(', ', expand=True).stack().reset_index(level=1, drop=True)\n",
        "sns.countplot(y = directors, order=directors.value_counts().index[:10], palette='Set2')\n",
        "plt.show()"
      ],
      "metadata": {
        "id": "t6GMdE67YoAp"
      },
      "execution_count": null,
      "outputs": []
    },
    {
      "cell_type": "markdown",
      "source": [
        "##### 1. Why did you pick the specific chart?"
      ],
      "metadata": {
        "id": "fge-S5ZAYoAp"
      }
    },
    {
      "cell_type": "markdown",
      "source": [
        "Bar charts are explainable because of their linear data representation. we have used bar charts to represent dependent variable ditribution, Vertical bar charts are useful to compare different categorical or discrete variables as long as they are too many categories to compare."
      ],
      "metadata": {
        "id": "5dBItgRVYoAp"
      }
    },
    {
      "cell_type": "markdown",
      "source": [
        "##### 2. What is/are the insight(s) found from the chart?"
      ],
      "metadata": {
        "id": "85gYPyotYoAp"
      }
    },
    {
      "cell_type": "markdown",
      "source": [
        "This visual shows Jan suter and Raul Campos are the leading directors, with abundant experience."
      ],
      "metadata": {
        "id": "4jstXR6OYoAp"
      }
    },
    {
      "cell_type": "markdown",
      "source": [
        "##### 3. Will the gained insights help creating a positive business impact? \n",
        "Are there any insights that lead to negative growth? Justify with specific reason."
      ],
      "metadata": {
        "id": "RoGjAbkUYoAp"
      }
    },
    {
      "cell_type": "markdown",
      "source": [
        "Yes it will help to choose a better and experience director for the movie and tv series."
      ],
      "metadata": {
        "id": "zfJ8IqMcYoAp"
      }
    },
    {
      "cell_type": "markdown",
      "source": [
        "#### Chart - 4"
      ],
      "metadata": {
        "id": "4Of9eVA-YrdM"
      }
    },
    {
      "cell_type": "code",
      "source": [
        "# Chart - 4 visualization \n",
        "# #Analysing top10 genre of the movies/tv shows\n",
        "\n",
        "sns.countplot(y=df['listed_in'],data=df,order=df['listed_in'].value_counts().index[0:10],  palette='Paired',)\n",
        "plt.title('Top10 Genre of Movies/tv shows')"
      ],
      "metadata": {
        "id": "irlUoxc8YrdO"
      },
      "execution_count": null,
      "outputs": []
    },
    {
      "cell_type": "markdown",
      "source": [
        "##### 1. Why did you pick the specific chart?"
      ],
      "metadata": {
        "id": "iky9q4vBYrdO"
      }
    },
    {
      "cell_type": "markdown",
      "source": [
        "Bar charts are explainable because of their linear data representation. we have used bar charts to represent dependent variable ditribution, Vertical bar charts are useful to compare different categorical or discrete variables as long as they are too many categories to compare."
      ],
      "metadata": {
        "id": "aJRCwT6DYrdO"
      }
    },
    {
      "cell_type": "markdown",
      "source": [
        "##### 2. What is/are the insight(s) found from the chart?"
      ],
      "metadata": {
        "id": "F6T5p64dYrdO"
      }
    },
    {
      "cell_type": "markdown",
      "source": [
        "From the bar chart found that documentaries  fallowed by comedy and fallowed drama are the most popular genere of the tv shows as well as movies."
      ],
      "metadata": {
        "id": "Xx8WAJvtYrdO"
      }
    },
    {
      "cell_type": "markdown",
      "source": [
        "##### 3. Will the gained insights help creating a positive business impact? \n",
        "Are there any insights that lead to negative growth? Justify with specific reason."
      ],
      "metadata": {
        "id": "y-Ehk30pYrdP"
      }
    },
    {
      "cell_type": "markdown",
      "source": [
        "Yes it will helps to choose best genere to make movies as well as tv shows ."
      ],
      "metadata": {
        "id": "jLNxxz7MYrdP"
      }
    },
    {
      "cell_type": "markdown",
      "source": [
        "#### Chart - 5"
      ],
      "metadata": {
        "id": "bamQiAODYuh1"
      }
    },
    {
      "cell_type": "code",
      "source": [
        "# Chart - 5 visualization code\n",
        "# Visualizing the year in which the movie / tv show was released\n",
        "\n",
        "\n",
        "fig = plt.figure(figsize=(18,6))\n",
        "sns.set(style='whitegrid')\n",
        "fig.set_facecolor(\"lightblue\")\n",
        "sns.countplot(data =df,x = 'year',palette =\"Set2\")\n",
        "plt.title('Movies added to Netflix each year ', fontsize=10)\n",
        "plt.ylabel('No. of movies added to Netflix', fontsize=10)\n",
        "plt.xlabel('Year -> (Movies added to Netflix) ', fontsize=10)"
      ],
      "metadata": {
        "id": "TIJwrbroYuh3"
      },
      "execution_count": null,
      "outputs": []
    },
    {
      "cell_type": "markdown",
      "source": [
        "##### 1. Why did you pick the specific chart?"
      ],
      "metadata": {
        "id": "QHF8YVU7Yuh3"
      }
    },
    {
      "cell_type": "markdown",
      "source": [
        "It is often used to illustrate the major features of the distribution of the data in a convenient form. It is also useful when dealing with large data sets (greater than 100 observations). It can help detect any unusual observations (outliers) or any gaps in the data"
      ],
      "metadata": {
        "id": "dcxuIMRPYuh3"
      }
    },
    {
      "cell_type": "markdown",
      "source": [
        "##### 2. What is/are the insight(s) found from the chart?"
      ],
      "metadata": {
        "id": "GwzvFGzlYuh3"
      }
    },
    {
      "cell_type": "markdown",
      "source": [
        "From the above find that highest no. of movies and tv shows are made in the years of 2019 and decreases in 2020 - 2021 due to covid."
      ],
      "metadata": {
        "id": "uyqkiB8YYuh3"
      }
    },
    {
      "cell_type": "markdown",
      "source": [
        "##### 3. Will the gained insights help creating a positive business impact? \n",
        "Are there any insights that lead to negative growth? Justify with specific reason."
      ],
      "metadata": {
        "id": "qYpmQ266Yuh3"
      }
    },
    {
      "cell_type": "markdown",
      "source": [
        "Yes it will to help to conclude that no. of making of movies and tv shows increases very fast from 2014 to 2019 after that due to the impact of covid it deceases very drastically."
      ],
      "metadata": {
        "id": "_WtzZ_hCYuh4"
      }
    },
    {
      "cell_type": "markdown",
      "source": [
        "#### Chart - 6"
      ],
      "metadata": {
        "id": "OH-pJp9IphqM"
      }
    },
    {
      "cell_type": "code",
      "source": [
        "# Chart - 6 visualization code\n",
        "# Top 10 countries with the highest number movies / TV shows in the dataset\n",
        "plt.figure(figsize=(10,5))\n",
        "df[~(df['country']=='Unknown')].country.value_counts().nlargest(10).plot(kind='barh')\n",
        "\n",
        "plt.title(' Top 10 countries with the highest number of shows')"
      ],
      "metadata": {
        "id": "kuRf4wtuphqN"
      },
      "execution_count": null,
      "outputs": []
    },
    {
      "cell_type": "markdown",
      "source": [
        "##### 1. Why did you pick the specific chart?"
      ],
      "metadata": {
        "id": "bbFf2-_FphqN"
      }
    },
    {
      "cell_type": "markdown",
      "source": [
        "Bar graph summarises the large set of data in simple visual form.\n",
        "It displays each category of data in the frequency distribution.\n",
        "It clarifies the trend of data better than the table.\n",
        "It helps in estimating the key values at a glance."
      ],
      "metadata": {
        "id": "loh7H2nzphqN"
      }
    },
    {
      "cell_type": "markdown",
      "source": [
        "##### 2. What is/are the insight(s) found from the chart?"
      ],
      "metadata": {
        "id": "_ouA3fa0phqN"
      }
    },
    {
      "cell_type": "markdown",
      "source": [
        "From the above chart find that united states produces more no. of movies and tv shows fallowed by india and united kindom."
      ],
      "metadata": {
        "id": "VECbqPI7phqN"
      }
    },
    {
      "cell_type": "markdown",
      "source": [
        "##### 3. Will the gained insights help creating a positive business impact? \n",
        "Are there any insights that lead to negative growth? Justify with specific reason."
      ],
      "metadata": {
        "id": "Seke61FWphqN"
      }
    },
    {
      "cell_type": "markdown",
      "source": [
        "Yes it will help to choose the best country for producing and making movies ."
      ],
      "metadata": {
        "id": "DW4_bGpfphqN"
      }
    },
    {
      "cell_type": "markdown",
      "source": [
        "#### Chart - 7"
      ],
      "metadata": {
        "id": "PIIx-8_IphqN"
      }
    },
    {
      "cell_type": "code",
      "source": [
        "# Chart - 7 visualization code\n",
        "# Number of shows on Netflix for different age groups\n",
        "plt.figure(figsize=(10,5))\n",
        "a=df.rating.value_counts().plot(kind='barh',color='#7eb54e')\n",
        "plt.title('Number of shows on Netflix for different age groups')"
      ],
      "metadata": {
        "id": "lqAIGUfyphqO"
      },
      "execution_count": null,
      "outputs": []
    },
    {
      "cell_type": "code",
      "source": [],
      "metadata": {
        "id": "sReW8zxh8NPK"
      },
      "execution_count": null,
      "outputs": []
    },
    {
      "cell_type": "markdown",
      "source": [
        "##### 1. Why did you pick the specific chart?"
      ],
      "metadata": {
        "id": "t27r6nlMphqO"
      }
    },
    {
      "cell_type": "markdown",
      "source": [
        "Bar graph summarises the large set of data in simple visual form. It displays each category of data in the frequency distribution. It clarifies the trend of data better than the table. It helps in estimating the key values at a glance."
      ],
      "metadata": {
        "id": "iv6ro40sphqO"
      }
    },
    {
      "cell_type": "markdown",
      "source": [
        "##### 2. What is/are the insight(s) found from the chart?"
      ],
      "metadata": {
        "id": "r2jJGEOYphqO"
      }
    },
    {
      "cell_type": "markdown",
      "source": [
        "From the given plot found the most of the shows and movies are made for adults audiences and fallowed by the young audiences ,older kids and kids."
      ],
      "metadata": {
        "id": "Po6ZPi4hphqO"
      }
    },
    {
      "cell_type": "markdown",
      "source": [
        "##### 3. Will the gained insights help creating a positive business impact? \n",
        "Are there any insights that lead to negative growth? Justify with specific reason."
      ],
      "metadata": {
        "id": "b0JNsNcRphqO"
      }
    },
    {
      "cell_type": "markdown",
      "source": [
        "Yes it will help to creator to choose content according to the audience and made the movies and tv shows acoording to the interest of the audiences."
      ],
      "metadata": {
        "id": "xvSq8iUTphqO"
      }
    },
    {
      "cell_type": "markdown",
      "source": [
        "#### Chart - 8"
      ],
      "metadata": {
        "id": "BZR9WyysphqO"
      }
    },
    {
      "cell_type": "code",
      "source": [
        "# Chart - 8 visualization code\n",
        "\n",
        "plt.plot(figsize=(20, 5))\n",
        "g1 = sns.distplot(movies.duration, color='blue');\n",
        "g1.set_xticks(np.arange(0,360,30))\n",
        "g1.set_title(\"Duration Distribution for Netflix Movies\")\n",
        "g1.set_ylabel(\"% of All Netflix Movies\")\n",
        "g1.set_xlabel(\"Duration (minutes)\")\n",
        "\n",
        "\n"
      ],
      "metadata": {
        "id": "TdPTWpAVphqO"
      },
      "execution_count": null,
      "outputs": []
    },
    {
      "cell_type": "code",
      "source": [
        "plt.plot(figsize=(50, 100))\n",
        "g2 = sns.distplot(tv_shows.seasons, color='blue');\n",
        "g2.set_xticks(np.arange(0,16))\n",
        "g2.set_title(\"Numbers of seasons of a tv shows\")\n",
        "g2.set_ylabel(\"% of All tv shows\")\n",
        "g2.set_xlabel(\"seasons\")"
      ],
      "metadata": {
        "id": "DLr1aKYSDu2J"
      },
      "execution_count": null,
      "outputs": []
    },
    {
      "cell_type": "markdown",
      "source": [
        "##### 1. Why did you pick the specific chart?"
      ],
      "metadata": {
        "id": "jj7wYXLtphqO"
      }
    },
    {
      "cell_type": "markdown",
      "source": [
        "Histograms have been used to represent distribution of columns having numerical data, histogram is basically used to represent data provided in a form of some groups.It is accurate method for the graphical representation of numerical data distribution.It is a type of bar plot where X-axis represents the bin ranges while Y-axis gives information about frequency."
      ],
      "metadata": {
        "id": "Ob8u6rCTphqO"
      }
    },
    {
      "cell_type": "markdown",
      "source": [
        "##### 2. What is/are the insight(s) found from the chart?"
      ],
      "metadata": {
        "id": "eZrbJ2SmphqO"
      }
    },
    {
      "cell_type": "markdown",
      "source": [
        "Most of the movies have duration of 90 mins.\n",
        "Most of the TV shows have one season, but this number goes on decreasing with increase in number seasons."
      ],
      "metadata": {
        "id": "mZtgC_hjphqO"
      }
    },
    {
      "cell_type": "markdown",
      "source": [
        "##### 3. Will the gained insights help creating a positive business impact? \n",
        "Are there any insights that lead to negative growth? Justify with specific reason."
      ],
      "metadata": {
        "id": "rFu4xreNphqO"
      }
    },
    {
      "cell_type": "markdown",
      "source": [
        "Yes it will help to decide the length of the movies as well as no. of seasons for a tv shows."
      ],
      "metadata": {
        "id": "ey_0qi68phqO"
      }
    },
    {
      "cell_type": "markdown",
      "source": [
        "### **Bivariate Analysis:**"
      ],
      "metadata": {
        "id": "SUf_fYOKLvkp"
      }
    },
    {
      "cell_type": "markdown",
      "source": [
        "#### Chart - 9"
      ],
      "metadata": {
        "id": "YJ55k-q6phqO"
      }
    },
    {
      "cell_type": "code",
      "source": [
        "# Chart - 9 visualization code\n",
        "#Analysing top15 countries with most content of mvies and tv shows separetely \n",
        "plt.figure(figsize=(18,5))\n",
        "sns.countplot(x=df['country'],order=df['country'].value_counts().index[0:15],hue=df['type'], palette='Set2')\n",
        "plt.xticks(rotation=50)\n",
        "plt.title('Top 15 countries with most contents', fontsize=15, fontweight='bold')\n",
        "plt.show()"
      ],
      "metadata": {
        "id": "B2aS4O1ophqO"
      },
      "execution_count": null,
      "outputs": []
    },
    {
      "cell_type": "markdown",
      "source": [
        "##### 1. Why did you pick the specific chart?"
      ],
      "metadata": {
        "id": "gCFgpxoyphqP"
      }
    },
    {
      "cell_type": "markdown",
      "source": [
        "Multiple bar charts are extremely useful if you want to present a large amount of information in a small amount of space. Instead of having only one bar at each division on the horizontal axis."
      ],
      "metadata": {
        "id": "TVxDimi2phqP"
      }
    },
    {
      "cell_type": "markdown",
      "source": [
        "##### 2. What is/are the insight(s) found from the chart?"
      ],
      "metadata": {
        "id": "OVtJsKN_phqQ"
      }
    },
    {
      "cell_type": "markdown",
      "source": [
        "Here: United States has highest number of contents in Netflix followed by India."
      ],
      "metadata": {
        "id": "ngGi97qjphqQ"
      }
    },
    {
      "cell_type": "markdown",
      "source": [
        "##### 3. Will the gained insights help creating a positive business impact? \n",
        "Are there any insights that lead to negative growth? Justify with specific reason."
      ],
      "metadata": {
        "id": "lssrdh5qphqQ"
      }
    },
    {
      "cell_type": "markdown",
      "source": [
        "As we can see that very large variety of content is not available for India and severl other countries thus missing variety should be made available for other countries to provide better options for audience and to increase engagement."
      ],
      "metadata": {
        "id": "tBpY5ekJphqQ"
      }
    },
    {
      "cell_type": "markdown",
      "source": [
        "#### Chart - 10"
      ],
      "metadata": {
        "id": "U2RJ9gkRphqQ"
      }
    },
    {
      "cell_type": "code",
      "source": [
        "# Chart - 10 visualization code\n",
        "# Building a wordcloud for the movie descriptions\n",
        "words = ''\n",
        "stopwords = set(STOPWORDS)\n",
        "\n",
        "# iterate through the csv file\n",
        "for value in df.description.values:\n",
        "    \n",
        "    # typecaste each val to string\n",
        "    value = str(value)\n",
        "\n",
        "    # split the value\n",
        "    tokens = value.split()\n",
        "    \n",
        "    # Converts each token into lowercase\n",
        "    for i in range(len(tokens)):\n",
        "        tokens[i] = tokens[i].lower()\n",
        "    \n",
        "    words += \" \".join(tokens)+\" \"\n",
        "\n",
        "wordcloud = WordCloud(width = 700, height = 700,\n",
        "                background_color ='white',\n",
        "                stopwords = stopwords,\n",
        "                min_font_size = 10).generate(words)\n",
        "\n",
        "\n",
        "# plot the WordCloud image                      \n",
        "plt.figure(figsize = (15,6), facecolor = None)\n",
        "plt.imshow(wordcloud)\n",
        "plt.axis(\"off\")\n",
        "plt.tight_layout(pad = 0)"
      ],
      "metadata": {
        "id": "GM7a4YP4phqQ"
      },
      "execution_count": null,
      "outputs": []
    },
    {
      "cell_type": "markdown",
      "source": [
        "##### 1. Why did you pick the specific chart?"
      ],
      "metadata": {
        "id": "1M8mcRywphqQ"
      }
    },
    {
      "cell_type": "markdown",
      "source": [
        "A word cloud (also known as a tag cloud or text cloud) is a visual representation of a text, in which the words appear bigger the more often they are mentioned. Word clouds are great for visualizing unstructured text data and getting insights on trends and patterns."
      ],
      "metadata": {
        "id": "8agQvks0phqQ"
      }
    },
    {
      "cell_type": "markdown",
      "source": [
        "##### 2. What is/are the insight(s) found from the chart?"
      ],
      "metadata": {
        "id": "tgIPom80phqQ"
      }
    },
    {
      "cell_type": "markdown",
      "source": [
        " Family, Life, Find, Love are the most used words in the description column."
      ],
      "metadata": {
        "id": "Qp13pnNzphqQ"
      }
    },
    {
      "cell_type": "markdown",
      "source": [
        "#### Chart - 11"
      ],
      "metadata": {
        "id": "x-EpHcCOp1ci"
      }
    },
    {
      "cell_type": "code",
      "source": [
        "# Chart - 11 visualization code\n",
        "# visualizing the movies and tv_shows based on the release year\n",
        "movies_year =movies['year'].value_counts().sort_index(ascending=False)\n",
        "tvshows_year =tv_shows['year'].value_counts().sort_index(ascending=False)\n",
        "sns.set(font_scale=1.4)\n",
        "movies_year.plot(figsize=(12, 8), linewidth=2.5, color='blue',label=\"Movies per year\",ms=3)\n",
        "tvshows_year.plot(figsize=(12, 8), linewidth=2.5, color='green',label=\"TV Shows per year\")\n",
        "plt.xlabel(\"Years\", labelpad=15)\n",
        "plt.ylabel(\"Number\", labelpad=15)\n",
        "plt.title(\"Production growth yearly\", y=1.02, fontsize=22);"
      ],
      "metadata": {
        "id": "mAQTIvtqp1cj"
      },
      "execution_count": null,
      "outputs": []
    },
    {
      "cell_type": "markdown",
      "source": [
        "##### 1. Why did you pick the specific chart?"
      ],
      "metadata": {
        "id": "X_VqEhTip1ck"
      }
    },
    {
      "cell_type": "markdown",
      "source": [
        "It helps to show small shifts that may be getting hard to spot in other graphs.\n",
        "It helps show trends for different periods.\n",
        "They are easy to understand.\n",
        "To compare data, more than one line can be plotted on the same axis."
      ],
      "metadata": {
        "id": "-vsMzt_np1ck"
      }
    },
    {
      "cell_type": "markdown",
      "source": [
        "##### 2. What is/are the insight(s) found from the chart?"
      ],
      "metadata": {
        "id": "8zGJKyg5p1ck"
      }
    },
    {
      "cell_type": "markdown",
      "source": [
        "In the year 2019 more number of movies were released as compared to TV shows."
      ],
      "metadata": {
        "id": "ZYdMsrqVp1ck"
      }
    },
    {
      "cell_type": "markdown",
      "source": [
        "##### 3. Will the gained insights help creating a positive business impact? \n",
        "Are there any insights that lead to negative growth? Justify with specific reason."
      ],
      "metadata": {
        "id": "PVzmfK_Ep1ck"
      }
    },
    {
      "cell_type": "markdown",
      "source": [
        "There are less number of TV shows available, therefore we should promote TV shows production to ensure better audience retention due to more duration and story complexity."
      ],
      "metadata": {
        "id": "druuKYZpp1ck"
      }
    },
    {
      "cell_type": "markdown",
      "source": [
        "### **Multivariate Analysis:**"
      ],
      "metadata": {
        "id": "61dzbpiJMg-k"
      }
    },
    {
      "cell_type": "markdown",
      "source": [
        "#### Chart - 12"
      ],
      "metadata": {
        "id": "n3dbpmDWp1ck"
      }
    },
    {
      "cell_type": "code",
      "source": [
        "# Chart - 12 coorelation heatmap visualization code\n",
        "df['count'] = 1\n",
        "data = df.groupby('country')[['country','count']].sum().sort_values(by='count',ascending=False).reset_index()[:10]\n",
        "data = data['country']\n",
        "heatmap_df = df.loc[df['country'].isin(data)]\n",
        "heatmap_df = pd.crosstab(heatmap_df['country'],heatmap_df['rating'],normalize = \"index\").T\n",
        "\n",
        "# Plotting the heatmap\n",
        "fig, ax = plt.subplots(1, 1, figsize=(12, 12))\n",
        "country_order2 = ['United States', 'India', 'United Kingdom', 'Canada', 'Japan', 'France', 'South Korea', 'Spain',\n",
        "       'Mexico']\n",
        "age_order = ['Adults', 'Teens', 'Older Kids', 'Kids']\n",
        "sns.heatmap(heatmap_df.loc[age_order,country_order2],cmap='icefire',annot=True, linecolor='Black', linewidths=1.0,square=True, cbar=False,\n",
        "            fmt='1.0%',vmax=.6,vmin=0.05,ax=ax,annot_kws={\"fontsize\":12})\n",
        "plt.show()"
      ],
      "metadata": {
        "id": "bwevp1tKp1ck"
      },
      "execution_count": null,
      "outputs": []
    },
    {
      "cell_type": "markdown",
      "source": [
        "##### 1. Why did you pick the specific chart?"
      ],
      "metadata": {
        "id": "ylSl6qgtp1ck"
      }
    },
    {
      "cell_type": "markdown",
      "source": [
        "Correlations are best represented using heat maps. Heat Maps is used to better visualize the volume of locations/events within a dataset and assist in directing viewers towards areas on data visualizations that matter most."
      ],
      "metadata": {
        "id": "m2xqNkiQp1ck"
      }
    },
    {
      "cell_type": "markdown",
      "source": [
        "##### 2. What is/are the insight(s) found from the chart?"
      ],
      "metadata": {
        "id": "ZWILFDl5p1ck"
      }
    },
    {
      "cell_type": "markdown",
      "source": [
        "Maximum adult content is from Spain.\n",
        "\n",
        "Maximum teen content is from India.\n",
        "\n",
        "Maximum older kids content is from Japan.\n",
        "\n",
        "Maximum kids content is from Canada."
      ],
      "metadata": {
        "id": "x-lUsV2mp1ck"
      }
    },
    {
      "cell_type": "markdown",
      "source": [
        "##### 3. Will the gained insights help creating a positive business impact? \n",
        "Are there any insights that lead to negative growth? Justify with specific reason."
      ],
      "metadata": {
        "id": "M7G43BXep1ck"
      }
    },
    {
      "cell_type": "markdown",
      "source": [
        "Yes it will help to create a specific content for a particular audience in a particular country."
      ],
      "metadata": {
        "id": "5wwDJXsLp1cl"
      }
    },
    {
      "cell_type": "markdown",
      "source": [
        "#### Chart - 13"
      ],
      "metadata": {
        "id": "Ag9LCva-p1cl"
      }
    },
    {
      "cell_type": "code",
      "source": [
        "# Pair Plot visualization code\n",
        "# Checking relation among all the columns once to do further analysis \n",
        "sns.pairplot(data=df)"
      ],
      "metadata": {
        "id": "EUfxeq9-p1cl"
      },
      "execution_count": null,
      "outputs": []
    },
    {
      "cell_type": "markdown",
      "source": [
        "##### 1. Why did you pick the specific chart?"
      ],
      "metadata": {
        "id": "E6MkPsBcp1cl"
      }
    },
    {
      "cell_type": "markdown",
      "source": [
        "Pair plot is used to understand the best set of features to explain a relationship between two variables or to form the most separated clusters."
      ],
      "metadata": {
        "id": "V22bRsFWp1cl"
      }
    },
    {
      "cell_type": "markdown",
      "source": [
        "##### 2. What is/are the insight(s) found from the chart?"
      ],
      "metadata": {
        "id": "2cELzS2fp1cl"
      }
    },
    {
      "cell_type": "markdown",
      "source": [
        "Movie release is not biased with respect to days or months, and no other relationship or trends can be observed from the pairplots."
      ],
      "metadata": {
        "id": "ozQPc2_Ip1cl"
      }
    },
    {
      "cell_type": "markdown",
      "source": [
        "# **For interactive dashboard-** [link text](https://public.tableau.com/views/Netflix_Movies__TV_shows_Clustering/Dashboard1?:language=en-US&publish=yes&:display_count=n&:origin=viz_share_link)"
      ],
      "metadata": {
        "id": "_yiVVzNn_8Sm"
      }
    },
    {
      "cell_type": "markdown",
      "source": [
        "## ***5. Hypothesis Testing***(The process of hypothesis testing is to draw inferences or some conclusion about the overall population or data by conducting some statistical tests on a sample.)"
      ],
      "metadata": {
        "id": "g-ATYxFrGrvw"
      }
    },
    {
      "cell_type": "markdown",
      "source": [
        "### Based on your chart experiments, define three hypothetical statements from the dataset. In the next three questions, perform hypothesis testing to obtain final conclusion about the statements through your code and statistical testing."
      ],
      "metadata": {
        "id": "Yfr_Vlr8HBkt"
      }
    },
    {
      "cell_type": "markdown",
      "source": [
        "### Hypothetical Statement - 1"
      ],
      "metadata": {
        "id": "8yEUt7NnHlrM"
      }
    },
    {
      "cell_type": "markdown",
      "source": [
        "#### 1. State Your research hypothesis as a null hypothesis and alternate hypothesis."
      ],
      "metadata": {
        "id": "tEA2Xm5dHt1r"
      }
    },
    {
      "cell_type": "markdown",
      "source": [
        "Null Hypothesis(H0) - The Country is independent of Target_ages.\n",
        "\n",
        "Alternative Hypothesis(H1) - The Country is associated with Target_ages."
      ],
      "metadata": {
        "id": "HI9ZP0laH0D-"
      }
    },
    {
      "cell_type": "markdown",
      "source": [
        "#### 2. Perform an appropriate statistical test."
      ],
      "metadata": {
        "id": "I79__PHVH19G"
      }
    },
    {
      "cell_type": "code",
      "source": [
        "# Making copy of df_clean_frame\n",
        "hypothesis=df.copy()\n",
        "hypothesis = hypothesis[hypothesis[\"type\"] == \"Movie\"]\n",
        "ratings_ages = {\n",
        "    'TV-PG': 'Older Kids',\n",
        "    'TV-MA': 'Adults',\n",
        "    'TV-Y7-FV': 'Older Kids',\n",
        "    'TV-Y7': 'Older Kids',\n",
        "    'TV-14': 'Teens',\n",
        "    'R': 'Adults',\n",
        "    'TV-Y': 'Kids',\n",
        "    'NR': 'Adults',\n",
        "    'PG-13': 'Teens',\n",
        "    'TV-G': 'Kids',\n",
        "    'PG': 'Older Kids',\n",
        "    'G': 'Kids',\n",
        "    'UR': 'Adults',\n",
        "    'NC-17': 'Adults'\n",
        "}\n",
        "hypothesis['target_ages'] = hypothesis['rating'].replace(ratings_ages)\n",
        "# Let's see unique target ages \n",
        "hypothesis['target_ages'].unique()\n",
        "hypothesis['target_ages'] = pd.Categorical(hypothesis['target_ages'], categories=['Kids', 'Older Kids', 'Teens', 'Adults'])\n",
        "# From duration feature extractin string part and after extracting Changing the object type to numeric\n",
        "hypothesis['duration']= hypothesis['duration'].str.extract('(\\d+)')\n",
        "hypothesis['duration'] = pd.to_numeric(hypothesis['duration'])\n",
        "# Head of df_\n",
        "hypothesis.head(3)\n",
        "# Group_by duration and target_ages                 \n",
        "group_by_= hypothesis[['duration','target_ages']].groupby(by='target_ages')\n",
        "# Mean of group_by variable\n",
        "group=group_by_.mean().reset_index()\n",
        "group\n",
        "# In A and B variable grouping values \n",
        "one = group_by_.get_group('Kids')\n",
        "two = group_by_.get_group('Older Kids')\n",
        "# Mean and std. calutation for kids and older kids variables\n",
        "Mean1 = one.mean()\n",
        "SD1 = one.std()\n",
        "\n",
        "Mean2= two.mean()\n",
        "SD2 = two.std()\n",
        "\n",
        "print('Mean for movies rated for Kids {} \\n Mean for  movies rated for older kids {}'.format(Mean1,Mean2))\n",
        "print('Std deviation for  movies rated for Older Kids {} \\n Std for  movies rated for kids {}'.format(SD2,SD1))"
      ],
      "metadata": {
        "id": "WWuGehP89qnL"
      },
      "execution_count": null,
      "outputs": []
    },
    {
      "cell_type": "code",
      "source": [
        "# Perform Statistical Test to obtain P-Value\n",
        "cont_table  = pd.crosstab(hypothesis.country, hypothesis.target_ages)\n",
        "cont_table"
      ],
      "metadata": {
        "id": "oZrfquKtyian"
      },
      "execution_count": null,
      "outputs": []
    },
    {
      "cell_type": "code",
      "source": [
        "from scipy.stats import chi2_contingency\n",
        "X2, p_value, degree_freedom, expected_values = chi2_contingency(cont_table, correction = True)\n",
        "print(\"X2: {0}, P-Value: {1}\".format(X2,p_value)) # IF P VALUE IS LESS THAN ALPHA VALUE(X2) THAN THERE IS ENOUGHT EVIDENCE TO REJECT NULL HYPOTHESIS"
      ],
      "metadata": {
        "id": "B5j-cJiV1ya4"
      },
      "execution_count": null,
      "outputs": []
    },
    {
      "cell_type": "markdown",
      "source": [
        "Thus we reject null hypothesis, Country is associated with target ages."
      ],
      "metadata": {
        "id": "s2U0kk00ygSB"
      }
    },
    {
      "cell_type": "markdown",
      "source": [
        "##### Which statistical test have you done to obtain P-Value?"
      ],
      "metadata": {
        "id": "Ou-I18pAyIpj"
      }
    },
    {
      "cell_type": "markdown",
      "source": [
        "chi-square test"
      ],
      "metadata": {
        "id": "4bsCsgzn2Ap-"
      }
    },
    {
      "cell_type": "markdown",
      "source": [
        "##### Why did you choose the specific statistical test?"
      ],
      "metadata": {
        "id": "fF3858GYyt-u"
      }
    },
    {
      "cell_type": "markdown",
      "source": [
        " A chi-square test is a statistical test used to compare observed results with expected results. The purpose of this test is to determine if a difference between observed data and expected data is due to chance, or if it is due to a relationship between the variables you are studying."
      ],
      "metadata": {
        "id": "HO4K0gP5y3B4"
      }
    },
    {
      "cell_type": "markdown",
      "source": [
        "### Hypothetical Statement - 2"
      ],
      "metadata": {
        "id": "4_0_7-oCpUZd"
      }
    },
    {
      "cell_type": "markdown",
      "source": [
        "#### 1. State Your research hypothesis as a null hypothesis and alternate hypothesis."
      ],
      "metadata": {
        "id": "hwyV_J3ipUZe"
      }
    },
    {
      "cell_type": "markdown",
      "source": [
        "Null Hypothesis(H0) - The Duration is independent of Target_ages.\n",
        "\n",
        "Alternative Hypothesis(H1) - The Duration is associated with Target_ages."
      ],
      "metadata": {
        "id": "FnpLGJ-4pUZe"
      }
    },
    {
      "cell_type": "markdown",
      "source": [
        "#### 2. Perform an appropriate statistical test."
      ],
      "metadata": {
        "id": "3yB-zSqbpUZe"
      }
    },
    {
      "cell_type": "code",
      "source": [
        "# Perform Statistical Test to obtain P-Value\n",
        "cont_table_1  = pd.crosstab(hypothesis.target_ages, hypothesis.duration)\n",
        "cont_table_1"
      ],
      "metadata": {
        "id": "sWxdNTXNpUZe"
      },
      "execution_count": null,
      "outputs": []
    },
    {
      "cell_type": "code",
      "source": [
        "# Perform Statistical Test to obtain P-Value\n",
        "from scipy.stats import chi2_contingency\n",
        "X2, p_value, degree_freedom, expected_values = chi2_contingency(cont_table_1, correction = True)\n",
        "print(\"X2: {0}, P-Value: {1}\".format(X2,p_value))  # IF P VALUE IS LESS THAN ALPHA VALUE(X2) THAN THERE IS ENOUGHT EVIDENCE TO REJECT NULL HYPOTHESIS"
      ],
      "metadata": {
        "id": "tjOURHCM-Mz8"
      },
      "execution_count": null,
      "outputs": []
    },
    {
      "cell_type": "markdown",
      "source": [
        "We reject the null hyposthesis, Duration is assosiated with target ages."
      ],
      "metadata": {
        "id": "MkJ92cbW-Tq0"
      }
    },
    {
      "cell_type": "markdown",
      "source": [
        "##### Which statistical test have you done to obtain P-Value?"
      ],
      "metadata": {
        "id": "dEUvejAfpUZe"
      }
    },
    {
      "cell_type": "markdown",
      "source": [
        "Chi Square Test"
      ],
      "metadata": {
        "id": "oLDrPz7HpUZf"
      }
    },
    {
      "cell_type": "markdown",
      "source": [
        "##### Why did you choose the specific statistical test?"
      ],
      "metadata": {
        "id": "Fd15vwWVpUZf"
      }
    },
    {
      "cell_type": "markdown",
      "source": [
        " A chi-square test is a statistical test used to compare observed results with expected results. The purpose of this test is to determine if a difference between observed data and expected data is due to chance, or if it is due to a relationship between the variables you are studying."
      ],
      "metadata": {
        "id": "4xOGYyiBpUZf"
      }
    },
    {
      "cell_type": "markdown",
      "source": [
        "### Hypothetical Statement - 3"
      ],
      "metadata": {
        "id": "bn_IUdTipZyH"
      }
    },
    {
      "cell_type": "markdown",
      "source": [
        "#### 1. State Your research hypothesis as a null hypothesis and alternate hypothesis."
      ],
      "metadata": {
        "id": "49K5P_iCpZyH"
      }
    },
    {
      "cell_type": "markdown",
      "source": [
        "H0 Hypothesis : Movies for kids and older kids are not two hours long.\n",
        "\n",
        "H1 Hypothesis : Movies for kids and older kids are two hours long."
      ],
      "metadata": {
        "id": "7gWI5rT9pZyH"
      }
    },
    {
      "cell_type": "markdown",
      "source": [
        "#### 2. Perform an appropriate statistical test."
      ],
      "metadata": {
        "id": "Nff-vKELpZyI"
      }
    },
    {
      "cell_type": "code",
      "source": [
        "# Perform Statistical Test to obtain P-Value\n",
        "\n",
        "# Import stats \n",
        "from scipy import stats\n",
        "# Length of groups and DOF\n",
        "len1 = len(one)\n",
        "len2= len(two)\n",
        "print(len1,len2)\n",
        "\n",
        "dof = len1+len2-2\n",
        "print('dof',dof)\n",
        "\n",
        "sp_2 = ((len2-1)*SD1**2  + (len1-1)*SD2**2) / dof\n",
        "print('SP_2 =',sp_2)\n",
        "\n",
        "sp = np.sqrt(sp_2)\n",
        "print('SP',sp)\n",
        "\n",
        "# t-value\n",
        "t_value = (Mean1-Mean2)/(sp * np.sqrt(1/len1 + 1/len2))\n",
        "print('t-value',t_value[0])"
      ],
      "metadata": {
        "id": "s6AnJQjtpZyI"
      },
      "execution_count": null,
      "outputs": []
    },
    {
      "cell_type": "code",
      "source": [
        "stats.t.ppf(0.025,dof)"
      ],
      "metadata": {
        "id": "U31lDCSG-1kx"
      },
      "execution_count": null,
      "outputs": []
    },
    {
      "cell_type": "code",
      "source": [
        "stats.t.ppf(0.975,dof)   #If the absolute value of the t-value is greater than the critical value, THEN WE REJECT THE NULL HYPOTHESIS."
      ],
      "metadata": {
        "id": "LYT1a6MY-37o"
      },
      "execution_count": null,
      "outputs": []
    },
    {
      "cell_type": "markdown",
      "source": [
        "Thus we reject NUll hypothesis, movies for kids and older kids are two hours long."
      ],
      "metadata": {
        "id": "iJEW4aTc-8kh"
      }
    },
    {
      "cell_type": "markdown",
      "source": [
        "##### Which statistical test have you done to obtain P-Value?"
      ],
      "metadata": {
        "id": "kLW572S8pZyI"
      }
    },
    {
      "cell_type": "markdown",
      "source": [
        "T-Test"
      ],
      "metadata": {
        "id": "ytWJ8v15pZyI"
      }
    },
    {
      "cell_type": "markdown",
      "source": [
        "##### Why did you choose the specific statistical test?"
      ],
      "metadata": {
        "id": "dWbDXHzopZyI"
      }
    },
    {
      "cell_type": "markdown",
      "source": [
        "A t test is a statistical test that is used to compare the means of two groups. It is often used in hypothesis testing to determine whether a process or treatment actually has an effect on the population of interest, or whether two groups are different from one another."
      ],
      "metadata": {
        "id": "M99G98V6pZyI"
      }
    },
    {
      "cell_type": "markdown",
      "source": [
        "## ***6. Feature Engineering & Data Pre-processing***"
      ],
      "metadata": {
        "id": "yLjJCtPM0KBk"
      }
    },
    {
      "cell_type": "markdown",
      "source": [
        "### 1. Handling Missing Values"
      ],
      "metadata": {
        "id": "xiyOF9F70UgQ"
      }
    },
    {
      "cell_type": "code",
      "source": [
        "# Handling Missing Values & Missing Value Imputation\n",
        "null_info(df)"
      ],
      "metadata": {
        "id": "iRsAHk1K0fpS"
      },
      "execution_count": null,
      "outputs": []
    },
    {
      "cell_type": "code",
      "source": [
        "df.dropna(subset=['date_added','day','year','month','rating'],inplace=True)\n",
        "df['director'].fillna('unknown',inplace=True)\n",
        "df['cast'].fillna('unknown',inplace=True)\n",
        "df['country'].fillna(value=df['country'].mode()[0],inplace=True)"
      ],
      "metadata": {
        "id": "R-OxxQECFaq3"
      },
      "execution_count": null,
      "outputs": []
    },
    {
      "cell_type": "code",
      "source": [
        "null_info(df)"
      ],
      "metadata": {
        "id": "2Tt8G7oyIf4I"
      },
      "execution_count": null,
      "outputs": []
    },
    {
      "cell_type": "markdown",
      "source": [
        "#### What all missing value imputation techniques have you used and why did you use those techniques?"
      ],
      "metadata": {
        "id": "7wuGOrhz0itI"
      }
    },
    {
      "cell_type": "markdown",
      "source": [
        "-  'director','cast' null values are replaced by 'unknown' where as 'country' null values are replaced by most repeated country. And 'date_added','day','year','month','rating' null values are drop beacause the no. of null values are very small in comparion to data ."
      ],
      "metadata": {
        "id": "1ixusLtI0pqI"
      }
    },
    {
      "cell_type": "markdown",
      "source": [
        "### 2. Textual Data Preprocessing :Text preprocessing is a crucial step in NLP. Cleaning our text data in order to convert it into a presentable form that is analyzable and predictable for our task is known as text preprocessing.\n",
        "(It's mandatory for textual dataset i.e., NLP, Sentiment Analysis, Text Clustering etc.)"
      ],
      "metadata": {
        "id": "Iwf50b-R2tYG"
      }
    },
    {
      "cell_type": "markdown",
      "source": [
        "#### 1. Expand Contraction :Contractions are words or combinations of words that are shortened by dropping letters and replacing them by an apostrophe."
      ],
      "metadata": {
        "id": "GMQiZwjn3iu7"
      }
    },
    {
      "cell_type": "code",
      "source": [
        "\n",
        "# Expand ContractioN\n",
        "df1=df[['title']]\n",
        "df1['cluster_data'] =(df['description'] + ' ' +df['listed_in'] + ' ' + df['director'] + ' ' + df['cast'] + ' ' + df['country'] + ' ' + df['rating']).astype(str)\n",
        "df1.set_index('title', inplace = True)\n",
        "df1.head()"
      ],
      "metadata": {
        "id": "PTouz10C3oNN"
      },
      "execution_count": null,
      "outputs": []
    },
    {
      "cell_type": "markdown",
      "source": [
        "#### 2. Lower Casing"
      ],
      "metadata": {
        "id": "WVIkgGqN3qsr"
      }
    },
    {
      "cell_type": "code",
      "source": [
        "# Lower Casing\n",
        "df1['cluster_data'] = df1['cluster_data'].str.lower()\n",
        "df1['cluster_data']"
      ],
      "metadata": {
        "id": "88JnJ1jN3w7j"
      },
      "execution_count": null,
      "outputs": []
    },
    {
      "cell_type": "markdown",
      "source": [
        "#### 3. Removing Punctuations"
      ],
      "metadata": {
        "id": "XkPnILGE3zoT"
      }
    },
    {
      "cell_type": "code",
      "source": [
        "# Remove Punctuations\n",
        "def remove_punctuation(text):\n",
        "  'a function is removing punctuation'\n",
        "  import string\n",
        "  translator=str.maketrans('','',string.punctuation)\n",
        "  return text.translate(translator)"
      ],
      "metadata": {
        "id": "vqbBqNaA33c0"
      },
      "execution_count": null,
      "outputs": []
    },
    {
      "cell_type": "code",
      "source": [
        "df1['cluster_data']=df1['cluster_data'].apply(remove_punctuation)\n",
        "df1.head()"
      ],
      "metadata": {
        "id": "EgDh6J5GAB4u"
      },
      "execution_count": null,
      "outputs": []
    },
    {
      "cell_type": "markdown",
      "source": [
        "#### 4. Removing Stopwords & Removing White spaces"
      ],
      "metadata": {
        "id": "mT9DMSJo4nBL"
      }
    },
    {
      "cell_type": "code",
      "source": [
        "# Remove Stopwords\n",
        "import nltk\n",
        "nltk.download('stopword')\n",
        "from nltk.corpus import stopwords\n",
        "stop_words=stopwords.words('english')"
      ],
      "metadata": {
        "id": "HsaFP-BBA9QZ"
      },
      "execution_count": null,
      "outputs": []
    },
    {
      "cell_type": "code",
      "source": [
        "def stopwords(text):\n",
        "  'a function is removing stop words'\n",
        "  text=[word.lower() for word in text.split() if word.lower() not in stop_words]\n",
        "  return \" \".join(text)\n",
        "\n"
      ],
      "metadata": {
        "id": "t81WEiASBmC0"
      },
      "execution_count": null,
      "outputs": []
    },
    {
      "cell_type": "code",
      "source": [
        "df1['cluster_data']=df1['cluster_data'].apply(stopwords)\n",
        "df1.cluster_data.head()"
      ],
      "metadata": {
        "id": "KzzBbhjNC3yK"
      },
      "execution_count": null,
      "outputs": []
    },
    {
      "cell_type": "markdown",
      "source": [
        "#### 5. Text Normalization :Text normalization is the process of transforming text into a single canonical form that it might not have had before. Normalizing text before storing or processing it allows for separation of concerns, since input is guaranteed to be consistent before operations are performed on it."
      ],
      "metadata": {
        "id": "9ExmJH0g5HBk"
      }
    },
    {
      "cell_type": "markdown",
      "source": [
        "![1027.1608556695.png](data:image/png;base64,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)"
      ],
      "metadata": {
        "id": "ru3GZ8-ArItl"
      }
    },
    {
      "cell_type": "code",
      "source": [
        "# Normalizing Text (i.e., Stemming, Lemmatization etc.)\n",
        "#creating an object for stemming function\n",
        "stemmer=SnowballStemmer('english')\n",
        "def stemming(text):\n",
        "  'a fuction which steam each word in the given text'\n",
        "  text=[stemmer.stem(word) for word in text.split()]\n",
        "  return \" \".join(text)"
      ],
      "metadata": {
        "id": "AIJ1a-Zc5PY8"
      },
      "execution_count": null,
      "outputs": []
    },
    {
      "cell_type": "code",
      "source": [
        "df1['cluster_data']=df1['cluster_data'].apply(stemming)\n",
        "df1.cluster_data.head()"
      ],
      "metadata": {
        "id": "lSOR3d54IS03"
      },
      "execution_count": null,
      "outputs": []
    },
    {
      "cell_type": "code",
      "source": [
        "bag_of_words = df1.cluster_data"
      ],
      "metadata": {
        "id": "OSuLq_9LKMk3"
      },
      "execution_count": null,
      "outputs": []
    },
    {
      "cell_type": "code",
      "source": [
        "df['Length(listed_in)'] = df['listed_in'].apply(lambda x: len(x))\n",
        "df['Length(description)'] = df['description'].apply(lambda x: len(x))\n",
        "\n",
        "df.head()"
      ],
      "metadata": {
        "id": "QyCStpHeM14s"
      },
      "execution_count": null,
      "outputs": []
    },
    {
      "cell_type": "markdown",
      "source": [
        "##### Which text normalization technique have you used and why?"
      ],
      "metadata": {
        "id": "cJNqERVU536h"
      }
    },
    {
      "cell_type": "markdown",
      "source": [
        "We have used stemming for normalization of text. As Stemming removes last few characters from a word, often leading to incorrect meanings and spelling."
      ],
      "metadata": {
        "id": "Z9jKVxE06BC1"
      }
    },
    {
      "cell_type": "markdown",
      "source": [
        "#### 6. Text Vectorization :Text Vectorization is the process of converting text into numerical representation. "
      ],
      "metadata": {
        "id": "T0VqWOYE6DLQ"
      }
    },
    {
      "cell_type": "markdown",
      "source": [
        "![vector.jpg](data:image/jpeg;base64,/9j/4QAYRXhpZgAASUkqAAgAAAAAAAAAAAAAAP/sABFEdWNreQABAAQAAAAyAAD/4QMvaHR0cDovL25zLmFkb2JlLmNvbS94YXAvMS4wLwA8P3hwYWNrZXQgYmVnaW49Iu+7vyIgaWQ9Ilc1TTBNcENlaGlIenJlU3pOVGN6a2M5ZCI/PiA8eDp4bXBtZXRhIHhtbG5zOng9ImFkb2JlOm5zOm1ldGEvIiB4OnhtcHRrPSJBZG9iZSBYTVAgQ29yZSA1LjYtYzE0NSA3OS4xNjM0OTksIDIwMTgvMDgvMTMtMTY6NDA6MjIgICAgICAgICI+IDxyZGY6UkRGIHhtbG5zOnJkZj0iaHR0cDovL3d3dy53My5vcmcvMTk5OS8wMi8yMi1yZGYtc3ludGF4LW5zIyI+IDxyZGY6RGVzY3JpcHRpb24gcmRmOmFib3V0PSIiIHhtbG5zOnhtcD0iaHR0cDovL25zLmFkb2JlLmNvbS94YXAvMS4wLyIgeG1sbnM6eG1wTU09Imh0dHA6Ly9ucy5hZG9iZS5jb20veGFwLzEuMC9tbS8iIHhtbG5zOnN0UmVmPSJodHRwOi8vbnMuYWRvYmUuY29tL3hhcC8xLjAvc1R5cGUvUmVzb3VyY2VSZWYjIiB4bXA6Q3JlYXRvclRvb2w9IkFkb2JlIFBob3Rvc2hvcCBDQyAyMDE5IChXaW5kb3dzKSIgeG1wTU06SW5zdGFuY2VJRD0ieG1wLmlpZDo4RkYyQjMzMEE0MDAxMUVBOUQ4QjlCRjFEMDcxQTE3NiIgeG1wTU06RG9jdW1lbnRJRD0ieG1wLmRpZDo4RkYyQjMzMUE0MDAxMUVBOUQ4QjlCRjFEMDcxQTE3NiI+IDx4bXBNTTpEZXJpdmVkRnJvbSBzdFJlZjppbnN0YW5jZUlEPSJ4bXAuaWlkOjhGRjJCMzJFQTQwMDExRUE5RDhCOUJGMUQwNzFBMTc2IiBzdFJlZjpkb2N1bWVudElEPSJ4bXAuZGlkOjhGRjJCMzJGQTQwMDExRUE5RDhCOUJGMUQwNzFBMTc2Ii8+IDwvcmRmOkRlc2NyaXB0aW9uPiA8L3JkZjpSREY+IDwveDp4bXBtZXRhPiA8P3hwYWNrZXQgZW5kPSJyIj8+/+4ADkFkb2JlAGTAAAAAAf/bAIQACAYGBgYGCAYGCAwIBwgMDgoICAoOEA0NDg0NEBEMDg0NDgwRDxITFBMSDxgYGhoYGCMiIiIjJycnJycnJycnJwEJCAgJCgkLCQkLDgsNCw4RDg4ODhETDQ0ODQ0TGBEPDw8PERgWFxQUFBcWGhoYGBoaISEgISEnJycnJycnJycn/8AAEQgBngQnAwEiAAIRAQMRAf/EAK8AAQEAAwEBAQEAAAAAAAAAAAAGBAUHAwIBCAEBAQEBAAAAAAAAAAAAAAAAAAIBAxAAAAYBAQEJCwkFBAcEBwgDAAECAwQFBhESITETFHXVFlYHQSKT05S0NVWVtTZRYTJU1BWlZidxgbFCI5FScjOhwWKzJBc3onM0dNHxgpJDY4Syg8NEZCVFdlNGCBEBAAIBAwMFAQAAAAAAAAAAAAECA/ARBDFBUZFSE1MUEv/aAAwDAQACEQMRAD8A7vOnwayK5OspLUOI1pwsmQ4lppO0okJ2luGlJaqURFu740/TvB+stV5dG8YPnNm0O0rLTiSWhdpTpWk90jI7SGRkYfdlzR99RPHPgp36ia4ZrQXyRJa9pSfmQ7tJ7hKQQD66d4P1lqvLo3jA6d4P1lqvLo3jBm1l9AtHFxkbcaeyW1IrpKeDkNke5tGjU9pHyLQakH3DMbMBP9O8H6y1Xl0bxgdO8H6y1Xl0bxgoAAT/AE7wfrLVeXRvGB07wfrLVeXRvGCgABP9O8H6y1Xl0bxgdO8H6y1Xl0bxgoAAT/TvB+stV5dG8YHTvB+stV5dG8YKAAE/07wfrLVeXRvGB07wfrLVeXRvGCgABP8ATvB+stV5dG8YHTvB+stV5dG8YKAAE/07wfrLVeXRvGB07wfrLVeXRvGCgABP9O8H6y1Xl0bxgdO8H6y1Xl0bxgoAAT/TvB+stV5dG8YHTvB+stV5dG8YKAAE/wBO8H6y1Xl0bxgdO8H6y1Xl0bxgYJ8D41yVB82bFAAn+neD9Zary6N4wOneD9Zary6N4wUAAJ/p3g/WWq8ujeMDp3g/WWq8ujeMFAACf6d4P1lqvLo3jA6d4P1lqvLo3jBQAAn+neD9Zary6N4wOneD9Zary6N4wUAn8y9ERuVab3rDAOneD9Zary6N4wOneD9Zary6N4wUAAJ/p3g/WWq8ujeMDp3g/WWq8ujeMFAACf6d4P1lqvLo3jA6d4P1lqvLo3jBQAAn+neD9Zary6N4wOneD9Zary6N4wUAn87+B8l5KnebOAHTvB+stV5dG8YHTvB+stV5dG8YKAAE/wBO8H6y1Xl0bxgdO8H6y1Xl0bxgoAAT/TvB+stV5dG8YHTvB+stV5dG8YKAAE/07wfrLVeXRvGB07wfrLVeXRvGCgABP9O8H6y1Xl0bxgdO8H6y1Xl0bxgoBP5l6Ijcq03vWGAdO8H6y1Xl0bxgdO8H6y1Xl0bxgoAAT/TvB+stV5dG8YHTvB+stV5dG8YKAAE/07wfrLVeXRvGB07wfrLVeXRvGCgABP8ATvB+stV5dG8YHTvB+stV5dG8YKAAE/07wfrLVeXRvGB07wfrLVeXRvGCgE/nfwPkvJU7zZwA6d4P1lqvLo3jA6d4P1lqvLo3jBQAAn+neD9Zary6N4wOneD9Zary6N4wUAAJ/p3g/WWq8ujeMDp3g/WWq8ujeMFAACf6d4P1lqvLo3jA6d4P1lqvLo3jBQAAn+neD9Zary6N4wOneD9Zary6N4wUAn8h9L4nyq77qsgDp3g/WWq8ujeMDp3g/WWq8ujeMFAACf6d4P1lqvLo3jA6d4P1lqvLo3jBQAAn+neD9Zary6N4wOneD9Zary6N4wUAAJ/p3g/WWq8ujeMDp3g/WWq8ujeMFAACf6d4P1lqvLo3jA6d4P1lqvLo3jBQAAn+neD9Zary6N4wOneD9Zary6N4wMe9L5Zyq17qrRQAJ/p3g/WWq8ujeMDp3g/WWq8ujeMFAACf6d4P1lqvLo3jA6d4P1lqvLo3jBQAAn+neD9Zary6N4wOneD9Zary6N4wJnxxTclWvnNUKABP9O8H6y1Xl0bxgdO8H6y1Xl0bxgoAAT/TvB+stV5dG8YHTvB+stV5dG8YKAAE/wBO8H6y1Xl0bxgdO8H6y1Xl0bxgoAAT/TvB+stV5dG8YHTvB+stV5dG8YKAAE/07wfrLVeXRvGB07wfrLVeXRvGBnfwPkvJU7zZwUACf6d4P1lqvLo3jA6d4P1lqvLo3jBQAAn+neD9Zary6N4wOneD9Zary6N4wUAAJ/p3g/WWq8ujeMDp3g/WWq8ujeMFAACf6d4P1lqvLo3jA6d4P1lqvLo3jAzL0RG5VpvesMUACf6d4P1lqvLo3jA6d4P1lqvLo3jBQAAn+neD9Zary6N4wOneD9Zary6N4wUAAJ/p3g/WWq8ujeMDp3g/WWq8ujeMFAACf6d4P1lqvLo3jA6d4P1lqvLo3jBQCfmfHFNyVa+c1QB07wfrLVeXRvGB07wfrLVeXRvGCgABP9O8H6y1Xl0bxgdO8H6y1Xl0bxgoAAT/AE7wfrLVeXRvGB07wfrLVeXRvGCgABP9O8H6y1Xl0bxgdO8H6y1Xl0bxgoAAT/TvB+stV5dG8YHTvB+stV5dG8YGPel8s5Va91VooAE/07wfrLVeXRvGB07wfrLVeXRvGCgABP8ATvB+stV5dG8YHTvB+stV5dG8YKAAE/07wfrLVeXRvGB07wfrLVeXRvGCgABP9O8H6y1Xl0bxgzK3JccuX1Rai3hWEhCDcWzEktPLJBGSTWaWlqPZ1URa/ONoJ+Z8cU3JVr5zVAKAAABP5l6Ijcq03vWGKAT+ZeiI3KtN71higAYFpTV1w2hE5naWye3HkIUpt5lZ7m2y82aVtq+dJjWcNkFDuSkrva1P/wCYZSkp7Sf/AJrKCSiQRfK2SV/7Cj3RRAAxa+ygWscpddIRIZMzSakHupUX0kLSffJUnupURGXdGUNRYY9FlyTsYjjlda6EXH4uiVrIt5EhCiNt5HzOJPT+XQ90Yn37Opz4LKGEtsFuJuopKOIfzyEGalxv2qNSP9vuAKIB8tuNuoS60oltrIlIWkyNKiPdIyMt8jH0ADkePUszLsjzE5+Q3UZuutXI0RiDYOsNIb02tkkFqRafMOuDjWKYVjeUZPnEi7irkOsXDjbSkSJDGiTI1GWkd1sj3flAdHkz6rBsfbctJ0h6NGMmkPylqky33HFHsNkem26tRnoRfJ8xDXVnaHWT7SNTzq2zpJk7a4gm1i8XS+aS2lJaWlbhbRF/KrQxK9q9RGqabFCjuSYFDUWbBSpUVxa34rSiNCH0uO8KrvDP6Std0+6PVihwqXb0jr2eT7mUzLbl1cJ2xjSUreb79J8Gyztaabh7pbm4AqrnPINTYP1ceqtLiXEJJzEVkRTyWdtBOpJbi1No1NCiPRJmY8386gzMOeymgYl2DZpcbQ1FZJUhp1JGkzdadUki4NRaq+b5RM2WZXM/JrymbySuxKJRqbQSpjKH5Eglo4RTxFIdZRsfJs7o+ey01yMCyQ0u8cW7YWhk+hvg+GNSC79LX8u3v7Pc3gG37Ps6nXmOx5NzXWCX2IJy5Vs9HaaiyTQffcXU2stVGW6RbCS3DFHV5XW22LJy6O28ivVHdlcG4lJPEhnb2yNKVqTr3h6d8Jbs2sau27N66mhTmHZ5VzjTsVDiFPIMtppRra12iIlKLf8AlL5ROYtlmPQOxr7ulz2mrJqJMgLrlKLjXGVqeQhomC/qGatou5vfvAdAezylj4lFzN5D6KuXwGylSWydQUhwmUqcI3NgiSatVd9vD0pM1rbxiZObiTYNZEbKQm0nscXjPs98fDMLWrU0ESdT2iTuaGOa2iUr7AadCyJSVFXkpJ7pGRykakZDoPaXAlzsAvYVa2an1RT4Npsj1NLakrWhJJ+VCTIiAYH/ADYoUpbmP1ttHpXVJS3fPQlJgGSzJKHOE2uEJCjPcUaNBuchzOtx5+JCONLs7CclTsavrGeMPqaRptOmW0hKUFrvmocziQMFuMSZesu0W0TXvRm0S4D1jGTsHsJ2o6o6mDX3p7mzofzaipyatxlNhUtx8n6OZLVwElXTXlt/1YatWyS+iSSW307TRmaddS3z7gCzoryLkFemwitPxy2lNOxpbSmX2nEHopDjat4yGzEf2b5LZZRRypVobLr0OdIgNzopKSxLbY2dmU0Ste9XtGW5ubn7hYAJ/BPgfGuSoPmzYoBP4J8D41yVB82bFAAAAAAAAAAAACfzL0RG5VpvesMUAn8y9ERuVab3rDAUAAAAAAAAAAAn87+B8l5KnebOCgE/nfwPkvJU7zZwBQAAAAAAAAAAAAAAn8y9ERuVab3rDFAJ/MvREblWm96wwFAAAAAAAAAAAAAACfzv4HyXkqd5s4KAT+d/A+S8lTvNnAFAAAAAAAAAAAAAACfyH0vifKrvuqyFAJ/IfS+J8qu+6rIBQAAAAAAAAAAAAAAAACfx70vlnKrXuqtFAJ/HvS+Wcqte6q0UAAAAAAAAJ+Z8cU3JVr5zVCgE/M+OKbkq185qhQAAAAAAAAAAAAAACfzv4HyXkqd5s4KAT+d/A+S8lTvNnBQAAAAAAAAAAAJ/MvREblWm96wxQCfzL0RG5VpvesMUAAAAAAAAAAAAJ+Z8cU3JVr5zVCgE/M+OKbkq185qgFAAAAAAAAAAAAAAn8e9L5Zyq17qrRQCfx70vlnKrXuqtFAAAAAAAAAAAACfmfHFNyVa+c1QoBPzPjim5KtfOaoBQAAAJ/MvREblWm96wxQCfzL0RG5VpvesMUAAAAABv7hgACfcx12vcVKxeQVetRmtyvWRrgOme6Z8CRkbKj/vtGXyqSoesPI2zkorblhVVZOHstMvKJTL5/8A6SQREh3/AA96v5UkN2PCZCiWEZyHOYbkxnS0cZdSS0KL50q1IB7jHjQIMJb7kOK1HclOG9KWy2lBuuHvuOmki2lfOe6NL933dF31M6dnALfq5jh8Mgvkiy3NTP5kPa/40kNhV3tfaqcYZUpmayRHJgSEm1Ja13jW0rd2T7i06pPuGYDYONtvNqaeQlxtZGlaFkSkqI9wyMj3DIa6BjuP1TypFXUw4T6tdp2NHaaWeu/qptKT3RswAa6bQUVlJbmWNXEmSmdxqRIjtOuI03e8W4k1F+4ZUaFDhE6mHHajk84p94mUJQS3XN1bq9gi2lq7qj3THuADBh0lNXSX5lfXRYkqT/4mQwy2047u7X9RaEkpW7u7o+Oj9Dx1yy+6ofH3iMnZnF2uGWSi0USnNnaPUt/UxsQAYSqeoXAbqlwIyq5rZ4KEbLZsJ4M9pGy1s7BbJlqW5uDNAAGq6MY3xw7H7mg8eM9o5fFmeG139eE2NrX9497KlprlKEW9dFsEN7qEy2W3iTr/AHSdSrQZwAPNhhiKyiPGaQyw2Wy202kkISRdxKU6ERD0AAE/gnwPjXJUHzZsUAn8E+B8a5Kg+bNigAAAAAAAAAAABP5l6Ijcq03vWGKAT+ZeiI3KtN71hgKAAAAAAAAAAAT+d/A+S8lTvNnBQCfzv4HyXkqd5s4AoAAAAAAAAAAAAAAT+ZeiI3KtN71higE/mXoiNyrTe9YYCgAAAAAAAAAAAAABP538D5LyVO82cFAJ/O/gfJeSp3mzgCgAAAAAAAAAAAAABP5D6XxPlV33VZCgE/kPpfE+VXfdVkAoAAAAAAAAAAAAAAAABP496XyzlVr3VWigE/j3pfLOVWvdVaKAAAAAAAAE/M+OKbkq185qhQCfmfHFNyVa+c1QoAAAAAAAAAAAAAABP538D5LyVO82cFAJ/O/gfJeSp3mzgoAAAAAAAAAAAE/mXoiNyrTe9YYoBP5l6Ijcq03vWGKAAAAAAAAAAAAE/M+OKbkq185qhQCfmfHFNyVa+c1QCgAAAAAAAAAAAAAT+Pel8s5Va91VooBP496XyzlVr3VWigAAAAAAAAAAABPzPjim5KtfOaoUAn5nxxTclWvnNUAoAAAE/mXoiNyrTe9YYoBP5l6Ijcq03vWGKAAAAAAAAAAAAGvtKWut0t8caPhmTNUaU0pTT7Kj/mZebNK0H8uh6HvHqQ2AAJ3jN/Q7k9C7utT/APnY6CKa0n5X47ZEl4v9pkiV/wDLPfG5gWMG0jJmV0hElhRmRONnqRKL6SVd1Kk91J7pd0ZI00/HY0mSqygOrrLUyIlTY2hcIRbyZLSiNt5P+MtS/lNIDcgJ4r+XUmTOUsJjtbybiPtHCV8721quMf8A3mqP/mGYoELS4lK0KJSFESkqSepGR7pGRkA/QAAAAAAAAAAAAE/gnwPjXJUHzZsUAn8E+B8a5Kg+bNigAYdpa1tLCcsbaU3DhtacI+8okpLU9CLU98zPeLujT0WfYjksxVdTWSX5iUG5xdbbrC1ILfUhMhtvbL/DqPDP8hj47Uw3nK5u0kzp0eDXRnzQhopTu0ppxxxwlEgkbBntaf2b4iLRzKV9pGDqyhupZfJ2ZxZFa684+SFRz2if4dCO9+TZ3NdQHQLTO8TppMyHZ2aI0mBwPGGFIcNeshKltE0lKDN01JQZ6N7Rl3RnUGSUeUQvvGhmomxiUba1oJSVJWRa7K0OElaD0PeUQjqKFEe7XssmPMoXJjQ65Md1REamycbPb2DPe2tktR4Y405GzntPYrUmhZJrHmGkb3DvQ3XFKSW9tLWepgN7Zdo+Ex5UmlcuWUz0EplREThtodMjIm1yCRwKValpoa9dRr+xLd7MaLX/APV+eSBrOzf7hPsfQudwBxVMyztjkabJvcI5t8Y4T+b6O/8ANp3BsuxL/phRf/V+eSAHQBP5l6Ijcq03vWGKAT+ZeiI3KtN71hgKAQHbZudmN4Zb/wDwnnkcX45/22/9ML3/AOk88jgNw32jYS7bpo27llU5a+BbSROcEpwj04NEjY4FStT00Jeuo2F/lWP4u027ez24ZPGZMNmSluuGWmvBtNEtxempa7KRDdqnRs+yd1NcTBwlFFKhKMSTLhOFRwfFtnu7G1rpu6ajZ3eRWkS7pMdqauJNymTAXIObPc4JthstEukSkIW6rbWndSnTe/sCmx/Ksfylh2RQzkTER1E2+kkrbcbUeuhONupQtOuh6akOVxf+i+W/+as/OBt8GVaq7TsoO6KAmwODE40mqW4tjaJRpLbN4kq4TZ39SGoif9F8t/8ANWfnADrtJu01cZ/VWP8AdpGuzv4HyXkqd5s4NjSeha7/AMqx/u0jXZ38D5LyVO82cAUAAADzkPtRWHZT6iQyyhTjqz3kpQW0oz/YRDm9FOz7tAiKyKuuG8YpX1rTVRUw2pch1tCjRw0lUg9E7RpPvUf2907fJ4D9pjVzWRv8+bBkxmf8brK20/J3VCa7IraHY4JVxmVJTKrW+JTou8406yo0GTiD3SNRFtfvAbuBZWFNSPS85kw4y4bikLsGlG2w61qXBOmlw9ULVtbJo1Pvt7fIeFJ2g4fkc4qyos0vTVJNxEdbbzKlpTumprjDbe2Wha97ruDCzDM6SBQuzY7Ee9NM9mtbjGts2SnGaVoJ11ZKQng9xRn3D+Q96PvncsczjB1ZQ1UsOcecOK3XOvOSSQpo9sneGQgtjcLdT3QG5m9rtLX5zIx+W+SKeLCWb8goktb6bFuSbC2CJCFbTfBlrtEjZ1/m7g6Q24h1tDrZ6oWklJPQy3DLUtw90QBqSntwSSjIjViuiSM98/vAz0L9xDoIAJ/MvREblWm96wxQCfzL0RG5VpvesMBQAAAIPtNub6rRjcSgsDrXri4j1z8kmWnzS2/tJMyQ+ladw9DGDeSO0PBYSshfuGspqopkuyhPRGochDGpEtyO5GMkmad/RSd7Uffat/43BP8A+zQP/tGNt2o3UCpwm4alOJ4xYxXoMKNrq489JQbKUto+koy29T0Abt7JaONRNZJLmtx6l5luQ3KdPZI0PJJTe5v6q2t4t0YFH2g4fkcz7vqLRDsw07aYzjbsdxaSLXVtMlDZr3N3vdRz+2rvud3slqMhIir4u23PQ5pwJTURmiipXtbmpOmok/LujddqpNKs8JKESfv379jHGNOnDcVIlnJ+fg/obXcAVWQZxiuLPNxryxTGkOp4REdCHX3djd78246HFEncPdMtB9Y1muNZfw547NOYUYkm8o2H2SLbNRJ0OQ22SvonvCG4/dQu1DK5mOU5Xy0xq+PMaVJZiOsLNo3Ekyp/XaaUnQ173ffLoKrs7xyxxymlt23BtzLKfJsnIkc9pmNxg06R2T0LvUknud0zAVwn87+B8l5KnebOCgE/nfwPkvJU7zZwBQAAAA02QZXj2LNsuX05ETjBmlhvZW464ZabWw0ylbitNS10TuDcjl2TybKN2rV0miriuZ8SldU/XuPNRjS07I2Eux3XtzhNdSUX93u7oCqx7tCxHK5i6+gnqlyW0KcWji8loiSk0pVqt9ptOuqi3NdR5WXaZg1ROdrZ9w2iSwrYkJbbeeS0oz2dl1xltaEHr/eUQ1uLUWRQVZbkljHRX2N+aXo1TGcJ4mDjsqbQo1oIkKdcUrVZp3DMh4dkH3GfZtDUjgTQonzuDd2T1f218Nxnb/2dPpfy6dwBfxJcWfGamwnkSIz6ScZfaUS0LSe8pKk7hkPYc67FSUWGLNBGUA7CYdWR66cV4TvNnXd02trfHRQAT+Q+l8T5Vd91WQoBP5D6XxPlV33VZAKAc97V3W2G8NedWTbbeU1inHFGSUpSRPGpSjPcIiLfHQhzrtdix5sbEIcttL0aRk9ay+ystUrbWT6FoUXyGR6AKCo7QcNvbM6eqtmpE/Q1IZ2XEcISddTYW4hKHS70z7wzHtf5ri+MOtx7uxRHkulttxkpceeNO6W3wMdDjmzuHu6aCb7RIzDVzgUhptLbrN2zHaWgtk0tONq22y0/lPYLcHtaZHcv5jNx7D6qvXbQ4rLljZ2Timi4Nw9tppJR0LdWRbWu/oRn/aFAxmWNSqB3J4s9MioZ3HZLKHHDSepJ2VNIQbpK74tzZ17onOzvtNgZhGZizHEovHFSDOMxHkoa4JpathXCupW3qbZEZlwm/wD2DB7JFSVWGZnL4rxg7UlPlXqUuLwhtFt8CayJX0t/Ut8ZfZApR4Ako5kbyZM8klqW4vjDhpI9f2lvgNza9pOEUs9yssbdtuWyZJfQht51LRnvJecZbWhs/mUohuJuQUldUff0yey1VbCXEzdojbUlemwaDTrtbWu5pvjkPZdS5VaYak67Ko8FC3pSLOueq2ZTqHjdWThSnXXkKWpadFd8nePTuClT2fxUYJS4m3kKFTK6aUymszQjYXKacdeS3wBuL4RKSWojTtHva9zQBYY9l+OZUl9VDOTKOMaSkNmhxpxG2WqDU2+htZErTcPTQxuxD4pkNu/k9jjGTQYaLuHFakHZ15mbciOpZpQlSXC4RtRGrXZMz7um5v3ACfx70vlnKrXuqtFAJ/HvS+Wcqte6q0UACfzeRxXFrGQdwqgJtKFHbtsnJUwXCo1MmUbqtr6G5va6iezftGjYYuggE+l+VMkwysFvR31//tzvCIektmwRI4Xab3Eamf8AsGMrtf8A+m9//wBy3/vmxru0hSUQMDWsySlOS1BqUZ6EREl3UzMBcUt3W5DARZ1LqnojilJQ4ttxkzNB7Ku8fQ2vf+YbAAAT8z44puSrXzmqFAJ+Z8cU3JVr5zVCgAQHanudCtOtVX/+MKbIMsx3Fm2nL6eiJxgzSw2ZLcccMt/YaZStatNe4kTHan//AKV//a6v/wDGGNAOKrtquCstDmJqo33KTun+TqZyOA17u3rvbv0u5qAraTMMbyONIlUlgiWiJqclCUrS83pr9NhaUul9E9O93RmU93V39Wzc1ElMmvkEpTUgiUgjJCjQrVLhJUnRSTI9SELowfbeg6sk7ZUivvo2t7aN7+iT2m5t/R07umncEnMtpGEw8z7PomvG50pvou19HaauD4JSGvkJgzV+8B1lrMsZdoOlJWLaKQzUSZzqVtIUaFm0ZJJ1KVK79JkWhbvcHlQZ3ieTyVw6WyS/KQnhDjLbdYdNH99LchDalFu75EOeZ3Su0j3ZtQQJzdbAhvOx/vB9lD7KJaWW0x3HGXFJSpa1cJpqe4Z6iiThN+5lFFeZDljM1+sW8cSOiuaiOOk42aXGicQ+pRls7plsn/rAby47Q8MobA6q2tm2JqNk3WiQ64Te3ps8MtpC0t66l9MyFKhaHEJcbUS0LIlJUk9SMj3SMjIcwt4dviDmSZdjUiBcUcpx2Xe1Ew9FodYSaJCWJKNotrvdDbcTubxFqOhUk5i0pa6yitGxHmRWJDDBkRGhDraXEI0TuFskrTcAa7O/gfJeSp3mzgoBP538D5LyVO82cFAA/DMkkalHoRbpme8RCPLtV7PjllD+/Gds18ETxodKPt/Jxrg+A/7Y/e1RUtPZ5kJw9oneKntbG/wZqTw37uD2tfmGDZFi5dkb/Bkx9yfdB8X12dg1cD/T00/+Lwun+1t/OArLS/qKZUBNlJJk7SS3BgaJWsnH3v8ALQRtpVptfKrQvnH7ZXtVUPwItjI4F6zfKLBRsrVwjxlqSNUJUSf2q0IcjtilR8H7K5too2+K21SqSt3cNDeypSFL+QkoSWuoou0uVG6U4DC4VHGvvdDvAbRbfB6EnbNO/pqemoD7tO1qnqc3PH5T6UVbEVw5j5RZa3kTUO7BNJ4NCiUjY1PaSgy1/mHRGH25LDUlk9pp5CXG1GRpM0qLaSeiiIy3D7og5ikp7ZqwlGRGqgfJJGe+fGSPQv3EOgAJ/MvREblWm96wxQCfzL0RG5VpvesMUADBt7euoa920tXuLw2TbS47srXobriWUd62lSt1ayLeGkR2j4Q5bJpEXLJzlr4FstF8EpzXZ4NMjY4FStT00Jeuo1Hbb/0wvf8A6TzyONd2qdGz7J3U1xMHCUUUqEoxJMuE4VHB8W2e7sbWum7pqA2WW/8AU7s6+f768zQNzd9oWG47LVAtrVDUtstp1htDr62yMiVq6UdDnBloevfaCevyfLtB7MSlf+I4K34b/HxFva/0j9LJMhtbq/h4ZU1LDNZI4vbWFo6ts33kI0Uo24ralaJSWhKWe8X9gVcnL8biU0bIX7BH3RLWhpiahK3GzU4ZoTtG2lWyW0WhmrQiPf0GVd3tXjteu0uH+LxEKQ2bhIW4ZrcUSEJShlK1qM1H3CHMcDoG8o7JbWgd4L/i5M9DBsntMIdS6bjK2jP+RLhEZfMMKmvHe0OXhGOySM3KZK7TJG1a7RP16jhsJc3d9buqjI+4YDtgn5nxxTclWvnNUKAT8z44puSrXzmqAUAAADR5dkkTFKGVbyl7CkIWmKRtuOpVI2FKaQtLBGokmad09wvnIazA89rczrY2w6R26Yzb9jHbYfaabWoiJZNrfTsqLa3tlahuMr+F7v8A8hK/3KxHQHJP/I5C65SjkpoFE0bW6slJjmStnT+Yt3e3dQG4kdqeARpqoD120TqF8E44lDy2Er/uqkobNkv3rFc24282h5laXGnEkttxBkpKkqLUlJMtwyMhB4z0YLslh/5H3N91Ec3b2djhOC/4jhe5t8LtbX+0MjshKans3oCn7XDcC4aNvf4E3nDY/dwWzp8wC2AAAT+Pel8s5Va91VooBP496XyzlVr3VWigAa2pvqm8TMVVySfKvkuQphGlbZtvs6cI2onUpPc13y3PnHxTZLR5BVquqiYmTXINxKpGytBEbX09SdSlW5+wctyayewjIs1isGZFk1Y1OqkFuFx5SirVoR8q1LdS4fzENXNS5gMDKezyCouGt49f9xo104RyclFXMUR/42zUA6RcZBX21bjdvVZEurg2NnHZiupiuL48pSlpTDNLiUqaS6aD79Rabn7BrbvtXqKTNGMfkvpTXtsPfeL3FZS3m5KTTwSG+DQZKSaT3TSlRfOQx87rWKap7PKiMX9GDkdNGb7mpNJdRqfznpqYzrdSU9ruNkpREa6ucSSM9NT2kq0L9xGYDBya7q4+f4XeyZSI9YquspHGX9Wk8GtptSDUThJURnqXemWuu5pqK/H81xfKXX2KKxRKfjFq8waHGnEp3O+4N9DajTul3xFoJfLIUSd2pYS1NZQ+22xYvIQ4RKSTjaG1oXoe5qlRal849bJlprtio5DaSQ7Ip5bb607hrS24lSCV8uhmA6CJ+Z8cU3JVr5zVCgE/M+OKbkq185qgFAAAAn8y9ERuVab3rDFAJ/MvREblWm96wxQAAAAAAAAAAAAAAAAAA/DIlEaVFqR7hke9oJ9ePP1i1SMWfTB1M1OVbxGqA4Z7+yhPfR1H/ea73umhQoQAaWDkTLslFbasLqrRe43GfMjbeMt/ir5d498uhaLIvpJIboY82DCsoy4dgw3JjOfTadSSknpukeh90u4Y0vEr2i76qcVb1yd+tluf8U2XyRpbh9//AIHz/wDvCLcAUQDXVd5X2/CNxlqRKY04zCfSbUhkz3uEaXooiPuK+iruGZDYgAAAAAAAn8E+B8a5Kg+bNigE/gnwPjXJUHzZsUADAuaSqyGvcq7qKiZCd0NbLmu+W6SkqSZKSZfKR6jTVnZ1hlNJjTK6qSzKiOG8xJN15x0lmhTXfOOOKUstlZkSVGZF8gqAAa+PSVkS1m3cdjYsbBDTcx/bWe2lgjS0WwpRoTskf8pF84RKSrg2ljcxWODsLbgPvB/bWrhOLINpnvFKNCdlB6d6Ra90bAAEsvs3wddqd0ulZOapzhlHqvglO6mfCKj7fAmrU9dTRqN1S0tZjtYxT0zHFoEbb4FglLXs8ItTqu+dUpR6qWZ7pjPAAE/mXoiNyrTe9YYoBP5l6Ijcq03vWGAoBg3FPXX1e7VWzHGITxtqdZ2lo1NpxLyO+bUlW4tBHvjOABLR+zfB4tqm5j0rKJrbnDNGRrNpDmu1ttxzXwKFalrqlAzchw/G8rJj7+gJlKjGZx3SW406ja3yS6wttZEem9roN4ADR0mH41jkhcqkr0QnnGUxnFNqX3zaFKcLaJSjI1bSzM1H3x90x+pxHHkUsvHUw9Kqcp1yVG4R3v1Pq4Rw9vb2y2lfIr9g3YAPhlluOy3HZTstNJS22ndPRKS2SLd+YaLO/gfJeSp3mzgoBP538D5LyVO82cAUAAAAJa27OMKu5y7OxqW1TXf859lx2Opz5eF4s43t66bu1qKkAGndxTHHqM8aXWMfcxls8RSgktlu7W0WzoZK2t3aI9dd0a2t7N8JqH48mvqktSYjqZEeQbrzjqVpSpCf6jrilGkkrPvTPZ+YVQANBkOFYxlTkd6+r0ynopGTDpOOsrSlX0k7bC21Gk/7pnoN62hDSEttkSUIIkpSW8REWhEPoAAT+ZeiI3KtN71higE/mXoiNyrTe9YYCgAAAafIsVocsjMxL+KcpmO6UhhJOusmlwiNJKJTC21byj7o19P2dYXRTU2NdUtpmt7rUl9x2S4g/lbVKcdNP/sioABgXFLVX8FdbcxG5sNwyNTLpalqW8pJ76VF8pbo1VDgWI4zJObTViGJZp2CkuOOvupSZaGlDklbikF8yTIUgAOL31JCVmt3Y5xidlfx5BsopZVawqQ0iO2jdQ4iMttZL2j316/NoW/S9l9Ta1zl7Ichy6qglvMqoqewdN2QwlCFE+tRKU4aCcUZGSTVuafvPoYAAn87+B8l5KnebOCgE/nfwPkvJU7zZwBQAAAA5LndOiVmzdjlOOTshx1uCTNcmsaN5TMhS9p0322VNuq1ItzdNJfJv6daABy/s7p5cXKLCxqKqfQYiuElhmsslrJbkwnSVxhuO6txTSSbI06GZb/7iop/ZhgllOdspdM2qS+rhJBtuPNNuK12tpxplxDaz13T2kiuAB5Ro0eHHaixGkMR2Uk2yy2kkIQlJaElKU6EREPUAABP5D6XxPlV33VZCgE/kPpfE+VXfdVkAoBr7Wkq7viX3mxw/wB3S2rCH360bEljXgnP6ak7WztHuK1L5SGwABr7KkrLd2C9YscM5WyEzISttaODfQRpSvvFJ2tCUe4rUhrb7BMTyaW3Pu61MiW0ng0yEuOsrNG/sLVHW2a07u8rUUQANVS41RY7xgqSEiEmWpC30NGrYM20E0gyQZmlPepL6JFrvnujEr8HxWqunshrq5MezfNanXkLd2TU79NSWTXwSTV3TSkUAAJOz7NMGt5ztlOp2zlvmZvuNOPME6Z75uojuNoXr3doj1GwnYdjFlTM4/MrGV1UYyVGipI0E0otdFNKbNKkK7490j13RvAAaXH8Sx3FkPIoYCIhyDI5Du0t11zZ12dt15S1qItT0I1DdAACfx70vlnKrXuqtFAJ/HvS+Wcqte6q0UADBuKiuvq2RUWzPGIMoiS+ztLRtESiWXfNKSot1JbxjyuMfpsgrFU1xERLgK2f6CzUWmx9E0qQaVJMvlI9RswAa+mpKzHq9urqGOLxGzUpLZrW4e0szUo1LdUtajMz7pjYAACfmfHFNyVa+c1QoBPzPjim5KtfOaoUADX2lJWXXEvvNjh/u6U1YQ+/WjYksbXBOf01J2tnaPcVqXzDEyHEMbypLJX1eiWqOZmw7tLadRrunsOsqQsi3N7aG7ABqKDF6DF2HI9DBbhoeVtvLSaluOK7huOumtxemv8AMofE/E8es7uDkc+Cl62rS2Yco1LI0ERqUXeJUSFaGozLaI9O4N0ADBt6aqvoK625iNzYbhkamXk7RalvKLupUXcMt0aek7PcOx2YiwqKtLMxsjS1IccefW2lRbBk2qQ45sEaT073QUwAJSf2aYNZ2LlrNpmnZby+GfPbdS265rrtusocS0szPdPaSYqUIQ2hLbaSQhBElKUloREW4RERD6ABP538D5LyVO82cFAJ/O/gfJeSp3mzgoAH4tCXEqQtJKQojSpKi1IyPcMjIxHtdlfZ+zMKa3Rs8IlfCpaUt1Ucl/3ijKcNj/sCxABg21PV3te7VW8VEuC8RE4w4W4eh6kZaaGRke8ZbpDRwOzbCaxUZyFUobdiSES2HzdeW6TrRKS2anXHFLUlJKPRKjNPzCqABosiw3GsrOOq+gJlLimri7pLcZcRtfSInGFtq0P5NdBuWWWozLcdhJIZaSlttBbyUpLZSRfsIh6AAn8y9ERuVab3rDFAJ/MvREblWm96wxQAIftfgTrPs7uYNbGdmS3eK8FGjoU64rZlsLVsoQRqPRJGZ/MM9js4wiNapumKZlE1DhvNnq4bSHDPa4RuOa+BQrXd1SgVIANfLpKydZ11zKY4SfU8P93v7ay4LjKCae71KiSraSWnfEencGntezrC7qzVcWdS29Oc04Zwlutpd2dwuGbaWlDm9/OkxUAA19PSVdBFXCp4yYsZbrkg2UGo08I6rbWaSUZ7JGf8pbhdwhF9mNE6xNyjKpleutfvbJ1UeM82tpworSlbC1NukSkm6talK+XfHRAABPzPjim5KtfOaoUAn5nxxTclWvnNUAoAAAH4tCXEqQtJKQojSpKi1IyPcMjIxoaDCcXxd+RJoa9MNyUWy9o46tOztbeyhDq1pQWvcSRDfgAjl9lfZ+5MVNVRs8IpfCKaJbpRzV8pxic4A/8A3BYIQltKUISSUJIkpSktCIi3CIiIfoAAAACfx70vlnKrXuqtFAJ/HvS+Wcqte6q0UADT3OK4/kEyusLeEmTKqXeHgOmtaeDXtIXro2pJLLabSeiiMh+WOK4/bW9fe2MJL9lVnrBkGpZG2eu19FKiSrQ90toj0PeG5ABr7SkrLriX3mxw/wB3SmrCH360bElja4Jz+mpO1s7R7itS+YYmRYhjmVpjpv4JSziKNUZwluNONmrTa2XGFtrIj0LUtdBuwAapON0iZlZPREJMmmZXFrVpWsiZZcQTakEglbKu9SRd8Rj2dpax+3j3rrG1ZRGlx48jbWWy06ZGtOwStg9dN8y1GeAAJ+Z8cU3JVr5zVCgE/M+OKbkq185qgFAAAAn8y9ERuVab3rDFAJ/MvREblWm96wxQAAAAAAAADRZo7cMYrbSaB849pHjrfiupQhw9pr+qaCQ6laD20pNO6XdG9H4ZEojSotSPcMj3jIBGuZokuzI81SpPDfdnGU66bPGjRsEj5P8AP70ePZXklxkOPSG8jXt3tXMeg2BmhDajUkyWhWw0SUfRXs7hbug5zDJSWkdj69FG1k2zwJnv1CNbXXT59nUbjMLhWB5Pl62zNCcmp0SoGh//AMg0fECQ2nf2j4UnD03wFn2eX9nkVfb39lJSutesZKaYtlCUtwmD4NKjWlKdrVRK1NRnvD7a7VOz96YmEi8Z4Ra+CQ6pDqY5q+QpKmyY/wC2J7M6aTjfYhJpYBKS/DgxmpHB756vNHMV+xRKcNXzDaZaWMl2SzyYKP8Ac/3Ur7t+jwfCcF/wuxpubfC7OnzgKq3yKloTjFbzERCmG4lhbhK2D4JtT7m0siNKCJCTPVRkQxq3MsZtqiTfQrBB1cNam5Mt5K2EIUlKHD14wls/ouJMj03ddwc5tICp9X2UQb5nh1Lej8aZfLXaNMUlkTpd3dSW0R7/AHRu+2fQsdqEPl/+2KuoCbYj/wAvimq9vhf9jb2AGi7RM6xbJ6asjUNkmS+3cQHFsmh1lZt7ai4RCX0NmtGv8ydSHSshy/HMVJj79npiqkmZR2iQ466vZ+kaWmEuLMi13T0EP20fdJVuO7XAcf8AvaHxL6PC8DqfCcH3dj6Oum5vDd5Lj1lJyhjJsTsojWRQYRxH66cRuMuxXHFOo2yaUTjWqyPRZFu73cAbpLeOZpXxbeE6mS0ZGqDZxVKafaPXZVwbqdlaN0tFIPcPeUQ8+OXtFuWbariuT/8AyEVv/i20/LJitlo5/iYLX/5Zb48MByFGS0bk3iDdbIZlyIsyMypK2uMNK/qONrQSSUSzPXX5fl3xUgMeDPhWcZEyvkIkx3PoutKJSdS3DLc3jLulvkMgaWdjrD0ldlVvLq7Re6uVHIjS9pvFKYV/TeLuan35F9FSR4JyGRVqJjKWEw0mZJRas6qgLM9wttSu+jqP5He97hLUYChAfiVEoiUkyNJlqRlukZGP0BP4J8D41yVB82bFAJ/BPgfGuSoPmzYoAAAAAAAAAAAAT+ZeiI3KtN71higE/mXoiNyrTe9YYCgAAAAAAAAAAE/nfwPkvJU7zZwUAn87+B8l5KnebOAKAAAAAAAAAAAAAAE/mXoiNyrTe9YYoBP5l6Ijcq03vWGAoAAAAAAAAAAAAAAT+d/A+S8lTvNnBQCfzv4HyXkqd5s4AoAAAAAAAAAAAAAAT+Q+l8T5Vd91WQoBP5D6XxPlV33VZAKAAAAAAAAAAAAAAAAAT+Pel8s5Va91VooBP496XyzlVr3VWigAAAAAAABPzPjim5KtfOaoUAn5nxxTclWvnNUKAAAAAAAAAAAAAAAT+d/A+S8lTvNnBQCfzv4HyXkqd5s4KAAAAAAAAAAABP5l6Ijcq03vWGKAT+ZeiI3KtN71higAAAAAAAAAAABPzPjim5KtfOaoUAn5nxxTclWvnNUAoAAAAAAAAAAAAAE/j3pfLOVWvdVaKAT+Pel8s5Va91VooAAAAAAAAAAAAT8z44puSrXzmqFAJ+Z8cU3JVr5zVAKAAABP5l6Ijcq03vWGKATecsok0Lcdw1pQ9Z1DazbWtpZEq0iJM0ONGlaFbu4pJkZdwenQ2o+s2vtm1+2AKABP9Daj6za+2bX7YHQ2o+s2vtm1+2AKABP9Daj6za+2bX7YHQ2o+s2vtm1+2AKABP8AQ2o+s2vtm1+2B0NqPrNr7ZtftgD3LE8eLIzy0oSfvw2+BObtua7Gzsf5e1weuzua7OugXeJ49kcqvm3UJMqRVuG9BWpbieDWZpUZ6NqSSi1bTuK1IeHQ2o+s2vtm1+2B0NqPrNr7ZtftgDfONtvNrZeQlxpxJocbWRKSpKi0NKiPcMjISMbsswCJMTOYpGidQvhUNrW8thK9/aTHccUyR/sQNh0NqPrNr7ZtftgdDaj6za+2bX7YA2M+lrLOVAmTmOFkVjpyIK9paeDcNJoNWiFESu9P+bUe1hXQbaE9XWUdEqHITsvMOpJSFFrrukfyGWpDUdDaj6za+2bX7YHQ2o+s2vtm1+2AMCN2XYFEbNtimQXftOEtTr63EmyonG0ocW4paUEoiPYI9k+6QzsgwbFMokNy7yuTJlNI4JEhLjrLnB6mewa4621KT3x7hnoP3obUfWbX2za/bA6G1H1m19s2v2wBtKuqraSC1WVMZuJCYIyaYaLRJantGfzmZnqZnumMwT/Q2o+s2vtm1+2B0NqPrNr7ZtftgCgH4pKVpNCyJSVEZKSZakZHvkZDQdDaj6za+2bX7YHQ2o+s2vtm1+2APw8flVKjexZ9MVvfVUP6qgr+Zok6rjH/AN33nyoMxkQMijyJKa2xZXWWitdmHJ00d031Rnk/03i7ventF/MlI8OhtR9ZtfbNr9sHhLwDHJ7PF5x2MpnaJfBP21m4jaSeqVbK5ZlqR7wD3wT4HxrkqD5s2KAQeF4nVycOx6Q5Is0rerITiybtrJpBGqO2oyQ21KShCd3cSkiIu4N50NqPrNr7ZtftgCgAT/Q2o+s2vtm1+2B0NqPrNr7ZtftgCgAT/Q2o+s2vtm1+2B0NqPrNr7ZtftgCgAT/AENqPrNr7ZtftgdDaj6za+2bX7YAoBP5l6Ijcq03vWGHQ2o+s2vtm1+2DR5ZidWxVx1okWZmdnUtmTltZOFo5ZRW1GSXJSi2tFd6rfSe6WhkRgLwBP8AQ2o+s2vtm1+2B0NqPrNr7ZtftgCgAT/Q2o+s2vtm1+2B0NqPrNr7ZtftgCgAT/Q2o+s2vtm1+2B0NqPrNr7ZtftgCgE/nfwPkvJU7zZwOhtR9ZtfbNr9sGjzTE6uNh2QyG5FmpbNZNcQTltZOoM0x3FES23ZSkLTubqVEZH3QF4An+htR9ZtfbNr9sDobUfWbX2za/bAFAAn+htR9ZtfbNr9sDobUfWbX2za/bAFAAn+htR9ZtfbNr9sDobUfWbX2za/bAFAAn+htR9ZtfbNr9sDobUfWbX2za/bAFAJ/MvREblWm96ww6G1H1m19s2v2waPLMTq2KuOtEizMzs6lsyctrJwtHLKK2oyS5KUW1orvVb6T3S0MiMBeAJ/obUfWbX2za/bA6G1H1m19s2v2wBQAJ/obUfWbX2za/bA6G1H1m19s2v2wBQAJ/obUfWbX2za/bA6G1H1m19s2v2wBQAJ/obUfWbX2za/bA6G1H1m19s2v2wBQCfzv4HyXkqd5s4HQ2o+s2vtm1+2DR5pidXGw7IZDcizUtmsmuIJy2snUGaY7iiJbbspSFp3N1KiMj7oC8AT/Q2o+s2vtm1+2B0NqPrNr7ZtftgCgAT/AENqPrNr7ZtftgdDaj6za+2bX7YAoAE/0NqPrNr7ZtftgdDaj6za+2bX7YAoAE/0NqPrNr7ZtftgdDaj6za+2bX7YAoBP5D6XxPlV33VZB0NqPrNr7Ztftg0d7idW1aYwhMizMnrNxtZrtrJZkRVs9zVClyjNCtUF3ydD01LeMyMLwBP9Daj6za+2bX7YHQ2o+s2vtm1+2AKABP9Daj6za+2bX7YHQ2o+s2vtm1+2AKABP8AQ2o+s2vtm1+2B0NqPrNr7ZtftgCgAT/Q2o+s2vtm1+2B0NqPrNr7ZtftgCgAT/Q2o+s2vtm1+2B0NqPrNr7ZtftgBj3pfLOVWvdVaKAQdFidW7aZOhUizImbNttBotrJBmR1sBzVakSiNatVn3ytT00LeIiLedDaj6za+2bX7YAoAE/0NqPrNr7ZtftgdDaj6za+2bX7YAoAE/0NqPrNr7ZtftgdDaj6za+2bX7YATPjim5KtfOaoUAg5WJ1acxqY5SLPYcrLNxRnbWRr1RIrUkSXDlbaU9+eqSPRW5rrslpvOhtR9ZtfbNr9sAUACf6G1H1m19s2v2wOhtR9ZtfbNr9sAUACf6G1H1m19s2v2wOhtR9ZtfbNr9sAUACf6G1H1m19s2v2wOhtR9ZtfbNr9sAUACf6G1H1m19s2v2wOhtR9ZtfbNr9sAM7+B8l5KnebOCgEHmmJ1cbDshkNyLNS2aya4gnLaydQZpjuKIltuylIWnc3UqIyPujedDaj6za+2bX7YAoAE/0NqPrNr7ZtftgdDaj6za+2bX7YAoAE/0NqPrNr7ZtftgdDaj6za+2bX7YAoAE/0NqPrNr7ZtftgdDaj6za+2bX7YAZl6Ijcq03vWGKAQeWYnVsVcdaJFmZnZ1LZk5bWThaOWUVtRklyUotrRXeq30nuloZEY3nQ2o+s2vtm1+2AKABP9Daj6za+2bX7YHQ2o+s2vtm1+2AKABP8AQ2o+s2vtm1+2B0NqPrNr7ZtftgCgAT/Q2o+s2vtm1+2B0NqPrNr7ZtftgCgE/M+OKbkq185qg6G1H1m19s2v2waOVidWnMamOUiz2HKyzcUZ21ka9USK1JElw5W2lPfnqkj0Vua67JaBeAJ/obUfWbX2za/bA6G1H1m19s2v2wBQAJ/obUfWbX2za/bA6G1H1m19s2v2wBQAJ/obUfWbX2za/bA6G1H1m19s2v2wBQAJ/obUfWbX2za/bA6G1H1m19s2v2wAx70vlnKrXuqtFAIOixOrdtMnQqRZkTNm22g0W1kgzI62A5qtSJRGtWqz75Wp6aFvERFvOhtR9ZtfbNr9sAUACf6G1H1m19s2v2wOhtR9ZtfbNr9sAUACf6G1H1m19s2v2wOhtR9ZtfbNr9sAUACf6G1H1m19s2v2wOhtR9ZtfbNr9sAUAn5nxxTclWvnNUHQ2o+s2vtm1+2DXx6aJUZxV8VclucNVWe3xybKmabMms02OOvPbH0t3Z017u8QCwAAAT+ZeiI3KtN71higE/mXoiNyrTe9YYoAGryO/gYvSTL2zUZRYaNtRJ3VKUZkhDaCPTvlKMiISUS47WJ8Nu7Yp6hmI6knm6Z958pymz3SSb5FwKFqLuGjc7o8O3BCzwkpBoN2LFnxH5zZa98wS9lRHoR7m0pI6Iw8zJZbkR1k4y8lLjTiT1SpCi2kqSfyGRgML75hxqpi1uFoqW3Wm3HUTnENcCpaSUbTilKJO0kz0PdHpFuKidDXYwp8aTBbJSnJbLzbjKSSW0o1OIUaS0LdPdEbmVljjtzURDx/pXerjuyKyKjg1MoYUaSW+tchXApJSkkRK0M/2d3SYAy4jP8AKYcmjTQMyoMV5+mJxl9k1Ga0G5pH1a78jPUv2gKnGu0jH8in2NcUyHHfizlwoCCmNOKmoSSTS+wjvTMlamREna3t8WI5n2bU1QVxmDxV8YnYl8+iI4TLe00lKG9EtHs6oIte4OmAAAAAAAAAAAAAAAAAAAAAAAACfwT4HxrkqD5s2KAT+CfA+NclQfNmxQAAAACLyLKrwsjYw7EYkZ+2VG49NlzzWUWNH2uDTtJZ79a1nvJIy7n7vzGcsu3skmYblkWNHuI8dM6LJgqWcaTGUvgzWhLxmtKkq3DIzPu/INdSqJrtlyZp09lcirhvR0nvqbb2W1qT8xKPQJmkjttriZ75UShdXKMv5UrfUlBKP9qt4B0YAAAE/mXoiNyrTe9YYoBP5l6Ijcq03vWGAoAAAARFzlWQysmexHDIsRybBYRJtJ9kbnFmCd3WmSbjmTinFp77fItBbjnGFnwPaf2hx3T2XXTq3mkHvqbJhzVRfMW2kBtsRyy1sbe0xbJojMS+qUtuqXEUpUaQw6XevMcJ36SI9wyPe1+XUisRziCXD9t9o8z3zcWgajyTL+V12Qh5tKvnNstR0cAE/nfwPkvJU7zZwUAn87+B8l5KnebOAKAAAAAAAQPaLnV7ijDyaGhcsFsRilybF8jTBYbNSkaKURpNxeqN1CTLcMt0bbs7ySbl2HVuQ2LbTUuZw/CtxyUlsuCfdYTsk4pavotl/MPDtS/6e5D/AOUX/EhruxL/AKYUX/1fnkgB0AAAAE/mXoiNyrTe9YYoBP5l6Ijcq03vWGAoAAAAAABFXuVX7uSlh+HRYrtizHKbYzrE3OKx21q2W29hgycW4vfItS/jp9YrllxMvbHEMpix415AaRLbdhKUcaTGWZI4VpLuridlRkRkY1eMnwXa/nDTp7K5EaseYSe+ptthLS1J+YlnoGnGO3I1sd8mJjhIlKLeStctSkpV85pUR/sAdHAAABP538D5LyVO82cFAJ/O/gfJeSp3mzgCgAAAAAAEJPyrKLbJZ+N4VFhf/s6W/vSztDdNknXk7aGGW4xpUpWm+ZnoW782ubheWz72RbUd9Ebg39E621OaYWa2HEPJNbT7Jr77ZWRa6HvbnyjT9nCibyjtAiuHpITbE8bZ75NvIM21fsURbgY1o/2uZrIY75pmLXsPLLe4U2yVs690yJIDowAAAJ/IfS+J8qu+6rIUAn8h9L4nyq77qsgFAAAAAAAI/Kcqtod1AxPF4jEq+sGlyjcmKUmLGjNmaeGeJr+oraX3qSSMeiyzIWcp6G5jFiNz5EY5tbPrjc4s+2g9HG9h81LStO/v9z9muAk+A7dFm8eyUnG9mPr/ADmmYlSkp+ciQowyQuH7YMKbZ75yJEspEki30tOMqZbUr5jXuAOjgAAAAACfx70vlnKrXuqtFAJ/HvS+Wcqte6q0UADXX1zEx6mm3c7Xi0FpTziU6bStktxCdTItpR7hfOIGTmHaVXUacyn1FYdHsIlP1TTj/wB4tRV6HtqdX/RNaUntKTsjZ9tDTr3ZnfIaSalEmOsyL+6iUytZ/uSkzGbl0uKfZlcSuESqO9TPcE5/Krhoxpa0/wASlFoAp4E2PZQY1jEVtxpbTchhfytupJaD/eRjIE5gDDsbB8dZfSaHU10baSe+WrST0MUYCfmfHFNyVa+c1QoBPzPjim5KtfOaoUAAAAACDlZVld3kFlRYRFgJZpTQ1Y2dqbymlPrTtcAw3GNKjNP8xmf+rW8HOOy0+Dtc8iuHo+nIZTymz3ybePaaV+xRJPQBu8JyyXkX3pWXEREG9o3yjWUdle20e2RqaeZM++2HCSemorBzjDi4btR7QZjO7GI61g1lvG63G2XE/tSaT1HRwAAABP538D5LyVO82cFAJ/O/gfJeSp3mzgoAAAABEXOVZDKyZ7EcMixHJsFhEm0n2RucWYJ3daZJuOZOKcWnvt8i0HtiOWWtjb2mLZNEZiX1Slt1S4ilKjSGHS715jhO/SRHuGR72vy6kWpws+B7T+0OO6ey66dW80g99TZMOaqL5i20hBLh+2+0eZ75uLQNR5Jl/K67IQ82lXzm2WoDo4AACfzL0RG5VpvesMUAn8y9ERuVab3rDFAAAAAJ7M8pbxKlOy4uqZKedbiV8JBkk3pLx7LTe0e8W4Zn8xCZmZbneKPV0zM4VY5S2EhuI89VqfJ2Gt4z4NT3GDNLiO4Zp0/hq7Wj4JzCpbh7MePkkBT7h7yS1Ue0r5tww7cC4XAX4aN2TMlxI8RHdW6p5KiSn59lJgOjgAAAn5nxxTclWvnNUKAT8z44puSrXzmqAUAAAAIvIsqvCyNjDsRiRn7ZUbj02XPNZRY0fa4NO0lnv1rWe8kjLufutBzmlUTXbLkzTp7K5FXDejpPfU23strUn5iUegDY4zll29kkzDcsixo9xHjpnRZMFSzjSYyl8Ga0JeM1pUlW4ZGZ935BajnMzSR221xM98qJQurlGX8qVvqSglH+1W8OjAAAACfx70vlnKrXuqtFAJ/HvS+Wcqte6q0UAAAAAi8iyq8LI2MOxGJGftlRuPTZc81lFjR9rg07SWe/WtZ7ySMu5+78xnLLt7JJmG5ZFjR7iPHTOiyYKlnGkxlL4M1oS8ZrSpKtwyMz7vyDXUqia7ZcmadPZXIq4b0dJ76m29ltak/MSj0CZpI7ba4me+VEoXVyjL+VK31JQSj/AGq3gHRgAAAT8z44puSrXzmqFAJ+Z8cU3JVr5zVAKAAABP5l6Ijcq03vWGKATectreoW2m3lx1uWdQhD7ZINbZqtIhEtBOpWjaTvltJMvlIx6dHrfrZa+CqubQG5mQ4thFegzWUSIshBtvsuFtJWhRaGlRGIpvsopWGjgsW9y1Tq1I6VE9ZRNgz1NvTZ4UkH3SJwbzo9b9bLXwVVzaHR6362Wvgqrm0BiXPZ9SWy65+M9KpZdS1xaDLqXSjuoj6acBupWk0fMaR6Y9gtRjVnKuIT8uRNmsoYlvTHuHU6aFqXwy1LTtbZ7Wm/poRaEQ9+j1v1stfBVXNodHrfrZa+CqubQGM1gdbFyR7JYM6whuSnUyJtfHkbEKQ6ktnhHmtnaMz7vfaGKkT/AEet+tlr4Kq5tDo9b9bLXwVVzaAoAE/0et+tlr4Kq5tDo9b9bLXwVVzaAoAE/wBHrfrZa+CqubQ6PW/Wy18FVc2gKABP9HrfrZa+CqubQ6PW/Wy18FVc2gKABP8AR6362Wvgqrm0Oj1v1stfBVXNoCgAT/R6362Wvgqrm0Oj1v1stfBVXNoCgAT/AEet+tlr4Kq5tDo9b9bLXwVVzaAoAE/0et+tlr4Kq5tDo9b9bLXwVVzaAYJ8D41yVB82bFAIPC6K0ew7HnW8ns46HKyEtDDbdaaGyVHbMkIN2AteyneLaUZ/KZjedHrfrZa+CqubQFAAn+j1v1stfBVXNodHrfrZa+CqubQHnkmE1WSy4tk6/KrrWGk249nXPcBIS2o9TbNWytKk69xST3z+UemN4fVYwqVIiuSJlhONJzbOe6b8p7YLRBLcMklonuEkiIOj1v1stfBVXNodHrfrZa+CqubQFAAn+j1v1stfBVXNodHrfrZa+CqubQFAJ/MvREblWm96ww6PW/Wy18FVc2jR5ZRWjVXHUvJ7N4js6lBIcbrSIjXZRUJWXBwEHtIM9pO7pqW6RlqRheAJ/o9b9bLXwVVzaHR6362Wvgqrm0BQCYyDBaq/sWbpMqbU27LZsfeNW9xd5bJntcE4ZpWlSdflSPfo9b9bLXwVVzaHR6362Wvgqrm0B6Y1idVizMlNebz8ma5w06fLcN6TIcItCU86rf013C3v7RvBP9HrfrZa+CqubQ6PW/Wy18FVc2gKAT+d/A+S8lTvNnA6PW/Wy18FVc2jR5pRWjOHZC65k9nIQ3WTVrYcbrSQ4SY7hmhZtQEL2Vbx7KiP5DIBeAJ/o9b9bLXwVVzaHR6362Wvgqrm0BQAJ/o9b9bLXwVVzaHR6362Wvgqrm0BpM27J8dzy0ZtreVNYfYjpioTEcaQg0JWt0jMnWXT2tXD7oYT2T47gdo9bVEqa++/HVFWmW40tBIUtDpmRNMtHtatl3Ru+j1v1stfBVXNodHrfrZa+CqubQFAAn+j1v1stfBVXNodHrfrZa+CqubQFAJ/MvREblWm96ww6PW/Wy18FVc2jR5ZRWjVXHUvJ7N4js6lBIcbrSIjXZRUJWXBwEHtIM9pO7pqW6RlqRheAJ/o9b9bLXwVVzaHR6362Wvgqrm0BQAJ/o9b9bLXwVVzaHR6362Wvgqrm0B45Fg9VkU6PbnIl1dtGQbLVnWPcXkcEZ7RtLUaVpUjXuGkZGNYjVYumUuEp+TNnLS5PsZrpvyn1JLZRwjp6biS3iIiIfPR6362Wvgqrm0Oj1v1stfBVXNoCgAT/R6362Wvgqrm0Oj1v1stfBVXNoCgE/nfwPkvJU7zZwOj1v1stfBVXNo0eaUVozh2QuuZPZyEN1k1a2HG60kOEmO4ZoWbUBC9lW8eyoj+QyAXgCf6PW/Wy18FVc2h0et+tlr4Kq5tAUACf6PW/Wy18FVc2h0et+tlr4Kq5tAYl5gFXc2p3rE2fTWrjZMyJtU+UdbzaS0Sl4lIcSrTuHprvfINnjmMVWLQlw6tCz4dxT8qS+s3X33l/SdedVuqUYx+j1v1stfBVXNodHrfrZa+CqubQFAAn+j1v1stfBVXNodHrfrZa+CqubQFAJ/IfS+J8qu+6rIOj1v1stfBVXNo0d7RWiLTGEqyezcNyzcQha260jbMq2evbRsQEltaJNPfEZaGe5roZBeAJ/o9b9bLXwVVzaHR6362Wvgqrm0BQAJ/o9b9bLXwVVzaHR6362Wvgqrm0B+ZNh1VlCokiU5Ih2EBSlQbOA7wEpnbLRZIc0UWii3yMjHzjuF1eOS5Nk2/KsbWYlLcizsnuMSVNpPVLRK0SlKNe4lJf6CH30et+tlr4Kq5tDo9b9bLXwVVzaAoAE/0et+tlr4Kq5tDo9b9bLXwVVzaAoAE/wBHrfrZa+CqubQ6PW/Wy18FVc2gGPel8s5Va91VooBB0VFaLtMnSnJ7Ns27NtC1obrTNwzrYC9te3AUW1ook96RFoRbmupnvOj1v1stfBVXNoDdS4kadFehTGkvxpCFNPsrLVK0LLZUlRfIZGIhnslx9CWYb9hazKaOtK2aKTMNyAnYPaQngtklKSky12VLMhvej1v1stfBVXNodHrfrZa+CqubQG/IiIiIi0ItwiIfon+j1v1stfBVXNodHrfrZa+CqubQCZ8cU3JVr5zVCgEHKorQsxqWjyezUtVZZrS+bdbtpJMitI0JIoBI2V7RGeqTPvS0Mt3XedHrfrZa+CqubQFAAn+j1v1stfBVXNodHrfrZa+CqubQFAJK57Pqq1tnL2LPsKWykIS1Mk1Mji5yEoLRJPEpDiVGRbx6ajN6PW/Wy18FVc2h0et+tlr4Kq5tAZOOY1VYtXnXVLakoW4p+Q86o3Hnnl/TeecVuqWr5RtxP9HrfrZa+CqubQ6PW/Wy18FVc2gKABP9HrfrZa+CqubQ6PW/Wy18FVc2gGd/A+S8lTvNnBQCDzSitGcOyF1zJ7OQhusmrWw43Wkhwkx3DNCzagIXsq3j2VEfyGQ3nR6362Wvgqrm0BQAJ/o9b9bLXwVVzaHR6362Wvgqrm0B4ZBgtVf2LN0mVNqbdls2PvGre4u8tkz2uCcM0rSpOvypGXjWJ1WLMyU15vPyZrnDTp8tw3pMhwi0JTzqt/TXcLe/tHn0et+tlr4Kq5tDo9b9bLXwVVzaAoAE/wBHrfrZa+CqubQ6PW/Wy18FVc2gGZeiI3KtN71higEHllFaNVcdS8ns3iOzqUEhxutIiNdlFQlZcHAQe0gz2k7umpbpGWpHvOj1v1stfBVXNoCgAT/R6362Wvgqrm0Oj1v1stfBVXNoDPvaKrySrkU1wwUiFJLRaDMyMjI9UrQot1KknukYnq3s2qYVhDsp9lZ3btcrbrm7WVxhqOveJxtCUILaLuGrU/7Bsuj1v1stfBVXNodHrfrZa+CqubQFAAn+j1v1stfBVXNodHrfrZa+CqubQFAJ+Z8cU3JVr5zVB0et+tlr4Kq5tGjlUVoWY1LR5PZqWqss1pfNut20kmRWkaEkUAkbK9ojPVJn3paGW7qF4An+j1v1stfBVXNodHrfrZa+CqubQFAJvJMJqsllxbJ1+VXWsNJtx7Oue4CQltR6m2atlaVJ17iknvn8o9Oj1v1stfBVXNodHrfrZa+CqubQDG8PqsYVKkRXJEywnGk5tnPdN+U9sFogluGSS0T3CSREKAT/AEet+tlr4Kq5tDo9b9bLXwVVzaAoAE/0et+tlr4Kq5tDo9b9bLXwVVzaAY96XyzlVr3VWigEHRUVou0ydKcns2zbs20LWhutM3DOtgL217cBRbWiiT3pEWhFua6me86PW/Wy18FVc2gKABP9HrfrZa+CqubQ6PW/Wy18FVc2gPPJMJqsllxbJ1+VXWsNJtx7Oue4CQltR6m2atlaVJ17iknvn8o9Mbw+qxhUqRFckTLCcaTm2c9035T2wWiCW4ZJLRPcJJEQdHrfrZa+CqubQ6PW/Wy18FVc2gKABP8AR6362Wvgqrm0Oj1v1stfBVXNoCgE/M+OKbkq185qg6PW/Wy18FVc2jXx66XAzir41bS7ThKqz2OOIip4PZk1muxxKNG+lru7Wu9uabuoWAAACfzL0RG5VpvesMUAn8y9ERuVab3rDFAA0mYZD0UxuwyHi3G+IoSvi23wW3tLS3pt7K9Ppa/RG0hSSmQ48sk7BSGkOkgz1020krTX94j+1/8A6b3/AP3Lf++bFRSeha7/AMqx/u0gM8ByLDsVqO0aDOyvMUrs5cuZJZisqedQ3DYZXwTbTCGlIJJlprtb/wC/XXDr6qwyLC82wlcl6c7QT3WqOU8s1P8A/D6Px2jcPukpGzr8h9wB2kBx+6yEu0DFsMoY6/6+VvNqtUoP6MeB/Un729/URon5R45c5Y5F2gTMcVRPZDT00JhaKhma3AZJ1/RfGHttTfCaF3qU66F8m6A7MA5l2f0uVVFjdRjqXaCgkMIVVwpE1qemPKLVKuB4NbiiQrXaNJ/IJ3F6+kx61q2M2r7Cpy9UvZbyI33XYti8pxWjfDpWpvZdToRtrQW584Dt4AAAAAAAAAAAAAAAAAAAJ/BPgfGuSoPmzYoBP4J8D41yVB82bFAAAAAJTJMzcqbaLjdLVuXd/KaOUUJt1LDbUdKtg3n33CUlCdrcLcPX+zX8xjNF3VrNx23q3KW+gNpkOwnHEvocYUZJJ5h9skktOpkR7hb/AO0aakMz7ZMo4T6RVkLgdrf4Pc2tjX+Xa39O6PmcSf8AndVm1/mFQvcY039jh17G1820A6OAAACfzL0RG5VpvesMUAn8y9ERuVab3rDAUAAAAJG+zWTCu04zjtQ5e3RMlKksJeRFZjsmeylT0h1KiJSv5UkRmK4c4wozPtO7ReF/zSVVbG19LY4u5va7uzps/wCgBv8AFMyLIpVjUT692ovalSCn1zy0ukSXC2m3GnkESXEK+XT+JCoHOIZfrjYm19Do83xjTe4TjTextfPsb3zDo4AJ/O/gfJeSp3mzgoBP538D5LyVO82cAUAAAAAAAkshzR6tuWcZoKly8vXWeNuRUOojNMx9rY4V+Q6Skp1PeLQz/tLX7xbMzvp8+js61ymvqwkLlV7q0vJNpz6DrL7ZJS4k/wBhDR4wZn2u51wm+UerJja3+D4uW1sa/wAu3v6d0fKi/XRJsdWv+J2fl44em1/2QHSAAAAT+ZeiI3KtN71higE/mXoiNyrTe9YYCgAAAAAAElkOaPVtyzjNBUuXl66zxtyKh1EZpmPtbHCvyHSUlOp7xaGf9pa/eLZmd9Pn0dnWuU19WEhcqvdWl5JtOfQdZfbJKXEn+who8YMz7Xc64TfKPVkxtb/B8XLa2Nf5dvf07o+VF+uiTY6tf8Ts/Lxw9Nr/ALIDpAAAAJ/O/gfJeSp3mzgoBP538D5LyVO82cAUAAAAAAAjbbOJrd8/jWLUi76zhNodsj4wiJHjE6W02hbzqV6rUW6SST/A9M3EMwZylE6O7CdrLaqdKPZ1r5kpTS1EZoNK0d6tCtD2VFv6Cf7NzM8mz/hP87743dfpcGSD4P59nT6I+cbJP/N/NDZ+hxSu4fZ3uE4Itna+fZAdHAAABP5D6XxPlV33VZCgE/kPpfE+VXfdVkAoAAAAAABMZRmH3DLg01bXu3F9ZEtUOtZWlouDbLVbrzzmqW0FvamMfHs2kWN49i+QVDlHeNscbZjqeTJZfY2tg1svtpQRmR75afwMadsz/wCejpO7xY1/Q2v/ADiddjX/ANre+cMmLXtewc2vplGs+Mab/B8ArY2vm2975wHRwAAAAABP496XyzlVr3VWigE/j3pfLOVWvdVaKABi2VjDqK+TaWDnBRIbSn33NDPZQgtpR6Fun+whAr7T7mNXN5LNxGUxizmwsrLjLS5CWHDIkSFwkp2iQeuv097dGX20m4XZle8FrtbMYj2d/ZOUxt73c2ddfmGxy/i//LW612eB+5pHB6abOvFlcHs6fPpoAqGH2ZTDUmOsnGXkJcacLeUhZbSVF+0jHoJrs9JwsExsnddr7ti7+/pwSdn/ALOgpQE/M+OKbkq185qhQCfmfHFNyVa+c1QoAAAAAHOM77X67DZEiBFrJFtNhm2U3Y1ZjMG6lLiEuSDQ4W0pKyMiJJ/tHRxzDt8Ii7PJJkW/KjGf/vAL+is/vukrbkmuAKxisS+B2tvY4dtLuxtaJ2tna010IbAT+CfA+NclQfNmxQAAAACfzv4HyXkqd5s4KAT+d/A+S8lTvNnBQAAAACRvs1kwrtOM47UOXt0TJSpLCXkRWY7JnspU9IdSoiUr+VJEZj2xTMiyKVY1E+vdqL2pUgp9c8tLpElwtptxp5BElxCvl0/iQ0GFGZ9p3aLwv+aSqrY2vpbHF3N7Xd2dNn/QEMv1xsTa+h0eb4xpvcJxpvY2vn2N75gHRwAAE/mXoiNyrTe9YYoBP5l6Ijcq03vWGKAAAAAafJ8kr8Up3rmy21NNmlDTLKdp111Z7LbTae6pRiZLtDuK2bXt5djDtHAtXkxYk8pTUtKXnP8ALbkoaSk2tr9p/wCgxjdrJnw2EEv/AMOeS1/C7X0N9Wm1rub2oduRbXZ9KJH/AIjjMTi2n0uE4ZOmx8+moDo4AAAJ+Z8cU3JVr5zVCgE/M+OKbkq185qgFAAAACUyTM3Km2i43S1bl3fymjlFCbdSw21HSrYN599wlJQna3C3D1/s1qxzqkMz7ZMo4T6RVkLgdrf4Pc2tjX+Xa39O6A3OMZou6tZuO29W5S30BtMh2E44l9DjCjJJPMPtkklp1MiPcLf/AGisHOJxJ/53VZtf5hUL3GNN/Y4dextfNtDo4AAAAn8e9L5Zyq17qrRQCfx70vlnKrXuqtFAAAAAJTJMzcqbaLjdLVuXd/KaOUUJt1LDbUdKtg3n33CUlCdrcLcPX+zX8xjNF3VrNx23q3KW+gNpkOwnHEvocYUZJJ5h9skktOpkR7hb/wC0aakMz7ZMo4T6RVkLgdrf4Pc2tjX+Xa39O6PmcSf+d1WbX+YVC9xjTf2OHXsbXzbQDo4AAAJ+Z8cU3JVr5zVCgE/M+OKbkq185qgFAAAAn8y9ERuVab3rDFAJvOTfTQtqioQ5IKzqDZbcWbaFLK0ibKVrShw0pM98ySenyGPTjmcepqr2rJ5qAeuX490rxuwx45PFOPISjjGxwmxsrS5rsbSNfo/3iGop8azitehplZc1Mr4uwlyGVW00bjSC2djhSfUadwt/QbLjmcepqr2rJ5qDjmcepqr2rJ5qAaEuz24qps93Dsmco4Nk8qTJrlxGpjaHnPpuRjdUg29fk3S/sIUWK4vAxOtVXw3HJDj7q5U2ZIPaekSHd1x5wyIt09B58czj1NVe1ZPNQcczj1NVe1ZPNQDSYr2ZxMYyexyJucqS1J4ZNfAU3sIhokO8O8ltW2ra1MiIu9Lc+UZmQ4Q9ZXbOT0Nu7RXjbPFHZKGkSGXmNrbJt9h00krQ949S/gM/jmcepqr2rJ5qDjmcepqr2rJ5qAfNRj93GZnFd5FJtJE1omUuNtNw0RyIlFtx22drZX32u0aj3iGk/wCX93PlV5ZLlT1vWVklubGhcUZjrW8yZm0ciQ2Zqc2f8Jaje8czj1NVe1ZPNQcczj1NVe1ZPNQCgAT/ABzOPU1V7Vk81BxzOPU1V7Vk81AKABP8czj1NVe1ZPNQcczj1NVe1ZPNQCgAT/HM49TVXtWTzUHHM49TVXtWTzUAoAE/xzOPU1V7Vk81BxzOPU1V7Vk81AKABP8AHM49TVXtWTzUHHM49TVXtWTzUAoAE/xzOPU1V7Vk81BxzOPU1V7Vk81AGCfA+NclQfNmxQCDwuVmKcOx5MWprHI5VkImXHLOQ2tSCjt7KloTWuElRlvkSj0+UxvOOZx6mqvasnmoBQAJ/jmcepqr2rJ5qDjmcepqr2rJ5qAYOR4U9aXUbJqK1XR30dk4i5aGUSG3o5q2+CfYcNJK0PePX+Bae2M4cqlsJl7a2Tlzfz0IZfsHW0MpSyjdSywy3qltGu6ZanqYyOOZx6mqvasnmoOOZx6mqvasnmoBQAJ/jmcepqr2rJ5qDjmcepqr2rJ5qAUAn8y9ERuVab3rDDjmcepqr2rJ5qGjyyVmKquOUiprG0fedSZKbs5Cz2ysoptpMlVqO9UvQlHr3pbuitNDC8AT/HM49TVXtWTzUHHM49TVXtWTzUAoBHXmES5d90oxq5XRXDrJRprhMIlMyGkmWxwrDikFtp00JRHvDY8czj1NVe1ZPNQcczj1NVe1ZPNQDyxXEEY69Ps5k522u7VSF2Fm+lLZqJstltttpvvW0JLeSX/o0pRP8czj1NVe1ZPNQcczj1NVe1ZPNQCgE/nfwPkvJU7zZwOOZx6mqvasnmoaPNJWYqw7IUyqmsbjnWTSecbs5Di0oOO5tKQhVa2SlEW8RqLX5SAXgCf45nHqaq9qyeag45nHqaq9qyeagFAAn+OZx6mqvasnmoOOZx6mqvasnmoBgZBhMifeN5Rj1uuiu0scUkSEsoksvsbW0SHmHFIIzSe8rX+BDIxfD/uGXOuLGwcuL2z2EzLF5CWi4NstEMsst962gt/Qt8e/HM49TVXtWTzUHHM49TVXtWTzUAoAE/xzOPU1V7Vk81BxzOPU1V7Vk81AKAT+ZeiI3KtN71hhxzOPU1V7Vk81DR5ZKzFVXHKRU1jaPvOpMlN2chZ7ZWUU20mSq1HeqXoSj170t3RWmhheAJ/jmcepqr2rJ5qDjmcepqr2rJ5qAUACf45nHqaq9qyeag45nHqaq9qyeagGBkGEyJ943lGPW66K7SxxSRISyiSy+xtbRIeYcUgjNJ7ytf4EMjF8P+4Zc64sbBy4vbPYTMsXkJaLg2y0Qyyy33raC39C3x78czj1NVe1ZPNQcczj1NVe1ZPNQCgAT/HM49TVXtWTzUHHM49TVXtWTzUAoBP538D5LyVO82cDjmcepqr2rJ5qGjzSVmKsOyFMqprG451k0nnG7OQ4tKDjubSkIVWtkpRFvEai1+UgF4An+OZx6mqvasnmoOOZx6mqvasnmoBQAJ/jmcepqr2rJ5qDjmcepqr2rJ5qAaq1wWed/KyTFL1dBPsUNt2aDjNy2H+CI0tuG04pGytJd0j/AInrtMUxOPjDUxxUp2xtLN7jNnZyCSTjzhFoktlHeoQgvopLeH7xzOPU1V7Vk81BxzOPU1V7Vk81AKABP8czj1NVe1ZPNQcczj1NVe1ZPNQCgE/kPpfE+VXfdVkHHM49TVXtWTzUNHeysxO0xg3amsStNm4bCUWchRKX92zyNKzOtTsJ2DUepErdIi03dSC8AT/HM49TVXtWTzUHHM49TVXtWTzUAoAE/wAczj1NVe1ZPNQcczj1NVe1ZPNQDFyjDDvbCBfVVk5TX9clbcewbbS8lTLmu0y+y4aUuI3dS3dwfOPYY9W3L+S31q5eXrrJRG5S2kR2mY5K2+DYYbNRJ2lb56mf9p65nHM49TVXtWTzUHHM49TVXtWTzUAoAE/xzOPU1V7Vk81BxzOPU1V7Vk81AKABP8czj1NVe1ZPNQcczj1NVe1ZPNQBj3pfLOVWvdVaKAQdFKzErTJzaqaxS1WbZvpXZyEklf3bAIkoMq1W2nYJJ6mSd0zLTc1Pecczj1NVe1ZPNQDaWtXCuq2VU2LfCw5jamX0a6GaVFpuGW8Zb5H3BCf8srmRXtY5aZbJl4uzsI+7SjNNPrZaMjQw7MQrbUjvdNxJbgp+OZx6mqvasnmoOOZx6mqvasnmoBvWmm2GkMMoJtppJIbQktCSlJaJSRfIRD7E/wAczj1NVe1ZPNQcczj1NVe1ZPNQBM+OKbkq185qhQCDlSsx6Y1KlVNYUgqyzJtsrOQaDQcit21KX92kaVJMk6Fsnrqe6Wnfbzjmcepqr2rJ5qAUACf45nHqaq9qyeag45nHqaq9qyeagFAOXZz2TXGaWsuUrL5MOrkm0pFMbTj0dtTTaG9pKONNo1UpJr+hvmLHjmcepqr2rJ5qDjmcepqr2rJ5qAazs+wm1wqPKiz8ikXrDqWG4TL6VoRFQwS07DKVvvkSVEpJaJ0+iQsxP8czj1NVe1ZPNQcczj1NVe1ZPNQCgAT/ABzOPU1V7Vk81BxzOPU1V7Vk81AGd/A+S8lTvNnBQCDzSVmKsOyFMqprG451k0nnG7OQ4tKDjubSkIVWtkpRFvEai1+UhvOOZx6mqvasnmoBQAJ/jmcepqr2rJ5qDjmcepqr2rJ5qAa68wiXLvulGNXK6K4dZKNNcJhEpmQ0ky2OFYcUgttOmhKI94ZmK4gjHXp9nMnO213aqQuws30pbNRNlsttttN962hJbyS/9GnrxzOPU1V7Vk81BxzOPU1V7Vk81AKABP8AHM49TVXtWTzUHHM49TVXtWTzUAZl6Ijcq03vWGKAQeWSsxVVxykVNY2j7zqTJTdnIWe2VlFNtJkqtR3ql6Eo9e9Ld0Vpoe845nHqaq9qyeagFAAn+OZx6mqvasnmoOOZx6mqvasnmoB65VjEDLqd2nsFLaSakvR5LJ7LrLzZ6tvNn8qf4CfawC3nza9/L8lcvYlW8mVDgFEaiNqfb/y3ZBtKWbpp/cX+nXd8czj1NVe1ZPNQcczj1NVe1ZPNQCgAT/HM49TVXtWTzUHHM49TVXtWTzUAoBPzPjim5KtfOaoOOZx6mqvasnmoaOVKzHpjUqVU1hSCrLMm2ys5BoNByK3bUpf3aRpUkyToWyeup7pad8F4An+OZx6mqvasnmoOOZx6mqvasnmoBQCRyPCnrS6jZNRWq6O+jsnEXLQyiQ29HNW3wT7DhpJWh7x6/wAC0zuOZx6mqvasnmoOOZx6mqvasnmoBj4zhyqWwmXtrZOXN/PQhl+wdbQylLKN1LLDLeqW0a7plqepioE/xzOPU1V7Vk81BxzOPU1V7Vk81AKABP8AHM49TVXtWTzUHHM49TVXtWTzUAY96XyzlVr3VWigEHRSsxK0yc2qmsUtVm2b6V2chJJX92wCJKDKtVtp2CSepkndMy03NT3nHM49TVXtWTzUAoAE/wAczj1NVe1ZPNQcczj1NVe1ZPNQDByPCnrS6jZNRWq6O+jsnEXLQyiQ29HNW3wT7DhpJWh7x6/wLT2xnDlUthMvbWycub+ehDL9g62hlKWUbqWWGW9Uto13TLU9TGRxzOPU1V7Vk81BxzOPU1V7Vk81AKABP8czj1NVe1ZPNQcczj1NVe1ZPNQCgE/M+OKbkq185qg45nHqaq9qyeahr47147nFX98wokTSqs+A4nLclbWsms29vhYsTY03NNNrX5tN0LAAABP5l6Ijcq03vWGKAT+ZeiI3KtN71higAaXIMrosWQw5eSFx0yTUlk0MPv6mgiNWpRm3NPpd0aBHbD2eOGpLdq4o0HsrJMGcZkfyHpH3BcjnPZp8QZ9y2v8A+yA6G06h5pDzZ6tuJJaDMjLUlFqW4ehj7EDc3WTXeYvYdi8xuoZrYzcu1tlspkubTx/0mGGne83U98aj1/0bv5QXmTVWZrwjKJjVsmTDOwq7VtlMdxSUL4NbL7TXeEZb5GRfx0IL8AAAAAAAAAAAAAAAAAAAAAAAAAAT+CfA+NclQfNmxQCfwT4HxrkqD5s2KAAAAAafIMpx/FmGn76ciGl9WwwkyUtxxW5qTbTSVrVpqW8kMfynH8pYdfoZyJiWFbD6SJSHG1buhONOpQtOuh76RIVyG7HtnunpaScXT1cZmv2t0myfPhHFJI95R7Rlr8m4Pl1pFd23RlxCJsrekWc5KSIicWy8ew4r5VaISnX5AHSQAAAT+ZeiI3KtN71higE/mXoiNyrTe9YYCgAAABpMhy/G8VSyd9PREVIMyYaJK3XV6bhmhphLjhkWu6eyN2Ob4olFj2q5xPlpJcisbroUFZlrwTLrTjjiU6720tGpgLShyOjyeGc+imomx0q2FmjVKkK012XG1klaD+ZRENoOa1LaK7tru4kRJNsWdK1YSkJLQlPtPoYJehd00rPX5zHSgAT+d/A+S8lTvNnBQCfzv4HyXkqd5s4AoAAAAAABpcgyzHcWbZcvp6InGDNLDeytx1wy012GmUrcVpru6JHpQZNQ5RFXMoZyJjTath3ZJSFoV/dcbcJK0H/iSI2iSiw7Yssky0E47TwoESAo93g25DXGHdnXeM1KPd+QfLDaa3twkMxEk21bUCZcxCSIiW83JNlLh6fzbKNNfnAdKAAABP5l6Ijcq03vWGKAT+ZeiI3KtN71hgKAAAAAAAaXIMsx3Fm2XL6eiJxgzSw3srcdcMtNdhplK3Faa7uiR6UGTUOURVzKGciY02rYd2SUhaFf3XG3CStB/wCJIjaJKLDtiyyTLQTjtPCgRICj3eDbkNcYd2dd4zUo935B8sNpre3CQzESTbVtQJlzEJIiJbzck2UuHp/Nso01+cB0oAAAE/nfwPkvJU7zZwUAn87+B8l5KnebOAKAAAAAAAaDIM1xfF3WY95YJjSHy2mo6UOPPKTu99wUdDi9ncPd00GdSX1PkcFNlSTG5sRRmnhWzPcUW6aVpVopKt3eUWoicAQ3OzTPLmSklzm7BFe26e6aI7CNlLaP7pHoRq039B84k0it7VM2rYhE3DkMwZymUkRJS8tH9RSSL++azMwHSQAAAT+Q+l8T5Vd91WQoBP5D6XxPlV33VZAKAAAAAAAau+yOjxiGU+9mohR1K2EGvVSlq012W20Epaz+ZJGPDHsvxvKkvHQz0S1RzIn2jStp1Gu4RrafS24RHpuHsiSfSiy7bo8eYknGqmhXLgoUWpIfdkpZW6Wv8xoVoPm+bRA7ZMSlRUk27bwp8ScpJaG43HaOQ3tfKZKIv3EA6UAAAAAAJ/HvS+Wcqte6q0UAn8e9L5Zyq17qrRQAPwzJJGpR6EW6ZnvEQkWu1HAX56a1u7ZN9bnAoWaHSYU5/dTJNBMH/wC+MbtgmvwOze/fjK2XFNNMGf8AsSH2o7hfvQ4Y+croatHZTZVTcdCYkGocdjN7Jd6uMwbzay/2ttGpmAugE/gkt+fhePy5Ktt92vjKdWe+pXBJI1H8574oAE/M+OKbkq185qhQCfmfHFNyVa+c1QoAAAAAE9kGcYri77cW8sUx5LqdtEdCHX3djd78246HFkncPdMtBQjm/ZolE3Is8upCCVPO6eriePdUUeIRNtNpPuFpv/LufIAuae6qsggN2dNLbmw3NSS80epalvpUR6GlRd0jLUZ45rgzaa7tHz+mipJuETkCahlJESUuyWOEdUki/vGrd/YOlAAAACfzv4HyXkqd5s4KAT+d/A+S8lTvNnBQAAAADSZDl+N4qlk76eiIqQZkw0SVuur03DNDTCXHDItd09ke9DkdHk8M59FNRNjpVsLNGqVIVprsuNrJK0H8yiIReKJRY9qucT5aSXIrG66FBWZa8Ey60444lOu9tLRqY+altFd213cSIkm2LOlasJSEloSn2n0MEvQu6aVnr85gOlAAAJ/MvREblWm96wxQCfzL0RG5VpvesMUAAAAA8ZcuLAiuzZryI8VhJuPPuqJKEJTumpSj3CITlP2j4VfT0VlXbIdmO68C0tt5nhdNdeBU+22lze/kMxoe10+Mx8WpXi2oVtfwIs5v/wDyMmozNs/mM9D/AHDz7bWWYuEt27DaUTKWZEk17hJIjbWTqW9E6bxaHvfMQDpYAAAJ+Z8cU3JVr5zVCgE/M+OKbkq185qgFAAAADWXmRUmNQzn3s5qDH3SSp0++UZbuy2hOq1n8ySMxsxA9qWMUNhjl1kE6EiRZwqx9uI+4alE0REpwlIQZ7BK2j+lpqArKK+qclrWrikkcagPGpLb2wtvU0KNCu9dShRaKLukNkOcdhX/AE2rf+9lf79wdHAAAAE/j3pfLOVWvdVaKAT+Pel8s5Va91VooAAAABp8gynH8WYafvpyIaX1bDCTJS3HFbmpNtNJWtWmpbyQx/Kcfylh1+hnImJYVsPpIlIcbVu6E406lC066HvpEhXIbse2e6elpJxdPVxma/a3SbJ8+EcUkj3lHtGWvybg+XWkV3bdGXEImyt6RZzkpIiJxbLx7DivlVohKdfkAdJAAABPzPjim5KtfOaoUAn5nxxTclWvnNUAoAAAE/mXoiNyrTe9YYoBN5y4tmhbdbZXIW3Z1C0MNmgluGm0iGSEG6pCNpW8W0oi+UyHp0ht+qdr4Wq5yAUAi8HobWnuMulWLHAs2loqVBVtoXwjJp3F6IUo0/sVoY2nSG36p2vharnIOkNv1TtfC1XOQCfuKfKaLNH8xxiC3cxrOK3FtKtT6IzpLY3Gn2XXf6f0dwyP5/l3PSgositMwXnGURGqtTEM66rqW3kyFoQpfCOPPutlsGo9dCJOu5+zd3nSG36p2vharnIOkNv1TtfC1XOQCgAT/SG36p2vharnIOkNv1TtfC1XOQCgAT/SG36p2vharnIOkNv1TtfC1XOQCgAT/SG36p2vharnIOkNv1TtfC1XOQCgAT/SG36p2vharnIOkNv1TtfC1XOQCgAT/SG36p2vharnIOkNv1TtfC1XOQCgAT/SG36p2vharnIOkNv1TtfC1XOQCgAT/SG36p2vharnIOkNv1TtfC1XOQCgAT/SG36p2vharnIOkNv1TtfC1XOQBgnwPjXJUHzZsUAg8LvbRnDseabxizkIbrISEPtuVpIcJMdsiWgnZ6F7Kt8tpJH8pEN50ht+qdr4Wq5yAUACf6Q2/VO18LVc5B0ht+qdr4Wq5yAaC9pMlpsz6a4vCRbNzYaYNrVKeRGcUbaiU1Iadd7wzIu90V3P27nrjdFkE/LJOc5TFbrpHFE1tXUtvFINlnb4Vxx51HeGtSt7Z7g3XSG36p2vharnIOkNv1TtfC1XOQCgAT/SG36p2vharnIOkNv1TtfC1XOQCgE/mXoiNyrTe9YYdIbfqna+Fqucho8svbR2rjpXjFmyRWdSsluOVpkZosoq0oLg56z2lmWync01PdMi1MgvAE/0ht+qdr4Wq5yDpDb9U7XwtVzkAoBz2wpsoxrM7HKsYrUXUK9ZZRZ1vGG4rrb8ZPBtPNre/pqSaNdS39TMUXSG36p2vharnIOkNv1TtfC1XOQDU4jQXishtc1ydluHY2LTUOHWsuE8UWI132yt0iJK1rX3x7O5/boVsJ/pDb9U7XwtVzkHSG36p2vharnIBQCfzv4HyXkqd5s4HSG36p2vharnIaPNL20ew7IWnMYs46HKyahb7jlaaGyVHcI1rJqeteynfPZSZ/IRgLwBP9Ibfqna+Fqucg6Q2/VO18LVc5AKABP9Ibfqna+Fqucg6Q2/VO18LVc5AJ62pcnoM0k5jjFei5j20ZuNa1Zvoiuk6xolqQ2493h6I70yP/1ZOLUF7IyiwznKI7cGdIjIrq6sadJ848VKuFXwrydEKWtzd73cL943HSG36p2vharnIOkNv1TtfC1XOQCgAT/SG36p2vharnIOkNv1TtfC1XOQCgE/mXoiNyrTe9YYdIbfqna+Fqucho8svbR2rjpXjFmyRWdSsluOVpkZosoq0oLg56z2lmWync01PdMi1MgvAE/0ht+qdr4Wq5yDpDb9U7XwtVzkAoAE/wBIbfqna+Fqucg6Q2/VO18LVc5AJ62pcnoM0k5jjFei5j20ZuNa1Zvoiuk6xolqQ2493h6I70yP/wBWTi1BeyMosM5yiO3BnSIyK6urGnSfOPFSrhV8K8nRClrc3e93C/eNx0ht+qdr4Wq5yDpDb9U7XwtVzkAoAE/0ht+qdr4Wq5yDpDb9U7XwtVzkAoBP538D5LyVO82cDpDb9U7XwtVzkNHml7aPYdkLTmMWcdDlZNQt9xytNDZKjuEa1k1PWvZTvnspM/kIwF4An+kNv1TtfC1XOQdIbfqna+FqucgFAAn+kNv1TtfC1XOQdIbfqna+FqucgEyuqy7EMqurjHKpF9U5ApuS9CKS1EejykJNK1kb+iFJc3z7v9m7s8Kx23h2V3lWSJbaub5xrWGwvhG40eOng2WeE0LaVp9Iy3Bs+kNv1TtfC1XOQdIbfqna+FqucgFAAn+kNv1TtfC1XOQdIbfqna+FqucgFAJ/IfS+J8qu+6rIOkNv1TtfC1XOQ0d7e2i7TGFKxizbNuzcWhC3K0zcM62ejYRsT1FtaKNXfGRaEe7roRheAJ/pDb9U7XwtVzkHSG36p2vharnIBQAJ/pDb9U7XwtVzkHSG36p2vharnIBo8oocgh5bAzrFordjJaiLrLKqW6mOp+OazeQtp1feEtK9/a+Qh+U1Lkl5mLWZZRBbqW62KuJUVSX0yXCW8f8AWkPOtd5qae9JKf8AVu73pDb9U7XwtVzkHSG36p2vharnIBQAJ/pDb9U7XwtVzkHSG36p2vharnIBQAJ/pDb9U7XwtVzkHSG36p2vharnIAx70vlnKrXuqtFAIOivbRFpk6k4xZuG5ZtrWhDlaRtmVbARsL256S2tEkrvTMtDLd11It50ht+qdr4Wq5yAeuX483leNWWPuLJrjzWwh0y2iQ4kycaWZd0krSRiHls9qF3jfQuXSR4S32EwZ2RHNbdZUzoTbrrcZH9bbWjXcVpuiz6Q2/VO18LVc5B0ht+qdr4Wq5yAbWrro9RWQ6qIRlHgsNxmdd/YaQTadfn0IZYn+kNv1TtfC1XOQdIbfqna+FqucgCZ8cU3JVr5zVCgEHKvbQ8xqXTxizStNZZoSwblbtqJUitM1pMp5o2UbJEeqiPvi0I93TedIbfqna+FqucgFAAn+kNv1TtfC1XOQdIbfqna+FqucgFAObt1eX4Xkd5Nx2nRf09++U846ZTUR6NKUR8MZm/3q0OHu7m7/rqOkNv1TtfC1XOQdIbfqna+FqucgGuwbG7Wtk3WR5DwSbvIH0PSI7CjW3HZYSbceOSz+kaUn3yi3P7BYif6Q2/VO18LVc5B0ht+qdr4Wq5yAUACf6Q2/VO18LVc5B0ht+qdr4Wq5yAM7+B8l5KnebOCgEHml7aPYdkLTmMWcdDlZNQt9xytNDZKjuEa1k1PWvZTvnspM/kIxvOkNv1TtfC1XOQCgAT/AEht+qdr4Wq5yDpDb9U7XwtVzkAnbCmyjGszscqxitRdQr1llFnW8Ybiutvxk8G082t7+mpJo11Lf1MxmYjQXishtc1ydluHY2LTUOHWsuE8UWI132yt0iJK1rX3x7O5/boW26Q2/VO18LVc5B0ht+qdr4Wq5yAUACf6Q2/VO18LVc5B0ht+qdr4Wq5yAMy9ERuVab3rDFAIPLL20dq46V4xZskVnUrJbjlaZGaLKKtKC4Oes9pZlsp3NNT3TItTLedIbfqna+FqucgFAAn+kNv1TtfC1XOQdIbfqna+FqucgGH2g4vNyenjlUuoZuKqYzZ1i3ddg345nohZlukSiV/boJ+2r83z4q+lvaJugpmZLUq1dVMalLkpYPaJhhDBd6lSt81/6tDrOkNv1TtfC1XOQdIbfqna+FqucgFAAn+kNv1TtfC1XOQdIbfqna+FqucgFAJ+Z8cU3JVr5zVB0ht+qdr4Wq5yGjlXtoeY1Lp4xZpWmss0JYNyt21EqRWma0mU80bKNkiPVRH3xaEe7oF4An+kNv1TtfC1XOQdIbfqna+FqucgFAOcdqKe0afGcosRp41hVWMNbM+Q84ht5tbhqQZN8JJZL6Gh/RUKfpDb9U7XwtVzkHSG36p2vharnIBDdkFb2kY203jWRU8eHQR23nWZZOtOSDfccJZIVwMlwtnvlf8Awy/aOsif6Q2/VO18LVc5B0ht+qdr4Wq5yAUACf6Q2/VO18LVc5B0ht+qdr4Wq5yAMe9L5Zyq17qrRQCDor20RaZOpOMWbhuWba1oQ5WkbZlWwEbC9uektrRJK70zLQy3ddSLedIbfqna+FqucgFAAn+kNv1TtfC1XOQdIbfqna+FqucgGgvaTJabM+muLwkWzc2GmDa1SnkRnFG2olNSGnXe8MyLvdFdz9u5643RZBPyyTnOUxW66RxRNbV1LbxSDZZ2+FccedR3hrUre2e4N10ht+qdr4Wq5yDpDb9U7XwtVzkAoAE/0ht+qdr4Wq5yDpDb9U7XwtVzkAoBPzPjim5KtfOaoOkNv1TtfC1XOQ18exlz84q+NVMur4Oqs9jji4quE2pNZrscSkyfo6bu1pv7mu7oFgAAAn8y9ERuVab3rDFAJ/MvREblWm96wxQAPCXMh18ZyZPkNxYrRbTsh9aW20FrpqpazJJbp90YNfk+NWz/ABaquYM5/TXgY0pl5eny7La1GJ3tf/6b3/8A3Lf++bEFnicLcw2qaxtMFWYKXB+5yrOB42UjabNZq4DvtNklfS3NrTugOuzMjgwcgrMbeQ6cy1bfejOJJJtJTGIlLJxRqJRGZK3NEmNuOfXnCf8ANDCeF04TiVnt6b21wTeun7xsraT2lOzJRUEGpjwY56MKsXXnHpWhEe0lMbZS0RnuFtGZgK8BzaT2j2rvZ1Fzuur20rZfQm4gvEpw0stvHGk8AaFo74laKSatSIt8hvMuyuVVR6NqgQzKn381iLD4YlLbJhZcI9INKFtqMkN7u/3QFaAAAAAAAAAAAAAAAAAAAAAAAn8E+B8a5Kg+bNigE/gnwPjXJUHzZsUAAAAAxZ9lXVUc5dnLZhRyPQ35LiGkEZ9zbcNJBAsq61jlLrJbM2OZ6E/GcQ6gzLubbZqIc8chQ8p7XJ8S7ZTMg47XMKgwniJxjh5JktchTatUmsknslqXyfIQ+YMGLjHbD9307SItde1CpMqGyWw0Ulh00k8ltOiSM0lpuF3TAdPAAABP5l6Ijcq03vWGKAT+ZeiI3KtN71hgKAAAAGHY2tXUMlJtp0eAwZ7JPSnUMoM/k2nTSWozBzCrgwcs7UcqdvY6JrOOtQodZFkJJ1lvjTannnSbXqnbNTe/pvAOjw50Kxjol18lqXGc+g+wtLrav8K0GZGMgcyxmLHxztZvcdqmyj1djVtW/E2+9aafQ6mMo22y71O3tGZ6f6iHTQAT+d/A+S8lTvNnBQCfzv4HyXkqd5s4AoAAAAAABiWFpW1LHGrWYxBj67PDSnUMo1PubThpIfUGwgWcdMutlMzIy9SS/HcS62em/ots1EOdMQoWVdrV81eMImxsahw2a6JIInGErloKQ4/wa9U7f8uun8CCmiR8Z7YJ1JUtJjVlxTos3YbRbDSJLb5sbaGy71OqUnroXdAdOAAABP5l6Ijcq03vWGKAT+ZeiI3KtN71hgKAAAAAAAYlhaVtSxxq1mMQY+uzw0p1DKNT7m04aSH1BsIFnHTLrZTMyMvUkvx3Eutnpv6LbNRDnTEKFlXa1fNXjCJsbGocNmuiSCJxhK5aCkOP8GvVO3/Lrp/AgpokfGe2CdSVLSY1ZcU6LN2G0Ww0iS2+bG2hsu9TqlJ66F3QHTgAAAT+d/A+S8lTvNnBQCfzv4HyXkqd5s4AoAAAAAABg2VzT0zaXbewjV7az0QuW82ylR/IRuqTqMiLKizWESob7ciO4WrbzK0rQovlSpBmRjmuL1ldlec5jc30Zue5WSkVVczKQl1uOy0g9s2kOEaSNxW6Z6fL8pj0wSM1j/aBmOLV6SaqCTEsYkVOpIYW+3/WS2neSSlHvF3CIB0wAAAE/kPpfE+VXfdVkKAT+Q+l8T5Vd91WQCgAAAAAAGPMnQq6OuXYSWokZv6b760tNp/xLWZEQ8661q7dk5NTOjz2CPZN6K6h5BH8m00ai1HP7mNGyftchY/btJk1VRTrtG4TpbbLkpx8o+262feq2UK3NSHnJr4WLdr1AmkYRCjZHClsWEWORNsqXEQcht7g0aJ2twi10/iYDqAAAAAAAn8e9L5Zyq17qrRQCfx70vlnKrXuqtFAADWIyPHnJ/3U3bQl2JHsnCTJaN/aL+XgiVt6/uGi7VLeXR9n95YwVqbkpZQy24gzSpHGHW4xrSot0jSTmpGJ/JOz7F4PZjMbh17DUutrlTmLFDaUyeMR2uMcMbyS29pZp3d35t4B1ABpMNsX7fE6SzlHtSZUGO6+r+84ptO2r96t0bsBPzPjim5KtfOaoUAn5nxxTclWvnNUKAAAAABgWV3TUyULuLGLXpcPRtUt9tglGX903VJ1GeOXYZWVmV5Tmd9fRGrCRDs3KeE3LQl5tiPELY0aQ4Skp4Qz1VoX8TAdMjyI8thEmK6h9h0tpt5pRLQovlSpJmRkPUc07O2kUeaZviMItiqhPRJsGORnsMnMZ4V1CCPeTqadCL5B0sAAAAT+d/A+S8lTvNnBQCfzv4HyXkqd5s4KAAAAAYdja1dQyUm2nR4DBnsk9KdQygz+TadNJaj0hzoVjHRLr5LUuM59B9haXW1f4VoMyMc4q4MHLO1HKnb2OiazjrUKHWRZCSdZb402p550m16p2zU3v6bw+sZix8c7Wb3Hapso9XY1bVvxNvvWmn0OpjKNtsu9Tt7Rmen+ogHTQAAE/mXoiNyrTe9YYoBP5l6Ijcq03vWGKAAAAABgxLumny3oEGxiypkbdkRmHm3HWy10/qNoUak7vykPHIaNnI6p2okSZEWO+aeGchucE6pCVEpTe3oeiV6bKvlIca7IqyHTdqmX1Veg24kNp1hhBqNRkhEhtJaqVqZgO8gAAAn5nxxTclWvnNUKAT8z44puSrXzmqAUAAAAMWfZV1VHOXZy2YUcj0N+S4hpBGfc23DSQyhzJyFDyntcnxLtlMyDjtcwqDCeInGOHkmS1yFNq1SaySeyWpfJ8hAOhwLKutY5S6yWzNjmehPxnEOoMy7m22aiGUOYQYMXGO2H7vp2kRa69qFSZUNkthopLDppJ5LadEkZpLTcLumOngAAACfx70vlnKrXuqtFAJ/HvS+Wcqte6q0UAAAAAxZ9lXVUc5dnLZhRyPQ35LiGkEZ9zbcNJBAsq61jlLrJbM2OZ6E/GcQ6gzLubbZqIc8chQ8p7XJ8S7ZTMg47XMKgwniJxjh5JktchTatUmsknslqXyfIQ+YMGLjHbD9307SItde1CpMqGyWw0Ulh00k8ltOiSM0lpuF3TAdPAAABPzPjim5KtfOaoUAn5nxxTclWvnNUAoAAAE/mXoiNyrTe9YYoBN5y+xFoW5Up1DMdmzqHHnnFEhCEItIilLWpWhJSki1MzHp07wfrLVeXRvGANf2pwplhgF3Cr47sqU60gmo7CFOOLMnmz0ShBGo9wu4NljeNUdPChvQqiJAmnHaS+6zHaZdNWwRL21ISlWuuuuo+eneD9Zary6N4wOneD9Zary6N4wBqb2BOe7SsTnsxnXIcaLYpkyUoUbTanG0EhLiyLZSaj3tT3RE2FZJkZJeozXHr3IHnJjisfOA48mvTDP8AyG+EYeYbaWRfTNf8d/pnTvB+stV5dG8YHTvB+stV5dG8YAnezXHXkdnJ45ewnIvDrnx5ER4lEom3XnU7hrIjMjSrVKu7viW7LYNvZZKlq9QRt4BGdpIi9Nxclx1aDeRrvaRkJR+zQ+6OlnneEaHpk1SR9wznRz//ABBOYXYYNiVW/DXmFVPmTJT06dOOVGaN159Wpq2OHc00IiL6QDoYCf6d4P1lqvLo3jA6d4P1lqvLo3jAFAAn+neD9Zary6N4wOneD9Zary6N4wBQAJ/p3g/WWq8ujeMDp3g/WWq8ujeMAUACf6d4P1lqvLo3jA6d4P1lqvLo3jAFAAn+neD9Zary6N4wOneD9Zary6N4wBQAJ/p3g/WWq8ujeMDp3g/WWq8ujeMAUACf6d4P1lqvLo3jA6d4P1lqvLo3jADBPgfGuSoPmzYoBB4XmmHRcOx6LKyGsZkM1kJt5lybHQtC0R20qQtKnCNKkmWhkY3nTvB+stV5dG8YAoAE/wBO8H6y1Xl0bxgdO8H6y1Xl0bxgCXuWbbE+0B7L41XKt6e3hNxJ7de3w8lh9hRcG5wOu0pBo3O9+f5N31x2Ja5JnL2c2FdIqa6JAKtqYk5JNyXDWvhXZDjWpm2W7skR74o+neD9Zary6N4wOneD9Zary6N4wBQAJ/p3g/WWq8ujeMDp3g/WWq8ujeMAUAn8y9ERuVab3rDDp3g/WWq8ujeMGjyzNMOk1cduPkNY8tNnUuGhubHUZIasorrizJLh96hCTUo+4RagLwBP9O8H6y1Xl0bxgdO8H6y1Xl0bxgCgHNJKbXB88usgRUTLajyRqMp1VY0cl+PJiINoiWyR7WwslKVtF8oq+neD9Zary6N4wOneD9Zary6N4wBoMQr7W2zC3z21gPVTUiM1WVEKURJk8XQonXHX0JM9g1OEWid//QZ34n+neD9Zary6N4wOneD9Zary6N4wBQCfzv4HyXkqd5s4HTvB+stV5dG8YNHmmaYdKw7IYsXIax6Q9WTW2WW5sda1rXHcSlCEpcM1KUZ6ERALwBP9O8H6y1Xl0bxgdO8H6y1Xl0bxgCgAT/TvB+stV5dG8YHTvB+stV5dG8YAlbFu1w3tAscqZqZdvS38VhqZ92t8YksSYpE02ZskZKNCkd1P+rdycXg2t9m0/PbOvfqoiYKKmohzCJElTfCcO6+80Rnwff7iSM9d0UPTvB+stV5dG8YHTvB+stV5dG8YAoAE/wBO8H6y1Xl0bxgdO8H6y1Xl0bxgCgE/mXoiNyrTe9YYdO8H6y1Xl0bxg0eWZph0mrjtx8hrHlps6lw0NzY6jJDVlFdcWZJcPvUISalH3CLUBeAJ/p3g/WWq8ujeMDp3g/WWq8ujeMAUACf6d4P1lqvLo3jA6d4P1lqvLo3jAErYt2uG9oFjlTNTLt6W/isNTPu1vjEliTFImmzNkjJRoUjup/1buTi8G1vs2n57Z179VETBRU1EOYRIkqb4Th3X3miM+D7/AHEkZ67ooeneD9Zary6N4wOneD9Zary6N4wBQAJ/p3g/WWq8ujeMDp3g/WWq8ujeMAUAn87+B8l5KnebOB07wfrLVeXRvGDR5pmmHSsOyGLFyGsekPVk1tllubHWta1x3EpQhKXDNSlGehEQC8AT/TvB+stV5dG8YHTvB+stV5dG8YAoAE/07wfrLVeXRvGB07wfrLVeXRvGAJBly2wDLsikuUs+2o8gdbnxpFUwcl1mRsml5t5pJ7REo9497+09Npg1VbSL7IM2uoa6526UwzAr3tnhmosZGwlTxJ1JK3D3TTruDd9O8H6y1Xl0bxgdO8H6y1Xl0bxgCgAT/TvB+stV5dG8YHTvB+stV5dG8YAoBP5D6XxPlV33VZB07wfrLVeXRvGDR3uaYc9aYw41kNY4iPZuOPrRNjqJtB1s9olrMnO9TtrSnU+6ZF3QF4An+neD9Zary6N4wOneD9Zary6N4wBQAJ/p3g/WWq8ujeMDp3g/WWq8ujeMATeTw7bHs8hZ5X1si1gO16qm1iwU8LJbTwnGG322tSNZbRERkn5B81jFpmGeQstk1Uqop6KK8zXosWyZkvyZJbDrnA6mpCEt7nff+nSm6d4P1lqvLo3jA6d4P1lqvLo3jAFAAn+neD9Zary6N4wOneD9Zary6N4wBQAJ/p3g/WWq8ujeMDp3g/WWq8ujeMAMe9L5Zyq17qrRQCDos0w5m0ydx3IaxtEizbcYWubHSTiCrYDRrQZud8nbQpOpd0jLuDedO8H6y1Xl0bxgD4zzHXcrxC1oGFJS/LaI45rMyTwrS0vtEoy3iNbZEYirHJMpvsScxBjFbOPkE6KVdLkSGSbr2+EQTL75Sto0qTsGZkSSMxcdO8H6y1Xl0bxgdO8H6y1Xl0bxgDYUVU3R0tdTNK20V8ZqMSz3DVwSCRtH/i01GwE/07wfrLVeXRvGB07wfrLVeXRvGAEz44puSrXzmqFAIOVmmHKzGplJyGsOO3WWbbjxTY5oStyRWqQhSuE0JSibUZF3dD+Qbzp3g/WWq8ujeMAUACf6d4P1lqvLo3jA6d4P1lqvLo3jAFAOXQXbXs8yTI0v0dha017MO0hSqlg5S0PPEZvsvtkZKT3xd6e9/buWPTvB+stV5dG8YHTvB+stV5dG8YA0uA09r96ZFmV3EVAl5C+zxeA4ZG6zFio4FnhdncJay3TT3NCF0J/p3g/WWq8ujeMDp3g/WWq8ujeMAUACf6d4P1lqvLo3jA6d4P1lqvLo3jADO/gfJeSp3mzgoBB5pmmHSsOyGLFyGsekPVk1tllubHWta1x3EpQhKXDNSlGehEQ3nTvB+stV5dG8YAoAE/07wfrLVeXRvGB07wfrLVeXRvGAJSSm1wfPLrIEVEy2o8kajKdVWNHJfjyYiDaIlske1sLJSlbRfKMzEK+1tswt89tYD1U1IjNVlRClESZPF0KJ1x19CTPYNThFonf/ANBnv+neD9Zary6N4wOneD9Zary6N4wBQAJ/p3g/WWq8ujeMDp3g/WWq8ujeMAMy9ERuVab3rDFAIPLM0w6TVx24+Q1jy02dS4aG5sdRkhqyiuuLMkuH3qEJNSj7hFqN507wfrLVeXRvGAKABP8ATvB+stV5dG8YHTvB+stV5dG8YA9srup+P0b9rWVL13KZU2SK6NtcIslrShRlwbbyu9I9o+9McGxS5zWjzq4yleC2rqb1akqjm1IbJgnXkuGo3Tint7On91I7n07wfrLVeXRvGB07wfrLVeXRvGAKABP9O8H6y1Xl0bxgdO8H6y1Xl0bxgCgE/M+OKbkq185qg6d4P1lqvLo3jBo5WaYcrMamUnIaw47dZZtuPFNjmhK3JFapCFK4TQlKJtRkXd0P5AF4An+neD9Zary6N4wOneD9Zary6N4wBQDm9yzbYn2gPZfGq5VvT28JuJPbr2+HksPsKLg3OB12lING53vz/Ju1HTvB+stV5dG8YHTvB+stV5dG8YAnMdiWuSZy9nNhXSKmuiQCramJOSTclw1r4V2Q41qZtlu7JEe+Ohif6d4P1lqvLo3jA6d4P1lqvLo3jAFAAn+neD9Zary6N4wOneD9Zary6N4wAx70vlnKrXuqtFAIOizTDmbTJ3HchrG0SLNtxha5sdJOIKtgNGtBm53ydtCk6l3SMu4N507wfrLVeXRvGAKABP8ATvB+stV5dG8YHTvB+stV5dG8YAl7lm2xPtAey+NVyrent4TcSe3Xt8PJYfYUXBucDrtKQaNzvfn+Td9cdiWuSZy9nNhXSKmuiQCramJOSTclw1r4V2Q41qZtlu7JEe+KPp3g/WWq8ujeMDp3g/WWq8ujeMAUACf6d4P1lqvLo3jA6d4P1lqvLo3jAFAJ+Z8cU3JVr5zVB07wfrLVeXRvGDXx72ju84q/uaziWPAVVnw/E3239jbk1mxt8EpWztbJ6a/IAsAAAE/mXoiNyrTe9YYoBP5l6Ijcq03vWGKAAAQ3aw9bQMU+/aaQ+zIppUec63HdU3wzCF7DrLuwZbTZkvaUR7m4PLtKuZzmJwo2MyVsWWSSYkOrksrNtaSfMnzcJaDI0lwaD1PuEYC+AQOM5mtzsrbyqctS5dfBeKWbuu2qTEJTR7ev8zi0Ef7xqUtlC7MMeXmFjauSJEiI+9Kiv/8AFm9KdNxpp1byv8tBOElRa67m4A6oPB+dCiusMSpLTD0pZtxW3FpQp1ZFtGhpKjI1K03dCHO8vz63o87oaaJW2T0BXHOPMx4zLnH9IyHWuJLWslK4upWrm6j/ANoePaBexGJWB39k29XRUz1yH2pSNH2i4urvHG2zc7/ubKdd0B1EBJU3aFU29y3QPQbCpsJDanoTdnGOPxltBGpSmO+VroktTJWhitAAAAAAAAAAAAAAAAAAAAAT+CfA+NclQfNmxQCfwT4HxrkqD5s2KAAAAAAHOrqRbZXnjmGw7SRUVFVCRMs3oC+BlPPPK/pMpe0M0IJHfGafnL5NPnHZNvjOfvYROs5NtVzYH3lVyJ6uFktLQ5wbjC3tw1luGrd3tz5wHRwAAAT+ZeiI3KtN71higE/mXoiNyrTe9YYCgAAAAAc3luWmb5xb44zbS6mkxxmNxr7tc4vJkSpSTdTq/oaibQlJlonugOkAOeYfOt6fNLjArSxetYzEVqzqJcw9uSTClE04087ubeytRaGe7/AuhgAn87+B8l5KnebOCgE/nfwPkvJU7zZwBQAAAAAAAA5xZvWuY55PxONayqimoYrD09VcvgJT8mUXCNI4fQzS2lvd73/1fWLTLbH87n4FY2Ui1grgItamVOVwklCOE4Bxlx7cNzvtTIz+QB0UAAAE/mXoiNyrTe9YYoBP5l6Ijcq03vWGAoAAAAAAAAc4s3rXMc8n4nGtZVRTUMVh6equXwEp+TKLhGkcPoZpbS3u97/6vrFpltj+dz8CsbKRawVwEWtTKnK4SShHCcA4y49uG532pkZ/IA6KAAACfzv4HyXkqd5s4KAT+d/A+S8lTvNnAFAAAAAAAADmbabXPstv4Z3M2pocedbhMs1b3Fnn5Jp2nnHnkka9lB7hJLcPc+fXMwKzuImQ5Hg91Ocszpjjv10+Rob7kaSjb2XllptKRuFtd09QHQAAAAT+Q+l8T5Vd91WQoBP5D6XxPlV33VZAKAAAAAAAAHPcom2t/m0LAqyxfqoaIC7W3mQzJuUpvhOLtsMunrwffGRqMi1GPWO22HdoMDFH7aXbUt9EeehHZOcPIYkxiNxxJPnopSDQW8f+rdDpQAAAAAAn8e9L5Zyq17qrRQCfx70vlnKrXuqtFAAAJ/OchVimJ2t+2lK3obP9BKyM0m64pLLW0Rabm2stRC2uN5XTYi7mDeV2b2RQo33lKYceJdevYTwzzCYZJJBIJJGRH+8B1oBrcftU3tFW3KE7BT4rMnY/um6glmn9xnoNkAn5nxxTclWvnNUKAT8z44puSrXzmqFAAAAAAAOYxG7TtDyTIUuXc+qo6GUdXEjVTxxXXZDRf8Q6+6kjUZEo9Elvf2HqHTgED2fW1ui2yTDLuYuxkY88ycWe8RE87FlIN1onTL6S0kW6ru6i+AAAAE/nfwPkvJU7zZwUAn87+B8l5KnebOCgAAAAABzeW5aZvnFvjjNtLqaTHGY3Gvu1zi8mRKlJN1Or+hqJtCUmWie6PXD51vT5pcYFaWL1rGYitWdRLmHtySYUomnGnndzb2VqLQz3f4EHQwAAE/mXoiNyrTe9YYoBP5l6Ijcq03vWGKAAAAAAEb2kZBZUlRBh0jiWba8nx6mFIWklEyqSZkb2h7nekW5r3RMZTBuezWJCyuFkdnZx2JTLV3DtH+MtOx3lbC1soMi4JSVHubP+rdDrIAAAJ+Z8cU3JVr5zVCgE/M+OKbkq185qgFAAAAAA51dSLbK88cw2HaSKioqoSJlm9AXwMp555X9JlL2hmhBI74zT85fJoHRQHOMdk2+M5+9hE6zk21XNgfeVXInq4WS0tDnBuMLe3DWW4at3e3PnHRwAAABP496XyzlVr3VWigE/j3pfLOVWvdVaKAAAAAAHPO1ROalTTZlBatVNVAhOyZTjaVHNddRtK4Jte4TaNki75J7Wo9exmxsLTs/r5tnKemyluSSXIkuKdcUSX1knaW4alHoW4QC+AAABPzPjim5KtfOaoUAn5nxxTclWvnNUAoAAAE/mXoiNyrTe9YYoBP5l6Ijcq03vWGKABiWtexbVkyqklqxNYcjO93vXUG2f8Rxjs6lysgvsaoJxHwuCxJyZ5fy8ZJ06+Og/nQynUh3IYcWqq4MmTNhQY8aVMMlTJDLSG3HlEZmSnVoSSln3x/SAcNuG3I93d9lLZKJrIr2HYMEWpf8ABSS43NNJ9wm1RyTp+0X/AGtpSjF4SEESUptK4kpItCIifToRELRdVVuWDds5CjrsmkG21OU0g30IPXVCXTLbJPfHuEfdHpLgwp7aWZ8ZqU0laXUtvoS4kloPaQsiWRltJPdI+4AgM6lxa7tD7PbCe8iNDaXbtuSXTJDSVvRW220qWrvS2lbhaj6zh6JPvuz+RHcblRnbVS2nWzS42oiZUpKkqTqk90twxc2FXW20filrDYnRtSVwEppDze0W8ew4Si1Ifh1NWaYiTgx9mvMjgFwSNI5kWwRsd7/T73c73TcARebIT087Pl7JbZSp6SVpu6HGIzLX9w6AMd+DBkvx5UmM09IiGpUR5xtKltKWWyo2lKIzQai3D0GQAAAAAAAAAAAAAAAAAAAAAn8E+B8a5Kg+bNigE/gnwPjXJUHzZsUAAAAA5ic+HjHa/ZSLt5EOHf1rHEJj6ibZN2MZNrY4RR7O3p326fyfKQ+q+XGyjtcO2pnUy6yiqTiSZzKiWyqU+6ayZQtOqVGSD1PQx0Gwq6y2Y4tawmJzGuvAymkPI1+XZcJRD7hQINbHTErorUOMj6DEdtLTZfsQ2REAyAAAAT+ZeiI3KtN71higE/mXoiNyrTe9YYCgAAABy+osIOK9qeXR72Q3Bbv2oMyskyVE006mO2pp1CVrMk7RKXva67g6gMKyp6m4aSxbwI09pB7SG5bKHkkfykl1KiIBA4y+xkfapeZPVOFIqYFa1TpmtntMvPqdTJXwSy3FbGzoZl/rIdLHjEhxIDCIsFhuNHb3EMsoS2hP+FKCIiHsACfzv4HyXkqd5s4KAT+d/A+S8lTvNnAFAAAAAAAOXxZ8LF+1zIlXj6IUfIocN+ulSFE0ytURso7jROLMk7eu7pr/ABIelLIj5P2tzsgqXUyaqnqEVS5rR7TTklx85Ow24Xeq2UKPa2T3P3joFjU1duyUe2gx57BHtE1KaQ8gj+XZdSoh6w4UKujpiV8ZqJGR9BhhCW20/sQgiIgHuAAACfzL0RG5VpvesMUAn8y9ERuVab3rDAUAAAAAAA5fFnwsX7XMiVePohR8ihw366VIUTTK1RGyjuNE4syTt67umv8AEh6UsiPk/a3OyCpdTJqqeoRVLmtHtNOSXHzk7Dbhd6rZQo9rZPc/eOgWNTV27JR7aDHnsEe0TUppDyCP5dl1KiHrDhQq6OmJXxmokZH0GGEJbbT+xCCIiAe4AAAJ/O/gfJeSp3mzgoBP538D5LyVO82cAUAAAAAAA5dilrXYvm+aU99Kar3Z8xFpBdlLSy2+y8g9rg1OGST2D3D3f4GMjBnUX2eZflsA+Ep3Ci10KWndQ+uOj+uts+6lKiItS3DF1ZUlLcpQm4rotglvdbTLYbfJJ/7PCpVoMtiOxFZRHitIYYbLZbabSSEJL5EpToRAPQAAAE/kPpfE+VXfdVkKAT+Q+l8T5Vd91WQCgAAAAAAHMbeXGxrthh3Vu6mLWXFMutYmumSGUyW5BSDbW4rvS1QktNTLfB+bDyvtaonqR9E2LjUOW9YS46icZS5MQcdtjhE6pNf82hH/AAMdFnV8CzjqiWUVmZGUeqmJDaXWzMvlQ4SiH5ArK2qY4tVw2IMfXXgYzSGUa/LstkkgGUAAAAAAJ/HvS+Wcqte6q0UAn8e9L5Zyq17qrRQAIztYq5dz2e3sCChTsg2m3kNoLaUoo7zclSUpLdMzS2eg0eR59jE/s0lHBnsyJtrXKgxa1pxK5RyJLXFya4BGrm0lS93cHTxrGccx6NOOzj1MJmeo9VTG4zSXjM+6bqUkr/SA8MQrH6bFaWqlbkiHCYZfIt0icS2klkX7FajdAACfmfHFNyVa+c1QoBPzPjim5KtfOaoUAAAAADlmE2tZi2T5tR38tqukybV23iqlrSyh6PL78lNKcMkq2NND0P8AgY6mMCyoqS52Pveti2HBbrfG2G3tn/DwqVaAIbs9Um6zDNcxhnt1Ng/EhV8giPZe4kzwLrrZnvo2iLQy3D3R0gebLDMZpDEdtLLLZbLbTaSSlJF3EpToREPQAAAAT+d/A+S8lTvNnBQCfzv4HyXkqd5s4KAAAAAcvqLCDivanl0e9kNwW79qDMrJMlRNNOpjtqadQlazJO0Sl72uu4PXGX2Mj7VLzJ6pwpFTArWqdM1s9pl59TqZK+CWW4rY2dDMv9ZC+sqepuGksW8CNPaQe0huWyh5JH8pJdSoiHvEhxIDCIsFhuNHb3EMsoS2hP8AhSgiIgHsAAAn8y9ERuVab3rDFAJ/MvREblWm96wxQAAAADnXa+25HrsfyAm1ORaG7hWE8kEajTHbUe25uanuHp3O6Nd2pXdNlePQ8Tx+exZWN9LjNsNRHUvKQ0lZPOPucGatlCSTumr/AFGOqLQhxCm3EktCyNKkqLUjI9wyMjGBX4/Q1Lq36qqhwXnNxxyLHaZUrX+8ptKTMBsQAAAT8z44puSrXzmqFAJ+Z8cU3JVr5zVAKAAAAHMTnw8Y7X7KRdvIhw7+tY4hMfUTbJuxjJtbHCKPZ29O+3T+T5SHThiWFXWWzHFrWExOY114GU0h5Gvy7LhKIBz6vlxso7XDtqZ1Musoqk4kmcyolsqlPumsmULTqlRkg9T0MdMGPCgQa2OmJXRWocZH0GI7aWmy/YhsiIZAAAAAn8e9L5Zyq17qrRQCfx70vlnKrXuqtFAAAAAOedrWX47T43a4/YzeBtLOveKFG4J1fCbZKbT37aFITqotO+UQ0fYNlNE9i8PFG5et1H4zIeicG4WjRvme1who4M9xxO4StR0yyx3H7l1D1xUw7B1tOw25LjtPqSnXXZSp1KjItR812M43TvnKqaeDAkGk2zfixmWVmgzIzTttISehmRbgDagAAAn5nxxTclWvnNUKAT8z44puSrXzmqAUAAACbzlhiVQtxZTSHo71nUNvMuJJaFoXaREqQtKtSUlRHoZGPToJg/Vqq8hjeLDMvREblWm96wxQAJ/oJg/Vqq8hjeLDoJg/Vqq8hjeLFAOR0+fZBJzSNMlyEqwy8nTKioaJtsiQ9FS2lp/hiTwiuMOJWlJGo/4ALzoJg/Vqq8hjeLDoJg/Vqq8hjeLFAACf6CYP1aqvIY3iw6CYP1aqvIY3ixQAAn+gmD9WqryGN4sOgmD9WqryGN4sUAAJ/oJg/Vqq8hjeLDoJg/Vqq8hjeLFAACf6CYP1aqvIY3iw6CYP1aqvIY3ixQAAn+gmD9WqryGN4sOgmD9WqryGN4sUAAJ/oJg/Vqq8hjeLDoJg/Vqq8hjeLFAACf6CYP1aqvIY3iw6CYP1aqvIY3ixQAAn+gmD9WqryGN4sOgmD9WqryGN4sUAAIPC8Lw6Vh2PSpWPVj0h6shOPPOQo61rWuO2pS1qU2ZqUoz1MzG86CYP1aqvIY3iwwT4HxrkqD5s2KABP9BMH6tVXkMbxYdBMH6tVXkMbxYoAAT/AEEwfq1VeQxvFh0Ewfq1VeQxvFjR313kltl5YVi0turKLETPtrdbKZK2ycVstR2WnO82lb5mrufs3fnG73I67MpWC5TMbs3FQysqu1QymOt1rb4JbTzTXebST102e4XzgN90Ewfq1VeQxvFh0Ewfq1VeQxvFigABP9BMH6tVXkMbxY0eWYXh0arjuR8erGVqs6ls1two6TNDtlFacQZpbLvVoUaVF3SPQXgn8y9ERuVab3rDAOgmD9WqryGN4sOgmD9WqryGN4sUAAJ/oJg/Vqq8hjeLDoJg/Vqq8hjeLFAICyucmyPL52J4vYN00WkZZdtbQ2ESnTeklttR2m3v6ZFsEZmo9QG/6CYP1aqvIY3iw6CYP1aqvIY3ixpcQyC/RktthGUSGp06vZbmwbNpsmDkxXDJJqcZR3qVIUZEezufxO6AT/QTB+rVV5DG8WNHmmF4dFw7IZUXHqxmQzWTXGXm4UdC0LRHcUlaFJbI0qSZakZC8E/nfwPkvJU7zZwA6CYP1aqvIY3iw6CYP1aqvIY3ixQAAn+gmD9WqryGN4sOgmD9WqryGN4sUAAJ/oJg/Vqq8hjeLDoJg/Vqq8hjeLGhuLrJb3MH8Nxac3UNVkZuVb2ymUSXSW/usxmmne8IzR3xqV3P2bv1it/kEXLLDBcplNWMpiKixrrRtoo6n46lk0tLrSO8JaVn/L84DedBMH6tVXkMbxYdBMH6tVXkMbxYoAAT/QTB+rVV5DG8WNHlmF4dGq47kfHqxlarOpbNbcKOkzQ7ZRWnEGaWy71aFGlRd0j0F4J/MvREblWm96wwDoJg/Vqq8hjeLDoJg/Vqq8hjeLFAACf6CYP1aqvIY3iw6CYP1aqvIY3ixQAAn+gmD9WqryGN4sOgmD9WqryGN4saG4uslvcwfw3FpzdQ1WRm5VvbKZRJdJb+6zGaad7wjNHfGpXc/Zu/WK3+QRcssMFymU1YymIqLGutG2ijqfjqWTS0utI7wlpWf8vzgN50Ewfq1VeQxvFh0Ewfq1VeQxvFigABP9BMH6tVXkMbxY0eaYXh0XDshlRcerGZDNZNcZebhR0LQtEdxSVoUlsjSpJlqRkLwT+d/A+S8lTvNnADoJg/Vqq8hjeLDoJg/Vqq8hjeLFAACf6CYP1aqvIY3iw6CYP1aqvIY3ixQAAn+gmD9WqryGN4sOgmD9WqryGN4sTj1tleW5Tb0uN2aKKqoDbYlWBR25b0iU4nbU0hL/eIS3vK3Ndf27mZg2R3cq1vcSydxqRb0K2TKcyjgkyY8hHCNum2W4lRFptabm6A2/QTB+rVV5DG8WHQTB+rVV5DG8WKAAE/0Ewfq1VeQxvFjR3uF4czaYw21j1Y2iRZuNvoRCjpJxBVs90kLIm++TtoSrQ+6RH3BeCfyH0vifKrvuqyAOgmD9WqryGN4sOgmD9WqryGN4sUAAJ/oJg/Vqq8hjeLDoJg/Vqq8hjeLFAACf6CYP1aqvIY3iw6CYP1aqvIY3ixpspvr6VlEHBsWkNQJr8VdjY2jjZSDjRkq4FHBMr7xS1ubnfbwx6e6yehzVjDMont3DFpFclVVoTCIz3CM6m7HdaZ/pnokjURl/r3AoegmD9WqryGN4sOgmD9WqryGN4sUAAJ/oJg/Vqq8hjeLDoJg/Vqq8hjeLFAACDosLw560ydt3HqxxEezbbYQuFHUTaDrYDpoQRt96nbWpWhd0zPujedBMH6tVXkMbxYY96XyzlVr3VWigAT/QTB+rVV5DG8WHQTB+rVV5DG8WMjK79nFsdsb99HCJgsm4loz2dtwzJDbe1oem0tRFqIKwf7UqfGjzaRdxn3GGUz5eNnCbRHSxoS3GUySM39tCN3XXfAWvQTB+rVV5DG8WHQTB+rVV5DG8WNnUWTFzVQbeNuMT2GpLRHvkl1BOER/OWozQEHKwvDk5jUxU49WFHcrLNxxkoUckKW3IrUoWpPB6GpJOKIj7mp/KN50Ewfq1VeQxvFhM+OKbkq185qhQAJ/oJg/Vqq8hjeLDoJg/Vqq8hjeLFAACf6CYP1aqvIY3iw6CYP1aqvIY3ixQDnX3pluZZFdV2OWzdDT0LxQnJiYzct+TL2dXUbMjvEIbPcPc1/t3ApegmD9WqryGN4sOgmD9WqryGN4sarA8kuLGXeY1kimnbrHn22nZTCeDRIZfSa2HuD3kqMk98Rbm8LUBP9BMH6tVXkMbxYdBMH6tVXkMbxYoAAQeaYXh0XDshlRcerGZDNZNcZebhR0LQtEdxSVoUlsjSpJlqRkN50Ewfq1VeQxvFhnfwPkvJU7zZwUACf6CYP1aqvIY3iw6CYP1aqvIY3ixQAAn+gmD9WqryGN4sOgmD9WqryGN4saCyucmyPL52J4vYN00WkZZdtbQ2ESnTeklttR2m3v6ZFsEZmo9R64hkF+jJbbCMokNTp1ey3Ng2bTZMHJiuGSTU4yjvUqQoyI9nc/iYbroJg/Vqq8hjeLDoJg/Vqq8hjeLFAACDyzC8OjVcdyPj1YytVnUtmtuFHSZodsorTiDNLZd6tCjSou6R6DedBMH6tVXkMbxYZl6Ijcq03vWGKABP9BMH6tVXkMbxYdBMH6tVXkMbxYoAAT/QTB+rVV5DG8WHQTB+rVV5DG8WMbPcnlYxTMuVjKJFvZyma2qZdM9g5EgzJKl7O6aUkRn/oExd2Od4AmBe3d6zfU7spqNbRlQ2opx0PHs8NHcZ75RIPc0Xr3Pl3AsOgmD9WqryGN4sOgmD9WqryGN4sUAAJ/oJg/Vqq8hjeLGjlYXhycxqYqcerCjuVlm44yUKOSFLbkVqULUng9DUknFER9zU/lF4J+Z8cU3JVr5zVAHQTB+rVV5DG8WHQTB+rVV5DG8WKAAE/0Ewfq1VeQxvFh0Ewfq1VeQxvFigEHfXeSW2XlhWLS26sosRM+2t1spkrbJxWy1HZac7zaVvmau5+zdDedBMH6tVXkMbxYdBMH6tVXkMbxY0ON3uR12ZSsFymY3ZuKhlZVdqhlMdbrW3wS2nmmu82knrps9wvnF8An+gmD9WqryGN4sOgmD9WqryGN4sUAAIOiwvDnrTJ23cerHER7NtthC4UdRNoOtgOmhBG33qdtalaF3TM+6N50Ewfq1VeQxvFhj3pfLOVWvdVaKABP9BMH6tVXkMbxYdBMH6tVXkMbxYoAAT/AEEwfq1VeQxvFh0Ewfq1VeQxvFjR313kltl5YVi0turKLETPtrdbKZK2ycVstR2WnO82lb5mrufs3fnG73I67MpWC5TMbs3FQysqu1QymOt1rb4JbTzTXebST102e4XzgN90Ewfq1VeQxvFh0Ewfq1VeQxvFigABP9BMH6tVXkMbxY18eio6TOKv7mrIldw9VZ8PxNhtjb2JNZsbfBJTtbO0emvyiwE/M+OKbkq185qgFAAAAn8y9ERuVab3rDFAJ/MvREblWm96wxQAJPtKv3cdw6wlRdTsJKSg1yEfTVIknwSNgu6pOpr/AHDml5V5mz2dQ8eZw16G5j6WZsazTPhOG2/FPhnZCWW1mszXq53qd3d7o7La0NTduwXbSMUhVbITMhEpa0pQ+j6LhpQpKVGnubRGNiZEojSotSPcMj3jIBqsZvGMkx+uvY+hInMIdNJbuysy0cb7v0Fkaf3DbDXUdDVY3XpqqWPxWEhS3EMEtaySpxRrVsm6pZkRqPXTeGxAAAAAAAAAAAAAAAAAAAAAAAAAAABP4J8D41yVB82bFAJ/BPgfGuSoPmzYoAAAABzescRA7aL1iUom12tVFeg7W4TiWDJpwkme+ojI9wu4Rj9cUmy7a2DiHwiKelWmetO6ltx94+DaUZbyzSra0+QVuQYljuVNst30BEvi5mphzaW242Z6a7DrKkLTroWuih6UOM0WMRlxKGC3DacVtu7O0pa1f3nHHDUtZ/4jAbYAAAE/mXoiNyrTe9YYoBP5l6Ijcq03vWGAoAAAAc2xJaIPatncCSokSLBFdMhpPc4RlplaHFo139lThEfzjpI0WQ4bjOVKZcva9Mp2PqTD5LcZdQR76SdYW2vT5tdAErUmmx7aLufEUTkespma2U4ndSmQ6+mQTepbmpJQepfKOjjW0eP0uNwvu+jhNwo20a1Ib1M1KPcNS1qM1KVub6jGyABP538D5LyVO82cFAJ/O/gfJeSp3mzgCgAAAAAAHNqBaIPbHl8aSom3bSHXyoKT3OEbYaJhw067+iyPeH7HNNn22yZMQycZqKFEOatJ6kh96Sp5DR6byjQrX9wrchxDG8qJn7+gIlLj68A6SltOo10MyQ6wptZEem9qPeixyjxmIcGihNwo6lbbiUampat7acWs1LWfzqMBtAAAAT+ZeiI3KtN71higE/mXoiNyrTe9YYCgAAAAAAHNqBaIPbHl8aSom3bSHXyoKT3OEbYaJhw067+iyPeH7HNNn22yZMQycZqKFEOatJ6kh96Sp5DR6byjQrX9wrchxDG8qJn7+gIlLj68A6SltOo10MyQ6wptZEem9qPeixyjxmIcGihNwo6lbbiUampat7acWs1LWfzqMBtAAAAT+d/A+S8lTvNnBQCfzv4HyXkqd5s4AoAAAAAABzfs9cREzLPaiQokTVWKJyGj3DUw+jaQtOu+W9r8mpD9xJSbHtRzW1iHwkJhqFXm+ndQp9tvV1CVFvmgy0V8gpsgwbFcofblXlcmRJaTsIkIcdYdJG73huR1tqNO6e4ZjZU9LVUEFFbTRG4UNszNLLRaFqe+pR76lH8p7oDPAAABP5D6XxPlV33VZCgE/kPpfE+VXfdVkAoAAAAAABzZ1aK/txZdlqJtu0x9UaEs9wlvNySdW2Rnp3xIRroQ+rw02PbFiseIonHKaFPlzyTu8G3JbOO1t6bxmpRbh9wWN/jFDlEVES+hImNNK22to1IWhX95txo0LSf+Ex8Y/ieO4s263QwEROMGSn3CNbjjhlvbbrylrVpr3VANyAAAAAAJ/HvS+Wcqte6q0UAn8e9L5Zyq17qrRQAIbtjiPzOzW+Zjp2lpbZeMv9hiQ0+4f7kIMwyy8rD7KrK0TIQcSbUONRnNS75clg2W0F/tbS9NBcLQlxKkLSSkKI0qSotSMj3DIyMSUXsvwKFPRZRqRpMhpfCtJNbq2ULLdJSI63FMpMtO4gBn4PBkVuHUMGWk25DECMh5s9w0rJtO0k/nSe4N+AAJ+Z8cU3JVr5zVCgE/M+OKbkq185qhQAAAAAObdmK0RMgz2ofUSZybx+dwJ7ijYld+04RHumRkOkicv8DxPJ5KJt3WpkSkJ4MpCHHWHDRu94pcdbalJ3d5QCawc02PaLn15FMnIC3YMFt9J6pW9Fj8G+lJlud4ZFr+0dIGFVVFZRwWq2oitw4bOvBsNFokjM9TM+6Zme+Z7ozQAAABP538D5LyVO82cFAJ/O/gfJeSp3mzgoAAAABzbElog9q2dwJKiRIsEV0yGk9zhGWmVocWjXf2VOER/OPqpNNj20Xc+IonI9ZTM1spxO6lMh19Mgm9S3NSSg9S+UVWQ4bjOVKZcva9Mp2PqTD5LcZdQR76SdYW2vT5tdBl0eP0uNwvu+jhNwo20a1Ib1M1KPcNS1qM1KVub6jAbIAABP5l6Ijcq03vWGKAT+ZeiI3KtN71higAAAAHN+14yis4ncPd7CrMggyJrvcbaJStXFdwiLTT94dta25mGt0jCyXOu5sSLXtJMjU4s3Ur1SRb5ERbp/sHQJ0GHZxHoFgwiTEkJNDzDqSUhST7hkYn6Xs7wzHpqbGpqkMzGyNLTzjjr6myPcMmuMOOcHuH/LoAqAAAAT8z44puSrXzmqFAJ+Z8cU3JVr5zVAKAAAAHN6xxEDtovWJSibXa1UV6DtbhOJYMmnCSZ76iMj3C7hGOkDS5BiWO5U2y3fQES+LmamHNpbbjZnprsOsqQtOuha6KASTik2XbWwcQ+ERT0q0z1p3UtuPvHwbSjLeWaVbWnyDo41NDjNFjEZcShgtw2nFbbuztKWtX95xxw1LWf+IxtgAAABP496XyzlVr3VWigE/j3pfLOVWvdVaKAAAAAc3rHEQO2i9YlKJtdrVRXoO1uE4lgyacJJnvqIyPcLuEY/XFJsu2tg4h8IinpVpnrTupbcfePg2lGW8s0q2tPkFbkGJY7lTbLd9ARL4uZqYc2ltuNmemuw6ypC066FrooelDjNFjEZcShgtw2nFbbuztKWtX95xxw1LWf+IwG2AAABPzPjim5KtfOaoUAn5nxxTclWvnNUAoAAAE3nLa3qFtpt5cdblnUIQ+2SDW2arSIRLQTqVo2k75bSTL5SMenR6362Wvgqrm0My9ERuVab3rDFAAn+j1v1stfBVXNodHrfrZa+CqubR65fkPRTG7DITjcb4ihK+L7fB7e0tLem3sr0+l/dMS0ntGvqNESdlmKqrKaS42yqyjzmphMm7oSFPNpbbUSd3f/wBehAKTo9b9bLXwVVzaHR6362Wvgqrm0UAAJ/o9b9bLXwVVzaHR6362Wvgqrm0TFblN7IxXtDsnZW1LorC6j1TvBtlwLcNknI6dkkbK9hR76yPXu6ivxOdKs8Wo7KavhJcyviSJDmhJ2nHWUOLVspIklqpW8RAMfo9b9bLXwVVzaHR6362Wvgqrm0UAAJ/o9b9bLXwVVzaHR6362Wvgqrm0UAAJ/o9b9bLXwVVzaHR6362Wvgqrm0UAAJ/o9b9bLXwVVzaHR6362Wvgqrm0UAAJ/o9b9bLXwVVzaHR6362Wvgqrm0UAAJ/o9b9bLXwVVzaHR6362Wvgqrm0UAAJ/o9b9bLXwVVzaHR6362Wvgqrm0UAAIPC6K0ew7HnW8ns46HKyEtDDbdaaGyVHbMkIN2AteyneLaUZ/KZjedHrfrZa+CqubQwT4HxrkqD5s2KABP9HrfrZa+CqubQ6PW/Wy18FVc2igABP9HrfrZa+CqubQ6PW/Wy18FVc2jEyTM3Km2i43S1bl3fymjlFCbdSw21HSrYN599wlJQna3C3D1/s1/MYzRd1azcdt6tylvoDaZDsJxxL6HGFGSSeYfbJJLTqZEe4W/+0BmdHrfrZa+CqubQ6PW/Wy18FVc2igABP9HrfrZa+CqubRo8sorRqrjqXk9m8R2dSgkON1pERrsoqErLg4CD2kGe0nd01LdIy1I7wT+ZeiI3KtN71hgHR6362Wvgqrm0Oj1v1stfBVXNooAAT/R6362Wvgqrm0Oj1v1stfBVXNooBCZ52oV2EqXERAkWti20mQ7HYSaGmmlqNCHJEjZUlBKNJkWhGA3fR6362Wvgqrm0Oj1v1stfBVXNo9cQyHpXjdfkJRuKceQpfF9vhNjZWpvTb2Ua/R/ukN2An+j1v1stfBVXNo0eaUVozh2QuuZPZyEN1k1a2HG60kOEmO4ZoWbUBC9lW8eyoj+QyF4J/O/gfJeSp3mzgB0et+tlr4Kq5tDo9b9bLXwVVzaKAAE/0et+tlr4Kq5tDo9b9bLXwVVzaKAAE/0et+tlr4Kq5tDo9b9bLXwVVzaMLIc0erblnGaCpcvL11njbkVDqIzTMfa2OFfkOkpKdT3i0M/7S1+8WzM76fPo7Otcpr6sJC5Ve6tLyTac+g6y+2SUuJP9hAMro9b9bLXwVVzaHR6362Wvgqrm0UAAJ/o9b9bLXwVVzaNHllFaNVcdS8ns3iOzqUEhxutIiNdlFQlZcHAQe0gz2k7umpbpGWpHeCfzL0RG5VpvesMA6PW/Wy18FVc2h0et+tlr4Kq5tFAACf6PW/Wy18FVc2h0et+tlr4Kq5tFAACf6PW/Wy18FVc2h0et+tlr4Kq5tGFkOaPVtyzjNBUuXl66zxtyKh1EZpmPtbHCvyHSUlOp7xaGf9pa/eLZmd9Pn0dnWuU19WEhcqvdWl5JtOfQdZfbJKXEn+wgGV0et+tlr4Kq5tDo9b9bLXwVVzaKAAE/0et+tlr4Kq5tGjzSitGcOyF1zJ7OQhusmrWw43Wkhwkx3DNCzagIXsq3j2VEfyGQvBP538D5LyVO82cAOj1v1stfBVXNodHrfrZa+CqubRQAAn+j1v1stfBVXNodHrfrZa+CqubRQAAn+j1v1stfBVXNodHrfrZa+CqubRrbbOJrd8/jWLUi76zhNodsj4wiJHjE6W02hbzqV6rUW6SST/A9M3EMwZylE6O7CdrLaqdKPZ1r5kpTS1EZoNK0d6tCtD2VFv6APXo9b9bLXwVVzaHR6362Wvgqrm0UAAJ/o9b9bLXwVVzaNHe0Voi0xhKsns3Dcs3EIWtutI2zKtnr20bEBJbWiTT3xGWhnua6GV4J/IfS+J8qu+6rIA6PW/Wy18FVc2h0et+tlr4Kq5tFAACf6PW/Wy18FVc2h0et+tlr4Kq5tFAACf6PW/Wy18FVc2h0et+tlr4Kq5tHhlGYfcMuDTVte7cX1kS1Q61laWi4NstVuvPOapbQW9qYx8ezaRY3j2L5BUOUd42xxtmOp5Mll9ja2DWy+2lBGZHvlp/AwGf0et+tlr4Kq5tDo9b9bLXwVVzaKAAE/wBHrfrZa+CqubQ6PW/Wy18FVc2igABB0VFaLtMnSnJ7Ns27NtC1obrTNwzrYC9te3AUW1ook96RFoRbmupnvOj1v1stfBVXNoY96XyzlVr3VWigAT/R6362Wvgqrm0Oj1v1stfBVXNo21lYw6ivk2lg5wUSG0p99zQz2UILaUehbp/sIQK+0+5jVzeSzcRlMYs5sLKy4y0uQlhwyJEhcJKdokHrr9Pe3QFR0et+tlr4Kq5tDo9b9bLXwVVzaN4w+zKYakx1k4y8hLjThbykLLaSov2kY9AEHKorQsxqWjyezUtVZZrS+bdbtpJMitI0JIoBI2V7RGeqTPvS0Mt3XedHrfrZa+CqubQmfHFNyVa+c1QoAE/0et+tlr4Kq5tDo9b9bLXwVVzaKAAE/wBHrfrZa+CqubQ6PW/Wy18FVc2igEXZ5zYHeS8exOiXfza1KFWbhyG4cdg3S2m2+FdSvbWZdwi/gegbTo9b9bLXwVVzaHR6362Wvgqrm0fGI5dHyuNL/wCFdr7KueOLZ10jQ1sul3NpO4tJ/wAqi3xRgJ/o9b9bLXwVVzaHR6362Wvgqrm0UAAIPNKK0Zw7IXXMns5CG6yatbDjdaSHCTHcM0LNqAheyrePZUR/IZDedHrfrZa+CqubQzv4HyXkqd5s4KABP9HrfrZa+CqubQ6PW/Wy18FVc2igABP9HrfrZa+CqubQ6PW/Wy18FVc2jBvs1kwrtOM47UOXt0TJSpLCXkRWY7JnspU9IdSoiUr+VJEZj2xTMiyKVY1E+vdqL2pUgp9c8tLpElwtptxp5BElxCvl0/iQDI6PW/Wy18FVc2h0et+tlr4Kq5tFAACDyyitGquOpeT2bxHZ1KCQ43WkRGuyioSsuDgIPaQZ7Sd3TUt0jLUj3nR6362Wvgqrm0My9ERuVab3rDFAAn+j1v1stfBVXNodHrfrZa+CqubRQAAn+j1v1stfBVXNodHrfrZa+CqubRkZPklfilO9c2W2pps0oaZZTtOuurPZbabT3VKMTJdodxWza9vLsYdo4Fq8mLEnlKalpS85/ltyUNJSbW1+0/8AQYDfdHrfrZa+CqubQ6PW/Wy18FVc2igABP8AR6362Wvgqrm0aOVRWhZjUtHk9mpaqyzWl8263bSSZFaRoSRQCRsr2iM9UmfeloZbut4J+Z8cU3JVr5zVAHR6362Wvgqrm0Oj1v1stfBVXNooAAT/AEet+tlr4Kq5tDo9b9bLXwVVzaKASmSZm5U20XG6Wrcu7+U0cooTbqWG2o6VbBvPvuEpKE7W4W4ev9moZfR6362Wvgqrm0Oj1v1stfBVXNow8YzRd1azcdt6tylvoDaZDsJxxL6HGFGSSeYfbJJLTqZEe4W/+0VgCf6PW/Wy18FVc2h0et+tlr4Kq5tFAACDoqK0XaZOlOT2bZt2baFrQ3WmbhnWwF7a9uAotrRRJ70iLQi3NdTPedHrfrZa+CqubQx70vlnKrXuqtFAAn+j1v1stfBVXNodHrfrZa+CqubRQAAn+j1v1stfBVXNodHrfrZa+CqubRiZJmblTbRcbpaty7v5TRyihNupYbajpVsG8++4SkoTtbhbh6/2a/mMZou6tZuO29W5S30BtMh2E44l9DjCjJJPMPtkklp1MiPcLf8A2gMzo9b9bLXwVVzaHR6362Wvgqrm0UAAJ/o9b9bLXwVVzaNfHrpcDOKvjVtLtOEqrPY44iKng9mTWa7HEo0b6Wu7ta725pu62An5nxxTclWvnNUAoAAAE/mXoiNyrTe9YYoBP5l6Ijcq03vWGKABEdr/AP03v/8AuW/982I3N4/aDJxiO9k0Ssk4xCUxLtolS88Up2Ozsq02pbZIJKfpKJO6em+Q6dl+PdK8bsMeOTxTjyEo4xscJsbK0ua7G0jX6P8AeITEvAMruIX3PkGZLk07hJRJiw69mG462nT+mb/COmST03e93QH3mdphdnVUkm9kTX4dmjjFfTwTe4SclxtLhcIxG/qLJCVEehqJJa7onOzx+FB7R51LQQLGlo5FOU5VRZtOsmmSiShnhmW31LUSFJUe6R7p6/ILLIMEKwco5mP2K6Kwx5CmK59DSZLZMLQlpTK2XVJJRbCCIj2h80ODzqzKVZZaXrtvPdgLrnidYQykiU8h9JspaVstoTsGWxoe6ZntAJGn+B+1rlXI/NkjoGCfA+NclQfNmxr4eC8Uo8tpuP7fSmVYy+H4HTi/3i2TWxscIfCcHprrqna+YUFFWfclJW0xO8OVdFYicNs7G3wDaWtvZ1Vs7WzrpqYDYAAAAAAAAAAAAAAAAAAAAAAAJ/BPgfGuSoPmzYoBP4J8D41yVB82bFAAAAAOdUhmfbJlHCfSKshcDtb/AAe5tbGv8u1v6d0fM4k/87qs2v8AMKhe4xpv7HDr2Nr5tobnI8KetLqNk1Faro76OycRctDKJDb0c1bfBPsOGklaHvHr/AtPbGcOVS2Ey9tbJy5v56EMv2DraGUpZRupZYZb1S2jXdMtT1MBUAAAAn8y9ERuVab3rDFAJ/MvREblWm96wwFAAAACI7XyIuzjIDIt02W9T/8AvmxbjnWf9mlxm043GMrk1VY4whh6pQ247HcUhSl8ItCZLKDM9S309wBndkH/AE3oP+5c/wB84LcQHZ52d2uDOupkZNIt4Bs8DGrnG1tMsHtk4a20KkPJI9/eSW+L8AE/nfwPkvJU7zZwUAn87+B8l5KnebOAKAAAAAAAc5xgzPtdzrhN8o9WTG1v8HxctrY1/l29/Tuj5UX66JNjq1/xOz8vHD02v+yNzkGEyJ943lGPW66K7SxxSRISyiSy+xtbRIeYcUgjNJ7ytf4EMjF8P+4Zc64sbBy4vbPYTMsXkJaLg2y0Qyyy33raC39C3wFOAAACfzL0RG5VpvesMUAn8y9ERuVab3rDAUAAAAAAA5zjBmfa7nXCb5R6smNrf4Pi5bWxr/Lt7+ndHyov10SbHVr/AInZ+Xjh6bX/AGRucgwmRPvG8ox63XRXaWOKSJCWUSWX2NraJDzDikEZpPeVr/AhkYvh/wBwy51xY2Dlxe2ewmZYvIS0XBtlohlllvvW0Fv6FvgKcAAAE/nfwPkvJU7zZwUAn87+B8l5KnebOAKAAAAAAAc67NzM8mz/AIT/ADvvjd1+lwZIPg/n2dPoj5xsk/8AN/NDZ+hxSu4fZ3uE4Itna+fZGytcFnnfyskxS9XQT7FDbdmg4zcth/giNLbhtOKRsrSXdI/4nrtMUxOPjDUxxUp2xtLN7jNnZyCSTjzhFoktlHeoQgvopLeAUIAAAJ/IfS+J8qu+6rIUAn8h9L4nyq77qsgFAAAAAAAOcNmf/PR0nd4sa/obX/nE67Gv/tb3zhkxa9r2Dm19Mo1nxjTf4PgFbG1823vfON7lGGHe2EC+qrJymv65K249g22l5KmXNdpl9lw0pcRu6lu7g+cewx6tuX8lvrVy8vXWSiNyltIjtMxyVt8Gww2aiTtK3z1M/wC09QrAAAAAABP496XyzlVr3VWigE/j3pfLOVWvdVaKABBdtJuF2ZXvBa7WzGI9nf2TlMbe93NnXX5hscv4v/y1utdngfuaRwemmzrxZXB7Onz6aCgtauFdVsqpsW+FhzG1Mvo10M0qLTcMt4y3yPuCE/5ZXMivaxy0y2TLxdnYR92lGaafWy0ZGhh2YhW2pHe6biS3AFF2ek4WCY2Tuu192xd/f04JOz/2dBSj4aabYaQwygm2mkkhtCS0JKUlolJF8hEPsBPzPjim5KtfOaoUAn5nxxTclWvnNUKAAAAABznssMzss84T/O6RTCPa+lwZGXB/Ps6fRHRhE2GCWLd7NyDEr9dDJtCR95snGbmMPLbI0pdS26pGwvQ98j/iYDW4eX6q9oRs/wCRpV7ez9HhOLHrr8+u0OkDQYpikbFoslCZDs6fPeVLsrGRpwr7yu6ZJ3EpSW4lJbhDfgAAACfzv4HyXkqd5s4KAT+d/A+S8lTvNnBQAAAADnGFGZ9p3aLwv+aSqrY2vpbHF3N7Xd2dNn/QEMv1xsTa+h0eb4xpvcJxpvY2vn2N75htrzCJcu+6UY1crorh1ko01wmESmZDSTLY4VhxSC206aEoj3hmYriCMden2cyc7bXdqpC7CzfSls1E2Wy222033raElvJL/wBGgUoAACfzL0RG5VpvesMUAn8y9ERuVab3rDFAAAAAOcdrJnw2EEv/AMOeS1/C7X0N9Wm1rub2oduRbXZ9KJH/AIjjMTi2n0uE4ZOmx8+morMqxiBl1O7T2CltJNSXo8lk9l1l5s9W3mz+VP8AAT7WAW8+bXv5fkrl7Eq3kyocAojURtT7f+W7INpSzdNP7i/06hdgAAAn5nxxTclWvnNUKAT8z44puSrXzmqAUAAAAOdUhmfbJlHCfSKshcDtb/B7m1sa/wAu1v6d0dFEjkeFPWl1GyaitV0d9HZOIuWhlEht6Oatvgn2HDSStD3j1/gWgaacSf8AndVm1/mFQvcY039jh17G1820OjiXxnDlUthMvbWycub+ehDL9g62hlKWUbqWWGW9Uto13TLU9TFQAAAAJ/HvS+Wcqte6q0UAn8e9L5Zyq17qrRQAAAADnVIZn2yZRwn0irIXA7W/we5tbGv8u1v6d0fM4k/87qs2v8wqF7jGm/scOvY2vm2hucjwp60uo2TUVqujvo7JxFy0MokNvRzVt8E+w4aSVoe8ev8AAtPbGcOVS2Ey9tbJy5v56EMv2DraGUpZRupZYZb1S2jXdMtT1MBUAAAAn5nxxTclWvnNUKAT8z44puSrXzmqAUAAACbzkn1ULaYq0NyDs6gmXHEG4hKztImypaErbNSSPfIlFr8pD04nnHrmq9lSedQzL0RG5VpvesMUACf4nnHrmq9lSedQ4nnHrmq9lSedR7ZXk9fh9G/f2iHXIsc20rRHSlThm4sm07JLUhO+ruqEFB//AOhcClyUMPNWEJCzIjkSGGzbTr3VcA86v/sgLfieceuar2VJ51Dieceuar2VJ51G+bWh1CXG1EtCyJSFFukZGWpGQ+gE/wATzj1zVeypPOocTzj1zVeypPOoxoOe007Mp2DpZks2sFs3VreQhLLidG1/0lJcUszNLpKLVJbgx7vtKxyhyuBh85Mg7Cw4EkPNoQbDan1m22l1SnEqIzMu4k98gGx4nnHrmq9lSedQ4nnHrmq9lSedR5Zjm9ThLEJ6zZkyVWD5RozENCFuKWZa7zjjZabxb/dFKAn+J5x65qvZUnnUOJ5x65qvZUnnURErtJzCwzyXi+JUkedX1LqG7R95Rpd2NpKHVoM3Wkp2TMyItFGemo6uAn+J5x65qvZUnnUOJ5x65qvZUnnUUAAJ/ieceuar2VJ51Dieceuar2VJ51FAACf4nnHrmq9lSedQ4nnHrmq9lSedRQAAn+J5x65qvZUnnUOJ5x65qvZUnnUUAAJ/ieceuar2VJ51Dieceuar2VJ51FAACDwuLmKsOx5UW2rG451kI2W3KyQ4tKDjt7KVrTZNkpRFvmSS1+QhvOJ5x65qvZUnnUME+B8a5Kg+bNigAT/E849c1XsqTzqHE849c1XsqTzqKAAE/wATzj1zVeypPOocTzj1zVeypPOooAAT/E849c1XsqTzqHE849c1XsqTzqKAAE/xPOPXNV7Kk86jR5ZFzFNXHORbVjiPvOpIkt1khB7Z2UUm1GarJfepXoai074tzVOupXgn8y9ERuVab3rDAOJ5x65qvZUnnUOJ5x65qvZUnnUUAAJ/ieceuar2VJ51Dieceuar2VJ51FAACf4nnHrmq9lSedQ4nnHrmq9lSedRQAAn+J5x65qvZUnnUaPNIuYpw7IVSrascjlWTTebbrJDa1IKO5tJQtVk4SVGW8ZpPT5DF4J/O/gfJeSp3mzgBxPOPXNV7Kk86hxPOPXNV7Kk86igABP8Tzj1zVeypPOocTzj1zVeypPOooAAT/E849c1XsqTzqHE849c1XsqTzqKAAE/xPOPXNV7Kk86hxPOPXNV7Kk86igABP8AE849c1XsqTzqNHlkXMU1cc5FtWOI+86kiS3WSEHtnZRSbUZqsl96lehqLTvi3NU66leCfzL0RG5VpvesMA4nnHrmq9lSedQ4nnHrmq9lSedRQAAn+J5x65qvZUnnUOJ5x65qvZUnnUUAAJ/ieceuar2VJ51Dieceuar2VJ51FAACf4nnHrmq9lSedQ4nnHrmq9lSedRQAAn+J5x65qvZUnnUaPNIuYpw7IVSrascjlWTTebbrJDa1IKO5tJQtVk4SVGW8ZpPT5DF4J/O/gfJeSp3mzgBxPOPXNV7Kk86hxPOPXNV7Kk86igABP8AE849c1XsqTzqHE849c1XsqTzqKAAE/xPOPXNV7Kk86hxPOPXNV7Kk86igABP8Tzj1zVeypPOocTzj1zVeypPOooAAT/E849c1XsqTzqNHexcxK0xgnbasUtVm4TCkVkhJJX92zzNSyOyVtp2CUWhGndMj13NDvBP5D6XxPlV33VZAHE849c1XsqTzqHE849c1XsqTzqKAAE/xPOPXNV7Kk86hxPOPXNV7Kk86igABP8AE849c1XsqTzqHE849c1XsqTzqKAAE/xPOPXNV7Kk86hxPOPXNV7Kk86igABP8Tzj1zVeypPOocTzj1zVeypPOooAAQdFFzE7TJyatqxK02bZPqXWSFEpf3bAMlIIrJOwnYNJaGat0jPXd0LecTzj1zVeypPOoY96XyzlVr3VWigAT/E849c1XsqTzqHE849c1XsqTzqKAAE/xPOPXNV7Kk86hxPOPXNV7Kk86igABByouY9MalKrasOQdZZm24VZIJBIKRW7aVI+8jNSlGadD2i00PcPXvd5xPOPXNV7Kk86hM+OKbkq185qhQAJ/ieceuar2VJ51Dieceuar2VJ51FAACf4nnHrmq9lSedQ4nnHrmq9lSedRQAAn+J5x65qvZUnnUOJ5x65qvZUnnUUAAJ/ieceuar2VJ51Dieceuar2VJ51FAACDzSLmKcOyFUq2rHI5Vk03m26yQ2tSCjubSULVZOElRlvGaT0+QxvOJ5x65qvZUnnUM7+B8l5KnebOCgAT/E849c1XsqTzqHE849c1XsqTzqKAAE/wATzj1zVeypPOocTzj1zVeypPOooAAT/E849c1XsqTzqHE849c1XsqTzqKAAEHlkXMU1cc5FtWOI+86kiS3WSEHtnZRSbUZqsl96lehqLTvi3NU66lvOJ5x65qvZUnnUMy9ERuVab3rDFAAn+J5x65qvZUnnUOJ5x65qvZUnnUUAAJ/ieceuar2VJ51Dieceuar2VJ51FAACf4nnHrmq9lSedQ4nnHrmq9lSedRQAAn+J5x65qvZUnnUaOVFzHpjUpVbVhyDrLM23CrJBIJBSK3bSpH3kZqUozToe0Wmh7h697eCfmfHFNyVa+c1QBxPOPXNV7Kk86hxPOPXNV7Kk86igABP8Tzj1zVeypPOocTzj1zVeypPOooAAT/ABPOPXNV7Kk86hxPOPXNV7Kk86igABP8Tzj1zVeypPOocTzj1zVeypPOooAAQdFFzE7TJyatqxK02bZPqXWSFEpf3bAMlIIrJOwnYNJaGat0jPXd0LecTzj1zVeypPOoY96XyzlVr3VWigAT/E849c1XsqTzqHE849c1XsqTzqKAAE/xPOPXNV7Kk86hxPOPXNV7Kk86igABP8Tzj1zVeypPOocTzj1zVeypPOooAAT/ABPOPXNV7Kk86jXx2bxrOKv75mxJetVZ8BxOI5F2dJNZt7fCype3ruaabOnz67lgJ+Z8cU3JVr5zVAKAAABP5l6Ijcq03vWGKAT+ZeiI3KtN71higAc47df+m1l/3sX/AH7Y5Bkj3aJYYDQt5HRMtYfAahOMz4RtqkqjE0lppajN980GttRf/DSW1v8AyDvXaRi87McRmUFa60zKfWyttcg1Jb/pupcPaNtK1byf7o50fZh2uWlQxit3lEFvHWmmo/ARkGtZNMEkmkbkaOpZJJBfSc/aAy85zec3SYZRYE8cLpOTTESWsiJxln+lHbb3drZVtOaKUW9puDT3Sc97JbSksZeVSMhrbGSUeZFlcIrc701JQT7r2nemeypKk7pb2gtMt7JmLjH6Kto5yq+wxoiKsmOEajVoSdeENvZNKjW2le0Rbh9zdGnidl2dZBc1th2kZBHsYVU4T0eFETuOGRkrZX/RjJLU0ltHsqMy3NwB4Z2joz2yYjk6e8j2pcQkqLeNepxlKX/7Ehv/AN0c/wA0hy8jsMz7QYq1EVFaxIsRxO6RtsmqMpSS+ZSWlfvHcO1LB52cUkSNUvsxrODKRKjPSDUlGhJUlaTU2hxRb5KLvd8hhYz2aPVXZxY4dZPsuWFoUlcqU0alt8O8Wy05q4lClbBIQZ6lvkAmLee3n/aZgcZkiXBiQUXz5FuklTpFISlRftabLd+UdlnR3JUKTFZeVGdfaW03IR9JtS0mlLid0t1JnqW6OZdlPZfc4VYzrbIZcaXLdjtwofFluOEhlJkakmbrbWn0EEREXcHVQH82dnOJXTnaZdRk5LKbco5bbti+RObVklt/vm5H9feXs7u0a98bepPO+1y2u50HKJGOVNbIOPCjxNsjP6WyS+AdZMz2SI1KUo909whe4hg1rj+b5Rksx+O5Du1muI20pZupI3Dc/qkptKS3D7ijEy92WZ5jtxZTOzrIY9fAtXDdfiSk/wCWZmo9lH9CQk9naPZURJPTcAYuI5hlLuM9oVDeTlSLbFo0xMazQejm023Ib+mRJUZocZ2kqPd3fmH72UV2d5NFqMttMqkfdsRxxlurNTjnGW0GtC1SnDcTtK297aJe4XcFJjfZa7QYnkla7PTNv8ljyG5lg4SibJx1pxCC/mUaSW6pSlb567w33Zti8/DsRh0Fm4y7KjreWtcZSlNmTjqnE7JuIbVvK3e9AVgAAAAAAAAAAAACfwT4HxrkqD5s2KAT+CfA+NclQfNmxQAAAAAAxZ9lXVUc5dnLZhRyPQ35LiGkEZ9zbcNJBAsq61jlLrJbM2OZ6E/GcQ6gzLubbZqIBlAAAAn8y9ERuVab3rDFAJ/MvREblWm96wwFAAAAAA8pMqNCjuS5jzceM0W06+8okNoSX8ylrMiIv2gPUB5sPsSmGpUV1D0d5CXGXm1EtC0LLaStCk6kpKiPUjIegAJ/O/gfJeSp3mzgoBP538D5LyVO82cAUAAAAAAAAPORIjxGHJMp1DDDSTW686okIQkt9SlK0IiL5x+RpMaZHblw3kSIzySWy+0oltrSrdJSFpMyMj+UgHqAAACfzL0RG5VpvesMUAn8y9ERuVab3rDAUAAAAAAAAMSwtK2pY41azGIMfXZ4aU6hlGp9zacNJD6g2ECzjpl1spmZGXqSX47iXWz039FtmogGSAAACfzv4HyXkqd5s4KAT+d/A+S8lTvNnAFAAAAAAAADBsrmnpm0u29hGr21nohct5tlKj+QjdUnUZEWVFmsIlQ325EdwtW3mVpWhRfKlSDMjAewAAAJ/IfS+J8qu+6rIUAn8h9L4nyq77qsgFAAAAAAAADHmToVdHXLsJLUSM39N99aWm0/4lrMiIedda1duycmpnR57BHsm9FdQ8gj+TaaNRagMwAAAAAAT+Pel8s5Va91VooBP496XyzlVr3VWigAAAaxGR485P8Aupu2hLsSPZOEmS0b+0X8vBErb1/cA2YAACfmfHFNyVa+c1QoBPzPjim5KtfOaoUAAAAAAAx50+BWRlTLKUzDio025EhxLTadT0LVbhpSWoDIAfiVJUklJMlJUWpGW6RkfdIfoAAAAn87+B8l5KnebOCgE/nfwPkvJU7zZwUAAAAAAMOxtauoZKTbTo8Bgz2SelOoZQZ/JtOmktR6Q50Kxjol18lqXGc+g+wtLrav8K0GZGAyAAAE/mXoiNyrTe9YYoBP5l6Ijcq03vWGKAAAAAAAY0exr5ciTDiy2X5MM0lLYacQtxk167BOoSZqRtbJ6bQDJAAABPzPjim5KtfOaoUAn5nxxTclWvnNUAoAAAAAHw88zGaW/IcS0y2k1uOuKJKUpLdNSlK0IiIB9gPGLLizo7cuE+3JjPFtNPsrS42tP95C0GZGX7B7AAAACfx70vlnKrXuqtFAJ/HvS+Wcqte6q0UAAAAAAPh55mM0t+Q4lpltJrcdcUSUpSW6alKVoREQ+IsuLOjty4T7cmM8W00+ytLja0/3kLQZkZfsAewAAAJ+Z8cU3JVr5zVCgE/M+OKbkq185qgFAAAAn8y9ERuVab3rDFAJ/MvREblWm96wxQAMGzq2rRCEOPPMGjaLhI69hRoWWytB7hloov3lvkZGNarD6zvuDektaapZ4N3Z4FpW3tsM973rauEPUt/e0MtlOmfeXtVjda7cXcjisBg0k68aFuaGtRIT3rSVqPVR9whLxe2Ps1mPJYavm0rVvG8zIYR+9x9pCC/eYmcdJneYiZd8fL5GOsUx5LVrHaOjcqw+s77g3pLWmqWeDd2eBaVt7bDPe962rhD1Lf3tDLZToVh9Z33BvSWtNUs8G7s8C0rb22Ge971tXCHqW/vaGWynTetOtPtIfYWl1pxJLbcQZKSpJlqSkqLcMjH2M+LH7YX+/l/df11rfyn1YfWd9wb0lrTVLPBu7PAtK29thnve9bVwh6lv72hlsp0Kw+s77g3pLWmqWeDd2eBaVt7bDPe962rhD1Lf3tDLZTpQAHxY/bB+/l/df11rfyn1YfWd9wb0lrTVLPBu7PAtK29thnve9bVwh6lv72hlsp028GBHrmTjRSUljaNTbRnqlsj/AJG9d5Ou8XcGSA2tK1neIiEZOVny1/nJkteOu0z3AABTgAAAAAPh55mOy5IkOJaZaSbjrrhklCEJLaUpSlbhERbpmYD7AY0GwgWkZE2slMzYrmpIkRnEutqNJ7KtlbZqSehloY+bKzrqaE7Y2sluHDZIjdkPKJKE6mSS3T7pmehEAywEhUdqOBXtgiqrLpp2Y4rYaaWh1klqM9CS2t9ttKjM94knuivAAAAE/gnwPjXJUHzZsUAn8E+B8a5Kg+bNigAAAAHMnIUPKe1yfEu2UzIOO1zCoMJ4icY4eSZLXIU2rVJrJJ7Jal8nyEPmDBi4x2w/d9O0iLXXtQqTKhslsNFJYdNJPJbTokjNJabhd0x73LNtifaA9l8arlW9Pbwm4k9uvb4eSw+wouDc4HXaUg0bne/P8m7647Etckzl7ObCukVNdEgFW1MSckm5LhrXwrshxrUzbLd2SI98B0MAAAE/mXoiNyrTe9YYoBP5l6Ijcq03vWGAoAAAAQPafisS5o7e4spL7rFbUy3IVYS9iMmU2064UtxKNFOLLvSSSj0LTe3RfCI7Rr1yPS2uPR6a1sZVlWyWmH4ENyQwlb7brCEOOt/RPa3TL5N0Bt8E+B8a5Kg+bNigEZ2cXDknH62kkVNlXSaqviR312ERyM0tbbSWVEytz6ehp/sFmACfzv4HyXkqd5s4KAT+d/A+S8lTvNnAFAAAAAAAIntDxSJfVk6fZyX3IlfAkOMVaVmiOqQhC3ESHiRopak6FskZ6F8gz+zj4Cxzk+P/ALshj55fqgVk2naqLSxfsIT7bTtdDcktJU4hbSUurb+iev8AoGJ2Y27zmP1uPyqizrpVZBZbfdnxHI7KlIIm1Jacc02j1+beAXQAAAJ/MvREblWm96wxQCfzL0RG5VpvesMBQAAAAAADmLEKFlXa1fNXjCJsbGocNmuiSCJxhK5aCkOP8GvVO3/Lrp/AgpokfGe2CdSVLSY1ZcU6LN2G0Ww0iS2+bG2hsu9TqlJ66F3R6WLdrhvaBY5UzUy7elv4rDUz7tb4xJYkxSJpszZIyUaFI7qf9W7k4vBtb7Np+e2de/VREwUVNRDmESJKm+E4d195ojPg+/3EkZ67oDoIAAAJ/O/gfJeSp3mzgoBP538D5LyVO82cAUAAAAAAA5fi9ZXZXnOY3N9GbnuVkpFVXMykJdbjstIPbNpDhGkjcVumeny/KY9MEjNY/wBoGY4tXpJqoJMSxiRU6khhb7f9ZLad5JKUe8XcIh8MuW2AZdkUlyln21HkDrc+NIqmDkusyNk0vNvNJPaIlHvHvf2nptMGqraRfZBm11DXXO3SmGYFe9s8M1FjI2EqeJOpJW4e6addwBdgAAAn8h9L4nyq77qshQCfyH0vifKrvuqyAUAAAAAAA5ncxo2T9rkLH7dpMmqqKddo3CdLbZclOPlH23Wz71WyhW5qQ85NfCxbteoE0jCIUbI4UtiwixyJtlS4iDkNvcGjRO1uEWun8TGZk8O2x7PIWeV9bItYDteqptYsFPCyW08Jxht9trUjWW0REZJ+QfNYxaZhnkLLZNVKqKeiivM16LFsmZL8mSWw65wOpqQhLe533/p0DowAAAAAAn8e9L5Zyq17qrRQCfx70vlnKrXuqtFAAj+1S3l0fZ/eWMFam5KWUMtuIM0qRxh1uMa0qLdI0k5qRifyTs+xeD2YzG4dew1Lra5U5ixQ2lMnjEdrjHDG8ktvaWad3d+beFbnmOu5XiFrQMKSl+W0RxzWZknhWlpfaJRlvEa2yIxFWOSZTfYk5iDGK2cfIJ0Uq6XIkMk3Xt8IgmX3ylbRpUnYMzIkkZgL3DbF+3xOks5R7UmVBjuvq/vOKbTtq/erdG7Gvoqpujpa6maVtor4zUYlnuGrgkEjaP8AxaajYAJ+Z8cU3JVr5zVCgE/M+OKbkq185qhQAAAAAOU9smKRJeN3eSz5L8p2Kw0VbDUs0xoqttDa3ENo02lr2j1UrX5h1Yc07WbiTLx+3xOBR286ZJaaJqTFguvRTM1od04ZvXeJO7ub4DokH/wUb/ukf/ZIe40OLXxXcIy+7bCtVFS22pNnFXFNZ7O+0Tn0iLTdG+AAAAE/nfwPkvJU7zZwUAn87+B8l5KnebOCgAAAAHMKuDByztRyp29joms461Ch1kWQknWW+NNqeedJteqds1N7+m8PrGYsfHO1m9x2qbKPV2NW1b8Tb71pp9DqYyjbbLvU7e0Znp/qIfUlNrg+eXWQIqJltR5I1GU6qsaOS/HkxEG0RLZI9rYWSlK2i+UZmIV9rbZhb57awHqpqRGarKiFKIkyeLoUTrjr6EmewanCLRO//oMwvwAAE/mXoiNyrTe9YYoBP5l6Ijcq03vWGKAAAAAYF3Wu29XIrWZr1cqQSUqmRTInkI2km4TalEZJNSCNO1pua6lujn/ZxTV+P53ntRVtm1DjFTE2hSlLVquK64tSlLMzM1LUaj/aOhW9kmornrFUWTNJnZ1jQWjfkL2lEj+m0ndVptan8w5fjWRyoud5TcSMavm4eQLrEQlqrXi2OLMKjuqf13EJJSt/U9wB10AAAE/M+OKbkq185qhQCfmfHFNyVa+c1QCgAAABJZxikTI4bj1pJfXBhRnnU1bazbYdeSk1Idf2NFL2NO9TroK0S+ZZD90w3YCamzsnJsd5La62IuUhCjSaCJ1Tf0dTMB4dlv8A09x7/wAoj+JivHPuyq1fLHq3GplPaV8uuhlwz86G5HjqUlRJ2G3XNNpXf66ab2o6CAAAAJ/HvS+Wcqte6q0UAn8e9L5Zyq17qrRQAAAACSzjFImRw3HrSS+uDCjPOpq21m2w68lJqQ6/saKXsad6nXQfPZb/ANPce/8AKI/iY98yyH7phuwE1NnZOTY7yW11sRcpCFGk0ETqm/o6mY03ZVavlj1bjUyntK+XXQy4Z+dDcjx1KSok7Dbrmm0rv9dNN7UB0EAAAE/M+OKbkq185qhQCfmfHFNyVa+c1QCgAAAT+ZeiI3KtN71higE/mXoiNyrTe9YYoAHOO3X/AKbWX/exf9+2MTG+zrDsj7OKhuZUxWpcuuZUqxZZQ3JJ1TZHwxvIIlKUSt3vjMj7o3vavQWuTYROqKRjjM91bCmmTWhvaJDyFq751SE7iS7pjnsOB29Lx2Ph7FXBqILUdMIrDhmjeJok8Geq25EjRRp7qG9fk0MBjdludyMb7KLuylpVKTSyeDr2lGeyZySb2Gde4lLqzUfzGPR7IO3KNjic/dmwFVCm0TPurgm9oo7mhpWZcES9k0qI/wDP2tBXs9kceL2ZzMGYkpOdMMpTs5RGlCpaVIWncLUybLg0o/Zu6aiQXj/blNxxGAPwoDNQhpEP71N1vbOO3skhBml1S9nZSRf5O1oA32Udq9p0axZzF4yCvcsMkR0u98hlZLQytKSXoSjN1eyk1bmm6Nxjae1eo+8zzSbDsIaID0iJMjEglNyUbJoaUhLLGpbO0Z94e9vjTZd2U2xY/iicRkIVcYnopjhjJBPLNSHlOJ29UpUTze0SVbmh6GY32JH2o3EqYnPYkOtq3IbkduJENCnFvOKQROmpDsjQiRtl9Mt/eAa7s7y/Ib3sztshtZnGLSLx3gJHBNI04FgnG+8bQlB6KPupE7/zFy//AJMdK/vAvvvj3F+OcAx/l8LppwfB8Fvbn0f9IxqDCe2HH66ywevRARRzVu7Vu6pClEh1JNL4FBObZGtBby29w+6W+Mn/AJdZf/yY6Kfd5fffHuMcT4dj/L4XXXhOE4Le3fpf6QGBf532wY7Aqs2s3ITdJZOIS1UIQhRklaFPNk8s2+EI3G0meqXNz5C3hmWGa9rGKWlFcZS5C+5Lt9CFVbCEHxdCzTtIU5scISyQrUj4RZbm6N/2l4ZkmQdnFBQVELjNnBchqkx+FaRskzEdYc791aEHotZFuGPftXw/IcnrMci0sQpLsGUhyWRuNtkhBIJJq1dWna0Mv5dTAYnaX2h3tbksPC8ZmQqmU8zxiXcWS0IZaJW0aUEp8lILcR3Uq11IiHx2b5/kc3K5OGZLPgXa0sHJi3FYttbSjTsmbe0wlCDLRX91JkZd3UO0zs7yCyyiJmeMw4Vs+0yTEqosktracNO0lKiQ/stqLZX3VJMjIjIZ3Z1j+XRr122yPHaTH4pRVssx6qNHbeU8pxsyWp1k3lbOwlWpcJpulufIEpRZZ2xZjJvazHJcRsq2Y7rYSW2kqQjaNLMRpJNLSf8Alq75aDP5VEPaNl2Y5z2TZErjDEa1quHatXlIIikQUx1uPoJJNrSl1SdU96Rb2+kVfZPid/jEzKXLuKUZFjOJ6EonG3OEbJTp7f8ASWo0/TLcVoY1/Z1gN/W4zl1JfRyhLvFvtxjNxt0jbeZUzwh8Atehd9vHugNf2Bw8yTURpr9hHViSkSURa4klxhMjht1alcCR7OpL/wDinv73ydcuKWrv4Kq24jJlw1qQtbCzMkqU2onEa7JlropO9vGOb9kdN2jYwR43kECKxj8RLzkeUhxDjzjziyUSU8G6rvN1R982Ris7RmMrlYpLi4aRnbvmhtJoW20smlH/AFTQ48pCUq2e7rr8m6A41mdFQ5J2mU+N4BCYjPV5kdxJgoS0y3wbiVKUrgtE7TRFun3VGSd8h/SA/n3D6ntowiAqDS4dWGp1W1ImPvNLkOn3OEWmwQWie4RERfv1Hf2jcNpBulsuGkjWkt4labpAPsAABP4J8D41yVB82bFAJ/BPgfGuSoPmzYoAAAAAAAAAAAAT+ZeiI3KtN71higE/mXoiNyrTe9YYCgAAAAAAAAAAE/nfwPkvJU7zZwUAn87+B8l5KnebOAKAAAAAAAAAAAAAAE/mXoiNyrTe9YYoBP5l6Ijcq03vWGAoAAAAAAAAAAAAAAT+d/A+S8lTvNnBQCfzv4HyXkqd5s4AoAAAAAAAAAAAAAAT+Q+l8T5Vd91WQoBP5D6XxPlV33VZAKAAAAAAAAAAAAAAAAAT+Pel8s5Va91VooBP496XyzlVr3VWigAAAAAAABPzPjim5KtfOaoUAn5nxxTclWvnNUKAAAAAAAAAAAAAAAT+d/A+S8lTvNnBQCfzv4HyXkqd5s4KAAAAAAAAAAABP5l6Ijcq03vWGKAT+ZeiI3KtN71higAAAAAAAAAAABPzPjim5KtfOaoUAn5nxxTclWvnNUAoAAAAAAAAAAAAAE/j3pfLOVWvdVaKAT+Pel8s5Va91VooAAAAAAAAAAAAT8z44puSrXzmqFAJ+Z8cU3JVr5zVAKAAABP5l6Ijcq03vWGKAa+7+4/ut/pJxT7p7zjP3hwfFvpp4PhOH/p/5mzpr3dO6I/9EPyp+HAOgAOf/oh+VPw4P0Q/Kn4cA6AA5/8Aoh+VPw4P0Q/Kn4cA6AA5/wDoh+VPw4P0Q/Kn4cA6AA5/+iH5U/Dg/RD8qfhwDoADn/6IflT8OD9EPyp+HAOgAOf/AKIflT8OD9EPyp+HAOgAOf8A6IflT8OD9EPyp+HAOgAOf/oh+VPw4P0Q/Kn4cA6AA5/+iH5U/Dg/RD8qfhwDoADn/wCiH5U/Dg/RD8qfhwCgwT4HxrkqD5s2KAc//RD8qfhwfoh+VPw4B0ABz/8ARD8qfhwfoh+VPw4B0ABz/wDRD8qfhwfoh+VPw4B0ABz/APRD8qfhwfoh+VPw4B0AT+ZeiI3KtN71hif/AEQ/Kn4cH6IflT8OAdAAc/8A0Q/Kn4cH6IflT8OAdAAc/wD0Q/Kn4cH6IflT8OAdAAc//RD8qfhwfoh+VPw4B0AT+d/A+S8lTvNnBP8A6IflT8OD9EPyp+HAOgAOf/oh+VPw4P0Q/Kn4cA6AA5/+iH5U/Dg/RD8qfhwDoADn/wCiH5U/Dg/RD8qfhwDoADn/AOiH5U/Dg/RD8qfhwDoAn8y9ERuVab3rDE/+iH5U/Dg/RD8qfhwDoADn/wCiH5U/Dg/RD8qfhwDoADn/AOiH5U/Dg/RD8qfhwDoADn/6IflT8OD9EPyp+HAOgAOf/oh+VPw4P0Q/Kn4cA6AJ/O/gfJeSp3mzgn/0Q/Kn4cH6IflT8OAdAAc//RD8qfhwfoh+VPw4B0ABz/8ARD8qfhwfoh+VPw4B0ABz/wDRD8qfhwfoh+VPw4B0ABz/APRD8qfhwfoh+VPw4B0AT+Q+l8T5Vd91WQn/ANEPyp+HB+iH5U/DgHQAHP8A9EPyp+HB+iH5U/DgHQAHP/0Q/Kn4cH6IflT8OAdAAc//AEQ/Kn4cH6IflT8OAdAAc/8A0Q/Kn4cH6IflT8OAdAAc/wD0Q/Kn4cH6IflT8OAUGPel8s5Va91VooBz/wDRD8qfhwfoh+VPw4B0ABz/APRD8qfhwfoh+VPw4B0ABz/9EPyp+HB+iH5U/DgFBM+OKbkq185qhQDn/wCiH5U/Dg/RD8qfhwDoADn/AOiH5U/Dg/RD8qfhwDoADn/6IflT8OD9EPyp+HAOgAOf/oh+VPw4P0Q/Kn4cA6AA5/8Aoh+VPw4P0Q/Kn4cAoM7+B8l5KnebOCgHP/0Q/Kn4cH6IflT8OAdAAc//AEQ/Kn4cH6IflT8OAdAAc/8A0Q/Kn4cH6IflT8OAdAAc/wD0Q/Kn4cH6IflT8OAUGZeiI3KtN71higHP/wBEPyp+HB+iH5U/DgHQAHP/ANEPyp+HB+iH5U/DgHQAHP8A9EPyp+HB+iH5U/DgHQAHP/0Q/Kn4cH6IflT8OAdAE/M+OKbkq185qhP/AKIflT8OD9EPyp+HAOgAOf8A6IflT8OD9EPyp+HAOgAOf/oh+VPw4P0Q/Kn4cA6AA5/+iH5U/Dg/RD8qfhwDoADn/wCiH5U/Dg/RD8qfhwCgx70vlnKrXuqtFAOf/oh+VPw4P0Q/Kn4cA6AA5/8Aoh+VPw4P0Q/Kn4cA6AA5/wDoh+VPw4P0Q/Kn4cA6AA5/+iH5U/Dg/RD8qfhwDoAn5nxxTclWvnNUJ/8ARD8qfhw3GN/8uuPOdEfuT7w4I+F+6uKcNwO0na2uK9/sbezrrua6AKgAAB//2Q==)"
      ],
      "metadata": {
        "id": "inirAS3Rr9L1"
      }
    },
    {
      "cell_type": "code",
      "source": [
        "# Vectorizing Text\n",
        "df['description']=df['description'].fillna('')\n",
        "tfidf=TfidfVectorizer(stop_words='english')\n",
        "\n",
        "#tfidf matrix\n",
        "tfidf_matrix=tfidf.fit_transform(df['description'])\n",
        "tfidf_matrix.shape"
      ],
      "metadata": {
        "id": "yBRtdhth6JDE"
      },
      "execution_count": null,
      "outputs": []
    },
    {
      "cell_type": "markdown",
      "source": [
        "##### Which text vectorization technique have you used and why?"
      ],
      "metadata": {
        "id": "qBMux9mC6MCf"
      }
    },
    {
      "cell_type": "markdown",
      "source": [
        "TF-IDF will transform the text into meaningful representation of integers or numbers which is used to fit machine learning algorithm for predictions."
      ],
      "metadata": {
        "id": "su2EnbCh6UKQ"
      }
    },
    {
      "cell_type": "markdown",
      "source": [
        "### 3. Data Scaling :This means that you're transforming your data so that it fits within a specific scale, like 0-100 or 0-1. You want to scale data when you're using methods based on measures of how far apart data points are, like support vector machines (SVM) or k-nearest neighbors (KNN)."
      ],
      "metadata": {
        "id": "rMDnDkt2B6du"
      }
    },
    {
      "cell_type": "code",
      "source": [
        "# Scaling your data\n",
        "x_features=df[['Length(description)','Length(listed_in)']]\n",
        "stdscaler=preprocessing.StandardScaler()\n",
        "x_features.describe()"
      ],
      "metadata": {
        "id": "dL9LWpySC6x_"
      },
      "execution_count": null,
      "outputs": []
    },
    {
      "cell_type": "code",
      "source": [
        "#scaling of data\n",
        "\n",
        "X_rescale=stdscaler.fit_transform(x_features)\n",
        "X=X_rescale\n",
        "silhouette_score_ = [  ]\n",
        "range_n_clusters = [i for i in range(2,16)]"
      ],
      "metadata": {
        "id": "EQnVhbHYS-sN"
      },
      "execution_count": null,
      "outputs": []
    },
    {
      "cell_type": "code",
      "source": [
        "for n_clusters in range_n_clusters:\n",
        "    clusterer = KMeans(n_clusters=n_clusters)\n",
        "    preds = clusterer.fit_predict(X)\n",
        "    centers = clusterer.cluster_centers_\n",
        "\n",
        "    score = silhouette_score(X, preds)\n",
        "    silhouette_score_.append([int(n_clusters) , round(score , 2)])\n",
        "    print(\"For n_clusters = {}, silhouette score is {}\".format(n_clusters, score))"
      ],
      "metadata": {
        "id": "lFEljZ6YXITS"
      },
      "execution_count": null,
      "outputs": []
    },
    {
      "cell_type": "markdown",
      "source": [
        "##### Which method have you used to scale you data and why?"
      ],
      "metadata": {
        "id": "yiiVWRdJDDil"
      }
    },
    {
      "cell_type": "markdown",
      "source": [
        "### 4. Dimesionality Reduction"
      ],
      "metadata": {
        "id": "1UUpS68QDMuG"
      }
    },
    {
      "cell_type": "markdown",
      "source": [
        "##### Do you think that dimensionality reduction is needed? Explain Why?"
      ],
      "metadata": {
        "id": "kexQrXU-DjzY"
      }
    },
    {
      "cell_type": "markdown",
      "source": [
        "Dimension reduction is very important as\n",
        "\n",
        "Fewer features mean less complexity.\n",
        "\n",
        "You will need less storage space because you have fewer data.\n",
        "\n",
        "Fewer features require less computation time.\n",
        "\n",
        "Model accuracy improves due to less misleading data.\n",
        "\n",
        "Algorithms train faster thanks to fewer data.\n",
        "\n",
        "Reducing the data set’s feature dimensions helps visualize the data faster.\n",
        "\n",
        "It removes noise and redundant features."
      ],
      "metadata": {
        "id": "GGRlBsSGDtTQ"
      }
    },
    {
      "cell_type": "code",
      "source": [
        "# DImensionality Reduction (If needed)\n",
        "pca = PCA(random_state=42)\n",
        "pca.fit(X)"
      ],
      "metadata": {
        "id": "kQfvxBBHDvCa"
      },
      "execution_count": null,
      "outputs": []
    },
    {
      "cell_type": "code",
      "source": [
        "# Cumulative explained variance vs number of components\n",
        "plt.figure(figsize=(10,5))\n",
        "plt.plot(np.cumsum(pca.explained_variance_ratio_))\n",
        "plt.title('PCA - Cumulative explained variance vs number of components')\n",
        "plt.xlabel('number of components')\n",
        "plt.ylabel('cumulative explained variance')"
      ],
      "metadata": {
        "id": "ZQCOf0WZX8Cp"
      },
      "execution_count": null,
      "outputs": []
    },
    {
      "cell_type": "code",
      "source": [
        "# Reducing the dimensions using pca\n",
        "pca = PCA(n_components=2,random_state=42)\n",
        "pca.fit(X)\n",
        "x_pca = pca.transform(X)"
      ],
      "metadata": {
        "id": "olj43vcAYISc"
      },
      "execution_count": null,
      "outputs": []
    },
    {
      "cell_type": "code",
      "source": [
        "# Shape of transformed vectors\n",
        "x_pca.shape"
      ],
      "metadata": {
        "id": "-IPVwWV_YNl_"
      },
      "execution_count": null,
      "outputs": []
    },
    {
      "cell_type": "markdown",
      "source": [
        "##### Which dimensionality reduction technique have you used and why? (If dimensionality reduction done on dataset.)"
      ],
      "metadata": {
        "id": "T5CmagL3EC8N"
      }
    },
    {
      "cell_type": "markdown",
      "source": [
        "We have used Principle Component Analysis as the key aim of PCA is to reduce the number of variables of a data set, while preserving as much information as possible."
      ],
      "metadata": {
        "id": "ZKr75IDuEM7t"
      }
    },
    {
      "cell_type": "markdown",
      "source": [
        "## ***7. ML Model Implementation***"
      ],
      "metadata": {
        "id": "VfCC591jGiD4"
      }
    },
    {
      "cell_type": "markdown",
      "source": [
        "### ML Model - 1 ( K means)\n",
        "K-means is an iterative algorithm that splits a dataset into non-overlapping subgroups that are called clusters. The amount of clusters created is determined by the value of k – a hyperparameter that’s chosen before running the algorithm."
      ],
      "metadata": {
        "id": "OB4l2ZhMeS1U"
      }
    },
    {
      "cell_type": "markdown",
      "source": [
        "\n",
        "\n",
        "![k-means-clustering-algorithm-in-machine-learning.png](data:image/png;base64,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)\n"
      ],
      "metadata": {
        "id": "rCggc1xds4gA"
      }
    },
    {
      "cell_type": "markdown",
      "source": [
        "Steps involve:\n",
        " rovide the number of clusters (k) the algorithm must generate.\n",
        "\n",
        "Randomly select k data points and assign each as a centroid of a cluster.\n",
        "\n",
        "Classify data based on these centroids.\n",
        "\n",
        "Compute the centroids of the resulting clusters.\n",
        "\n",
        "Repeat the steps 3 and 4 until you reach a stopping condition.\n"
      ],
      "metadata": {
        "id": "zK-e9SfbtRMT"
      }
    },
    {
      "cell_type": "code",
      "source": [
        "# ML Model - 1 K means\n",
        "k_clusters = 4\n",
        "# Fit the Algorithm\n",
        "model = KMeans(n_clusters=k_clusters, init='k-means++', n_init=10, max_iter=600, tol=0.000001, random_state=42)\n",
        "model.fit(X)\n",
        "# Predict on the model\n",
        "clusters = model.predict(X)"
      ],
      "metadata": {
        "id": "7ebyywQieS1U"
      },
      "execution_count": null,
      "outputs": []
    },
    {
      "cell_type": "code",
      "source": [
        "# Evaluate the silhouette score :\n",
        "score1 = silhouette_score(X, clusters)\n",
        "print(\"Silhouette score is {}\".format(score))"
      ],
      "metadata": {
        "id": "w4xq98nNcbCZ"
      },
      "execution_count": null,
      "outputs": []
    },
    {
      "cell_type": "code",
      "source": [
        "# Adding a seperate column for the clusters L:\n",
        "df[\"Cluster Label\"] = clusters\n",
        "df.head()"
      ],
      "metadata": {
        "id": "zDuK4yscci5e"
      },
      "execution_count": null,
      "outputs": []
    },
    {
      "cell_type": "markdown",
      "source": [
        "#### 1. Explain the ML Model used and it's performance using Evaluation metric Score Chart."
      ],
      "metadata": {
        "id": "ArJBuiUVfxKd"
      }
    },
    {
      "cell_type": "code",
      "source": [
        "# Visualizing evaluation Metric Score chart\n",
        "\n",
        "temp = pd.DataFrame(silhouette_score_ , columns = [\"n clusters\" , \"silhouette score\"])\n",
        "temp = temp.sort_values( \"silhouette score\" , ascending = False )\n",
        "temp.head(15) "
      ],
      "metadata": {
        "id": "rqD5ZohzfxKe"
      },
      "execution_count": null,
      "outputs": []
    },
    {
      "cell_type": "code",
      "source": [
        "range_n_clusters = [i for i in range(2,16)]\n",
        "\n",
        "for n_clusters in range_n_clusters:\n",
        "    # Create a subplot with 1 row and 2 columns :\n",
        "\n",
        "    fig, (ax1, ax2) = plt.subplots(1, 2)\n",
        "    fig.set_size_inches(18, 7)\n",
        "\n",
        "\n",
        "    # The 1st subplot is the silhouette plot\n",
        "    # The silhouette coefficient can range from -1, 1 but in this example all\n",
        "    # lie within [-0.1, 1]\n",
        "\n",
        "    ax1.set_xlim([-0.1, 1])\n",
        "\n",
        "    # The (n_clusters+1)*10 is for inserting blank space between silhouette\n",
        "    # plots of individual clusters, to demarcate them clearly.\n",
        "\n",
        "    ax1.set_ylim([0, len(X) + (n_clusters + 1) * 10])\n",
        "\n",
        "    # Initialize the clusterer with n_clusters value and a random generator\n",
        "    # seed of 10 for reproducibility.\n",
        "\n",
        "    clusterer = KMeans(n_clusters=n_clusters, random_state=42)\n",
        "    cluster_labels = clusterer.fit_predict(X)\n",
        "\n",
        "    # The silhouette_score gives the average value for all the samples.\n",
        "    # This gives a perspective into the density and separation of the formed\n",
        "    # clusters\n",
        "\n",
        "    silhouette_avg = silhouette_score(X, cluster_labels)\n",
        "    print(\"For n_clusters =\", n_clusters,\n",
        "          \"The average silhouette_score is :\", silhouette_avg)\n",
        "    \n",
        "\n",
        "    # Compute the silhouette scores for each sample :\n",
        "\n",
        "    sample_silhouette_values = silhouette_samples(X, cluster_labels)\n",
        "\n",
        "    y_lower = 10\n",
        "    for i in range(n_clusters):\n",
        "        # Aggregate the silhouette scores for samples belonging to\n",
        "        # cluster i, and sort them :\n",
        "\n",
        "        ith_cluster_silhouette_values = \\\n",
        "            sample_silhouette_values[cluster_labels == i]\n",
        "\n",
        "        ith_cluster_silhouette_values.sort()\n",
        "\n",
        "        size_cluster_i = ith_cluster_silhouette_values.shape[0]\n",
        "        y_upper = y_lower + size_cluster_i\n",
        "\n",
        "        color = cm.hsv_r(float(i) / n_clusters)\n",
        "        ax1.fill_betweenx(np.arange(y_lower, y_upper),\n",
        "                          0, ith_cluster_silhouette_values,\n",
        "                          facecolor=color, edgecolor=color, alpha=0.7)\n",
        "\n",
        "        # Label the silhouette plots with their cluster numbers at the middle :\n",
        "\n",
        "        ax1.text(-0.05, y_lower + 0.5 * size_cluster_i, str(i))\n",
        "\n",
        "        # Compute the new y_lower for next plot\n",
        "        y_lower = y_upper + 10  # 10 for the 0 samples\n",
        "    #ax1.set_facecolor(\"white\")\n",
        "    ax1.set_title(\"The silhouette plot for the various clusters.\")\n",
        "    ax1.set_xlabel(\"The silhouette coefficient values\")\n",
        "    ax1.set_ylabel(\"Cluster label\")\n",
        "    ax1.grid(False)\n",
        "\n",
        "    # The vertical line for average silhouette score of all the values :\n",
        "\n",
        "    ax1.axvline(x=silhouette_avg, color=\"red\", linestyle=\"--\")\n",
        "\n",
        "    ax1.set_yticks([])  # Clear the yaxis labels / ticks\n",
        "    ax1.set_xticks([-0.1, 0, 0.2, 0.4, 0.6, 0.8, 1])\n",
        "\n",
        "    # 2nd Plot showing the actual clusters formed :\n",
        "\n",
        "    colors = cm.hsv_r(cluster_labels.astype(float) /n_clusters)\n",
        "    ax2.scatter(X[:, 0], X[:, 1], marker='.', s=30, lw=0, alpha=0.7,\n",
        "                c=colors, edgecolor='k')\n",
        "\n",
        "    # Labeling the clusters :\n",
        "\n",
        "    centers = clusterer.cluster_centers_\n",
        "\n",
        "    # Draw white circles at cluster centers :\n",
        "\n",
        "    ax2.scatter(centers[:, 0], centers[:, 1], marker='o',\n",
        "                c=\"white\", alpha=1, s=200, edgecolor='k')\n",
        "\n",
        "  \n",
        "\n",
        "    ax2.set_title(\"The visualization of the clustered data.\")\n",
        "    ax2.set_xlabel(\"Feature space for the 1st feature\")\n",
        "    ax2.set_ylabel(\"Feature space for the 2nd feature\")\n",
        "    ax2.grid(False)\n",
        "    #ax2.set_facecolor(\"white\") :\n",
        "    \n",
        "    plt.suptitle((\"Silhouette analysis for KMeans clustering on sample data \"\n",
        "                  \"with n_clusters = %d\" % n_clusters),\n",
        "                 fontsize=14, fontweight='bold')\n",
        "\n",
        "plt.show()"
      ],
      "metadata": {
        "id": "qOPviLf_dM4H"
      },
      "execution_count": null,
      "outputs": []
    },
    {
      "cell_type": "markdown",
      "source": [
        "### ML Model - 2 ( Elbow Curve)\n",
        "\n",
        "A fundamental step for any unsupervised algorithm is to determine the optimal number of clusters into which the data may be clustered. The Elbow Method is one of the most popular methods to determine this optimal value of k.To determine the optimal number of clusters, we have to select the value of k at the “elbow” ie the point after which the distortion/inertia start decreasing in a linear fashion. Thus for the given data, we conclude that the optimal number of clusters for the data is 3."
      ],
      "metadata": {
        "id": "dJ2tPlVmpsJ0"
      }
    },
    {
      "cell_type": "markdown",
      "source": [
        "#### 1. Explain the ML Model used and it's performance using Evaluation metric Score Chart."
      ],
      "metadata": {
        "id": "JWYfwnehpsJ1"
      }
    },
    {
      "cell_type": "code",
      "source": [
        "\n",
        "# ML Model - 2 Implementation\n",
        "sum_of_square_dist = {}\n",
        "for k in range(1,15):\n",
        "    km = KMeans(n_clusters= k, init= 'k-means++', max_iter= 1000)\n",
        "    km = km.fit(X)\n",
        "    sum_of_square_dist[k] = km.inertia_\n",
        "    \n",
        "#Plot the graph for the sum of square distance values and Number of Clusters :\n",
        "\n",
        "sns.pointplot(x = list(sum_of_square_dist.keys()), y = list(sum_of_square_dist.values()),color=\"red\")\n",
        "plt.xlabel('Number of Clusters(k)')\n",
        "plt.ylabel('Sum of Square Distances')\n",
        "plt.title('Elbow Method For Optimal k')\n",
        "plt.show()"
      ],
      "metadata": {
        "id": "yEl-hgQWpsJ1"
      },
      "execution_count": null,
      "outputs": []
    },
    {
      "cell_type": "code",
      "source": [
        "# ML Model - 2 Implementation\n",
        "kmeans = KMeans(n_clusters = 6 )\n",
        "# fit the model\n",
        "kmeans.fit(X)\n",
        "# predict on the model\n",
        "y_kmeans= kmeans.predict(X)"
      ],
      "metadata": {
        "id": "hIl9xXLOgIGP"
      },
      "execution_count": null,
      "outputs": []
    },
    {
      "cell_type": "code",
      "source": [
        "# Evaluate the silhouette score :\n",
        "score2 = silhouette_score(X, y_kmeans)\n",
        "print(\"Silhouette score is {}\".format(score))"
      ],
      "metadata": {
        "id": "AH1jOoW4-5Fl"
      },
      "execution_count": null,
      "outputs": []
    },
    {
      "cell_type": "code",
      "source": [
        "# Visualizing evaluation Metric Score chart\n",
        "plt.figure(figsize=(14,10))\n",
        "plt.title('description and listed_in')\n",
        "plt.scatter(X[:, 0], X[:, 1], c=y_kmeans, s=60, cmap='rainbow')\n",
        "plt.grid(color='r')\n",
        "centers = kmeans.cluster_centers_\n",
        "plt.scatter(centers[:, 0], centers[:, 1], c='blue', s=200, alpha=0.5)\n"
      ],
      "metadata": {
        "id": "Dhs3ljfIgOii"
      },
      "execution_count": null,
      "outputs": []
    },
    {
      "cell_type": "markdown",
      "source": [
        "Observation : K-means clustering shows that '4' will be optimum no of clusters with the silhoutte score of 0.45. But we selected Optimum cluster number as 6 after Elbow curve cross validation."
      ],
      "metadata": {
        "id": "Ww1R9E0Uhcbx"
      }
    },
    {
      "cell_type": "markdown",
      "source": [
        "### ML Model - 3( DBSCAN)\n",
        "Clusters are dense regions in the data space, separated by regions of the lower density of points. The DBSCAN algorithm is based on this intuitive notion of “clusters” and “noise”. The key idea is that for each point of a cluster, the neighborhood of a given radius has to contain at least a minimum number of points. "
      ],
      "metadata": {
        "id": "Fze-IPXLpx6K"
      }
    },
    {
      "cell_type": "code",
      "source": [
        "from sklearn.cluster import DBSCAN\n",
        "from sklearn import metrics\n",
        "y_pred = DBSCAN(eps=0.5, min_samples=20).fit_predict(X)\n",
        "plt.figure(figsize=(10,6))\n",
        "plt.grid(color='r')\n",
        "plt.scatter(X[:,0], X[:,1], c=y_pred, cmap='rainbow')"
      ],
      "metadata": {
        "id": "FFrSXAtrpx6M"
      },
      "execution_count": null,
      "outputs": []
    },
    {
      "cell_type": "code",
      "source": [
        "# Evaluate the silhouette score :\n",
        "score3 = silhouette_score(X, y_pred)\n",
        "print(\"Silhouette score is {}\".format(score))"
      ],
      "metadata": {
        "id": "NVkr91ij_SKI"
      },
      "execution_count": null,
      "outputs": []
    },
    {
      "cell_type": "markdown",
      "source": [
        "Observation: DBSCAN algorithm identifies the dense region by grouping together data points that are close to eachother based on distance measurement. we observed that cluster is getting dense towards the centre, and is bit spreaded towards the extreme ends. Thus, it will not be suitable algorithm for clustering studies."
      ],
      "metadata": {
        "id": "Ld12Gt_oi23O"
      }
    },
    {
      "cell_type": "markdown",
      "source": [
        "### ML Model - 4 ( Hierarchical clustering)\n",
        "\n",
        "Hierarchical clustering is a popular method for grouping objects. It creates groups so that objects within a group are similar to each other and different from objects in other groups. Clusters are visually represented in a hierarchical tree called a dendrogram.\n",
        "\n",
        "Hierarchical clustering has a couple of key benefits:\n",
        "\n",
        "There is no need to pre-specify the number of clusters. Instead, the dendrogram can be cut at the appropriate level to obtain the desired number of clusters.\n",
        "Data is easily summarized/organized into a hierarchy using dendrograms. Dendrograms make it easy to examine and interpret clusters."
      ],
      "metadata": {
        "id": "8349Tk17j2EI"
      }
    },
    {
      "cell_type": "code",
      "source": [
        "#  importing sch :\n",
        "plt.figure(figsize=(14,10))\n",
        "plt.style.use('default')\n",
        "sch.set_link_color_palette(['#b30000','#996600', '#b30086'])\n",
        "dendrogram = sch.dendrogram(sch.linkage(X, method = 'ward'),above_threshold_color=\"green\")\n",
        "plt.axhline(y=70, color='r', linestyle='--')\n",
        "# find largest vertical distance we can make without crossing any other horizontal line :\n",
        "plt.title('Dendrogram')\n",
        "plt.xlabel('Content')\n",
        "plt.ylabel('Euclidean Distances')\n",
        "plt.show()"
      ],
      "metadata": {
        "id": "8J8Ew5Tsj-6f"
      },
      "execution_count": null,
      "outputs": []
    },
    {
      "cell_type": "markdown",
      "source": [
        "Observation: Here we can observe 3-4 major clusters and their smilarities."
      ],
      "metadata": {
        "id": "YCz1IomIkI_k"
      }
    },
    {
      "cell_type": "markdown",
      "source": [
        "### ML Model - 5 ( Agglomerative Clustering)\n",
        "\n",
        "Agglomerative Clustering is also known as bottom-up approach or hierarchical agglomerative clustering (HAC). A structure that is more informative than the unstructured set of clusters returned by flat clustering. This clustering algorithm does not require us to prespecify the number of clusters. Bottom-up algorithms treat each data as a singleton cluster at the outset and then successively agglomerates pairs of clusters until all clusters have been merged into a single cluster that contains all data. "
      ],
      "metadata": {
        "id": "mxF1UExUkX5Z"
      }
    },
    {
      "cell_type": "code",
      "source": [
        "# Model 5 implementation\n",
        "from sklearn.cluster import AgglomerativeClustering\n",
        "hc = AgglomerativeClustering(n_clusters = 6, affinity = 'euclidean', linkage = 'ward')\n",
        "# predict on the model\n",
        "y_hc = hc.fit_predict(X)"
      ],
      "metadata": {
        "id": "HKXM_TZFkewQ"
      },
      "execution_count": null,
      "outputs": []
    },
    {
      "cell_type": "code",
      "source": [
        "# Evaluate the silhouette score :\n",
        "score4 = silhouette_score(X, y_hc)\n",
        "print(\"Silhouette score is {}\".format(score))"
      ],
      "metadata": {
        "id": "toW6at4oADpY"
      },
      "execution_count": null,
      "outputs": []
    },
    {
      "cell_type": "code",
      "source": [
        "# Visualizing the clusters :\n",
        "plt.figure(figsize=(14,10))\n",
        "plt.scatter(X[y_hc == 0, 0], X[y_hc == 0, 1], s = 100, c = 'red', label = '1')\n",
        "plt.scatter(X[y_hc == 1, 0], X[y_hc == 1, 1], s = 100, c = 'blue', label = '2')\n",
        "plt.scatter(X[y_hc == 2, 0], X[y_hc == 2, 1], s = 100, c = 'green', label = '3')\n",
        "plt.scatter(X[y_hc == 3, 0], X[y_hc == 3, 1], s = 100, c = 'yellow', label = '4')\n",
        "plt.scatter(X[y_hc == 4, 0], X[y_hc == 4, 1], s = 100, c = 'black', label = '5')\n",
        "plt.scatter(X[y_hc == 5, 0], X[y_hc == 5, 1], s = 100, c = 'pink', label = '6')\n",
        "plt.grid(color='r')\n",
        "plt.title('Clusters of content')\n",
        "plt.legend()\n",
        "plt.show()"
      ],
      "metadata": {
        "id": "xFqluEEvkjIv"
      },
      "execution_count": null,
      "outputs": []
    },
    {
      "cell_type": "code",
      "source": [
        "print(f'The silhaut score of model 1 is {score1} ,model2 is {score2} ,model3 is {score3} and model5 is {score4}')"
      ],
      "metadata": {
        "id": "Fg53TsYe-TQd"
      },
      "execution_count": null,
      "outputs": []
    },
    {
      "cell_type": "markdown",
      "source": [
        "### 1. Which ML model did you choose from the above created models as your final prediction model and why?"
      ],
      "metadata": {
        "id": "cBFFvTBNJzUa"
      }
    },
    {
      "cell_type": "markdown",
      "source": [
        "For final prediction model i preffered to choose ' k-mean mdel' or model 1 .Because the silhaut score  model 1 is high in comparion to other model."
      ],
      "metadata": {
        "id": "6ksF5Q1LKTVm"
      }
    },
    {
      "cell_type": "markdown",
      "source": [
        "## ***8.*** ***Future Work (Optional)***"
      ],
      "metadata": {
        "id": "EyNgTHvd2WFk"
      }
    },
    {
      "cell_type": "markdown",
      "source": [
        "### **Recommendation System**:\n",
        "\n",
        "A recommendation system is an artificial intelligence or AI algorithm, usually associated with machine learning, that uses Big Data to suggest or recommend additional products to consumers. These can be based on various criteria, including past purchases, search history, demographic information, and other factors."
      ],
      "metadata": {
        "id": "mxDL569IkZjn"
      }
    },
    {
      "cell_type": "markdown",
      "source": [
        "![recommend.png](data:image/png;base64,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)"
      ],
      "metadata": {
        "id": "qy6pdVuTvi4z"
      }
    },
    {
      "cell_type": "code",
      "source": [
        "\n",
        "pd.DataFrame(tfidf_matrix[0].T.todense(), columns=[\"tf-idf score\"])\n"
      ],
      "metadata": {
        "id": "wc_c6vlfkdVc"
      },
      "execution_count": null,
      "outputs": []
    },
    {
      "cell_type": "code",
      "source": [
        "#CountVectorizer: Convert a collection of text documents to a matrix of token counts\n",
        "#TfidfTransformer: Transform a count matrix to a normalized tf or tf-idf representation\n",
        "\n",
        "from sklearn.pipeline import Pipeline\n",
        "\n",
        "pipe = Pipeline([('cv', CountVectorizer(stop_words='english')),\n",
        "                ('tfid', TfidfTransformer())]).fit(df['description'])\n",
        "\n",
        "print(\"CountVectorizer_matrix: {}\".format(pipe['cv'].transform(df['description']).toarray()))\n",
        "print(\"CountVectorizer_matrix: {}\".format(pipe['tfid'].idf_))"
      ],
      "metadata": {
        "id": "MAKOIsjakjaZ"
      },
      "execution_count": null,
      "outputs": []
    },
    {
      "cell_type": "code",
      "source": [
        "#The lower the IDF value of a word, the less unique it is to any particular document\n",
        "pd.DataFrame(pipe['tfid'].idf_, columns=['idf_weights'])"
      ],
      "metadata": {
        "id": "LdZQqQsOkl_a"
      },
      "execution_count": null,
      "outputs": []
    },
    {
      "cell_type": "markdown",
      "source": [
        "**Cosine similarity recommender**"
      ],
      "metadata": {
        "id": "U1azEEbdkqrX"
      }
    },
    {
      "cell_type": "code",
      "source": [
        "from sklearn.metrics.pairwise import cosine_similarity\n",
        "cosine_sim = cosine_similarity(tfidf_matrix)"
      ],
      "metadata": {
        "id": "5ZZVWbebkqUb"
      },
      "execution_count": null,
      "outputs": []
    },
    {
      "cell_type": "code",
      "source": [
        "programme_list=df['title'].to_list()"
      ],
      "metadata": {
        "id": "-fLHxYEAkycl"
      },
      "execution_count": null,
      "outputs": []
    },
    {
      "cell_type": "code",
      "source": [
        "def recommend(title, cosine_similarity=cosine_sim):\n",
        "    index = programme_list.index(title)\n",
        "    sim_score = list(enumerate(cosine_sim[index]))\n",
        "    sim_score = sorted(sim_score, key= lambda x: x[1], reverse=True)[1:11] #position 0 is the movie itself, thus exclude\n",
        "    recommend_index = [i[0] for i in sim_score]\n",
        "    rec_movie = df['title'].iloc[recommend_index]\n",
        "    rec_score = [round(i[1],4) for i in sim_score]\n",
        "    rec_table = pd.DataFrame(list(zip(rec_movie,rec_score)), columns=['Recommend programme','Similarity(0-1)'])\n",
        "    return rec_table"
      ],
      "metadata": {
        "id": "5lkFjEsFk1Hq"
      },
      "execution_count": null,
      "outputs": []
    },
    {
      "cell_type": "code",
      "source": [
        "recommend(\"3 Idiots\")"
      ],
      "metadata": {
        "id": "uX8qLcGHk3lu"
      },
      "execution_count": null,
      "outputs": []
    },
    {
      "cell_type": "markdown",
      "source": [
        "Here we can see that algorithm is accuratly recommending College Romance, Engineering girls which was basically theme of 3 idiots. Thus, the cluster is good."
      ],
      "metadata": {
        "id": "06c-NBA3k65r"
      }
    },
    {
      "cell_type": "code",
      "source": [
        "recommend(\"Indiana Jones and the Last Crusade\")"
      ],
      "metadata": {
        "id": "a2e-zMg6k-1u"
      },
      "execution_count": null,
      "outputs": []
    },
    {
      "cell_type": "markdown",
      "source": [
        "Thus, recommendation is also giving smiliar title movies if sequels and prequels are available."
      ],
      "metadata": {
        "id": "h-6GlNJzlFGP"
      }
    },
    {
      "cell_type": "markdown",
      "source": [
        "### ***Congrats! Your model is successfully created and ready for deployment on a live server for a real user interaction !!!***"
      ],
      "metadata": {
        "id": "-Kee-DAl2viO"
      }
    },
    {
      "cell_type": "markdown",
      "source": [
        "# **Conclusion**"
      ],
      "metadata": {
        "id": "gCX9965dhzqZ"
      }
    },
    {
      "cell_type": "markdown",
      "source": [
        "Netflix have ~70% of movies and 30% of TV_shows in 2019.\n",
        "\n",
        "Comedy is most popular genre in Netflix, across all content.\n",
        "\n",
        "Netflix focuses to add new content majorly towards end of current year and start of new year.\n",
        "\n",
        "A sudden drop was obserbed after 2020 in count of new content, Which is because of covid pandemic.\n",
        "\n",
        "India is on 2nd place as compared to content availability, maximum content is available for United states.\n",
        "\n",
        "There are almost ~30% of netflix original movies and ~50 % TV-shows.\n",
        "Content category and countries:\n",
        "\n",
        "Maximum adult content is from Spain.\n",
        "\n",
        "Maximum teen content is from India.\n",
        "\n",
        "Maximum older kids content is from Japan.\n",
        "\n",
        "Maximum kids content is from Canada.\n",
        "\n",
        "All of this insights will be neccesary for business development and SWOT analysis.\n",
        "\n",
        "Conclusion for clustering.\n",
        "\n",
        "We tried 5 models for ML i.e.\n",
        "\n",
        "K-means clustering\n",
        "\n",
        "Elbow curve\n",
        "\n",
        "DBSCAN\n",
        "\n",
        "Hierarchical clustering\n",
        "\n",
        "Agglomerative clustering\n",
        "\n",
        "K-means clustering shows that '4' will be optimum no of clusters with the silhoutte score of 0.45. But we selected Optimum cluster number as 6 after Elbow curve cross validation.\n",
        "\n",
        "Thus K-means clustering will be best for this data set.\n",
        "\n",
        "Cosine based recommender system was working really well."
      ],
      "metadata": {
        "id": "Fjb1IsQkh3yE"
      }
    },
    {
      "cell_type": "markdown",
      "source": [
        "### ***Hurrah! You have successfully completed your Machine Learning Capstone Project !!!***"
      ],
      "metadata": {
        "id": "gIfDvo9L0UH2"
      }
    }
  ]
}